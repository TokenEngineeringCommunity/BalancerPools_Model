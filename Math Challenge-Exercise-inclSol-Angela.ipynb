{
 "cells": [
  {
   "cell_type": "markdown",
   "id": "fundamental-stack",
   "metadata": {},
   "source": [
    "# Balancer Simulations Math Challenge"
   ]
  },
  {
   "cell_type": "markdown",
   "id": "introductory-aspect",
   "metadata": {},
   "source": [
    "This is a series of exercises to gain intuition for the core algorithm in Balancer Pools: the Value Function, and invariant V."
   ]
  },
  {
   "cell_type": "markdown",
   "id": "friendly-halloween",
   "metadata": {},
   "source": [
    "**Exercise:** We'll work on Step 1 questions in our working session on May 25 in teams of 2, facilitated by Octopus and Angela.  \n",
    "**Challenges:** Step 2 will be homework assignments, we'll offer a range challenges, XXX"
   ]
  },
  {
   "cell_type": "markdown",
   "id": "improved-choir",
   "metadata": {},
   "source": [
    "## Exercise:   \n",
    "Let's set up a pool.  \n",
    "\n",
    "We have 100 Token A and 100 Token B, with equal weights.  \n",
    "The price definition in our pool is constraint by the\n",
    "Invariant V in Balancer Pools. \n",
    "\n",
    "a_bal = balance of token A  \n",
    "b_bal = balance of token B  \n",
    "a_weight = weight of token A  \n",
    "b_weight = weight of token B   \n",
    "\n",
    "The weights in this pool are equal for both tokens.\n",
    "For now, we don't have a swap fee."
   ]
  },
  {
   "cell_type": "markdown",
   "id": "bigger-influence",
   "metadata": {},
   "source": [
    "# Q1.1: \n",
    "What's the initial spot price of token A in token B?"
   ]
  },
  {
   "cell_type": "code",
   "execution_count": 33,
   "id": "persistent-tanzania",
   "metadata": {},
   "outputs": [],
   "source": [
    "#The initial spot price is 1:1, 1 token A equals 1 token B."
   ]
  },
  {
   "cell_type": "markdown",
   "id": "controlled-comparison",
   "metadata": {},
   "source": [
    "# Q1.2:\n",
    "Now let's assume a series of 99 swaps. With every swap, **1.0 token A is bought from the pool, against token B**.  \n",
    "\n",
    "**a) Create a table \"buy_A\"** with\n",
    "\n",
    "    the token A balances (swap by swap)\n",
    "    the token B balances (swap by swap) - that are constraint by the value function. \n",
    "\n",
    "**b) What do you notice in general?**\n",
    "Write down your findings (in words).\n",
    "\n",
    "**c) How much would Alice have to pay in token B when buying the first 1.0 token A?**\n",
    "Write down your findings (in words). Compare with the initial Spotprice."
   ]
  },
  {
   "cell_type": "code",
   "execution_count": 2,
   "id": "planned-bernard",
   "metadata": {},
   "outputs": [],
   "source": [
    "import numpy as np\n",
    "import pandas as pd\n",
    "import plotly.express as px\n",
    "import plotly.graph_objects as go\n",
    "from plotly.subplots import make_subplots"
   ]
  },
  {
   "cell_type": "code",
   "execution_count": 31,
   "id": "actual-insight",
   "metadata": {},
   "outputs": [
    {
     "data": {
      "text/html": [
       "<div>\n",
       "<style scoped>\n",
       "    .dataframe tbody tr th:only-of-type {\n",
       "        vertical-align: middle;\n",
       "    }\n",
       "\n",
       "    .dataframe tbody tr th {\n",
       "        vertical-align: top;\n",
       "    }\n",
       "\n",
       "    .dataframe thead th {\n",
       "        text-align: right;\n",
       "    }\n",
       "</style>\n",
       "<table border=\"1\" class=\"dataframe\">\n",
       "  <thead>\n",
       "    <tr style=\"text-align: right;\">\n",
       "      <th></th>\n",
       "      <th>token_A</th>\n",
       "      <th>invariant</th>\n",
       "      <th>token_B</th>\n",
       "    </tr>\n",
       "  </thead>\n",
       "  <tbody>\n",
       "    <tr>\n",
       "      <th>0</th>\n",
       "      <td>100</td>\n",
       "      <td>100.0</td>\n",
       "      <td>100.000000</td>\n",
       "    </tr>\n",
       "    <tr>\n",
       "      <th>1</th>\n",
       "      <td>99</td>\n",
       "      <td>100.0</td>\n",
       "      <td>101.010101</td>\n",
       "    </tr>\n",
       "    <tr>\n",
       "      <th>2</th>\n",
       "      <td>98</td>\n",
       "      <td>100.0</td>\n",
       "      <td>102.040816</td>\n",
       "    </tr>\n",
       "    <tr>\n",
       "      <th>3</th>\n",
       "      <td>97</td>\n",
       "      <td>100.0</td>\n",
       "      <td>103.092784</td>\n",
       "    </tr>\n",
       "    <tr>\n",
       "      <th>4</th>\n",
       "      <td>96</td>\n",
       "      <td>100.0</td>\n",
       "      <td>104.166667</td>\n",
       "    </tr>\n",
       "    <tr>\n",
       "      <th>5</th>\n",
       "      <td>95</td>\n",
       "      <td>100.0</td>\n",
       "      <td>105.263158</td>\n",
       "    </tr>\n",
       "    <tr>\n",
       "      <th>6</th>\n",
       "      <td>94</td>\n",
       "      <td>100.0</td>\n",
       "      <td>106.382979</td>\n",
       "    </tr>\n",
       "    <tr>\n",
       "      <th>7</th>\n",
       "      <td>93</td>\n",
       "      <td>100.0</td>\n",
       "      <td>107.526882</td>\n",
       "    </tr>\n",
       "    <tr>\n",
       "      <th>8</th>\n",
       "      <td>92</td>\n",
       "      <td>100.0</td>\n",
       "      <td>108.695652</td>\n",
       "    </tr>\n",
       "    <tr>\n",
       "      <th>9</th>\n",
       "      <td>91</td>\n",
       "      <td>100.0</td>\n",
       "      <td>109.890110</td>\n",
       "    </tr>\n",
       "    <tr>\n",
       "      <th>10</th>\n",
       "      <td>90</td>\n",
       "      <td>100.0</td>\n",
       "      <td>111.111111</td>\n",
       "    </tr>\n",
       "    <tr>\n",
       "      <th>11</th>\n",
       "      <td>89</td>\n",
       "      <td>100.0</td>\n",
       "      <td>112.359551</td>\n",
       "    </tr>\n",
       "    <tr>\n",
       "      <th>12</th>\n",
       "      <td>88</td>\n",
       "      <td>100.0</td>\n",
       "      <td>113.636364</td>\n",
       "    </tr>\n",
       "    <tr>\n",
       "      <th>13</th>\n",
       "      <td>87</td>\n",
       "      <td>100.0</td>\n",
       "      <td>114.942529</td>\n",
       "    </tr>\n",
       "    <tr>\n",
       "      <th>14</th>\n",
       "      <td>86</td>\n",
       "      <td>100.0</td>\n",
       "      <td>116.279070</td>\n",
       "    </tr>\n",
       "    <tr>\n",
       "      <th>15</th>\n",
       "      <td>85</td>\n",
       "      <td>100.0</td>\n",
       "      <td>117.647059</td>\n",
       "    </tr>\n",
       "    <tr>\n",
       "      <th>16</th>\n",
       "      <td>84</td>\n",
       "      <td>100.0</td>\n",
       "      <td>119.047619</td>\n",
       "    </tr>\n",
       "    <tr>\n",
       "      <th>17</th>\n",
       "      <td>83</td>\n",
       "      <td>100.0</td>\n",
       "      <td>120.481928</td>\n",
       "    </tr>\n",
       "    <tr>\n",
       "      <th>18</th>\n",
       "      <td>82</td>\n",
       "      <td>100.0</td>\n",
       "      <td>121.951220</td>\n",
       "    </tr>\n",
       "    <tr>\n",
       "      <th>19</th>\n",
       "      <td>81</td>\n",
       "      <td>100.0</td>\n",
       "      <td>123.456790</td>\n",
       "    </tr>\n",
       "    <tr>\n",
       "      <th>20</th>\n",
       "      <td>80</td>\n",
       "      <td>100.0</td>\n",
       "      <td>125.000000</td>\n",
       "    </tr>\n",
       "    <tr>\n",
       "      <th>21</th>\n",
       "      <td>79</td>\n",
       "      <td>100.0</td>\n",
       "      <td>126.582278</td>\n",
       "    </tr>\n",
       "    <tr>\n",
       "      <th>22</th>\n",
       "      <td>78</td>\n",
       "      <td>100.0</td>\n",
       "      <td>128.205128</td>\n",
       "    </tr>\n",
       "    <tr>\n",
       "      <th>23</th>\n",
       "      <td>77</td>\n",
       "      <td>100.0</td>\n",
       "      <td>129.870130</td>\n",
       "    </tr>\n",
       "    <tr>\n",
       "      <th>24</th>\n",
       "      <td>76</td>\n",
       "      <td>100.0</td>\n",
       "      <td>131.578947</td>\n",
       "    </tr>\n",
       "    <tr>\n",
       "      <th>25</th>\n",
       "      <td>75</td>\n",
       "      <td>100.0</td>\n",
       "      <td>133.333333</td>\n",
       "    </tr>\n",
       "    <tr>\n",
       "      <th>26</th>\n",
       "      <td>74</td>\n",
       "      <td>100.0</td>\n",
       "      <td>135.135135</td>\n",
       "    </tr>\n",
       "    <tr>\n",
       "      <th>27</th>\n",
       "      <td>73</td>\n",
       "      <td>100.0</td>\n",
       "      <td>136.986301</td>\n",
       "    </tr>\n",
       "    <tr>\n",
       "      <th>28</th>\n",
       "      <td>72</td>\n",
       "      <td>100.0</td>\n",
       "      <td>138.888889</td>\n",
       "    </tr>\n",
       "    <tr>\n",
       "      <th>29</th>\n",
       "      <td>71</td>\n",
       "      <td>100.0</td>\n",
       "      <td>140.845070</td>\n",
       "    </tr>\n",
       "    <tr>\n",
       "      <th>30</th>\n",
       "      <td>70</td>\n",
       "      <td>100.0</td>\n",
       "      <td>142.857143</td>\n",
       "    </tr>\n",
       "    <tr>\n",
       "      <th>31</th>\n",
       "      <td>69</td>\n",
       "      <td>100.0</td>\n",
       "      <td>144.927536</td>\n",
       "    </tr>\n",
       "    <tr>\n",
       "      <th>32</th>\n",
       "      <td>68</td>\n",
       "      <td>100.0</td>\n",
       "      <td>147.058824</td>\n",
       "    </tr>\n",
       "    <tr>\n",
       "      <th>33</th>\n",
       "      <td>67</td>\n",
       "      <td>100.0</td>\n",
       "      <td>149.253731</td>\n",
       "    </tr>\n",
       "    <tr>\n",
       "      <th>34</th>\n",
       "      <td>66</td>\n",
       "      <td>100.0</td>\n",
       "      <td>151.515152</td>\n",
       "    </tr>\n",
       "    <tr>\n",
       "      <th>35</th>\n",
       "      <td>65</td>\n",
       "      <td>100.0</td>\n",
       "      <td>153.846154</td>\n",
       "    </tr>\n",
       "    <tr>\n",
       "      <th>36</th>\n",
       "      <td>64</td>\n",
       "      <td>100.0</td>\n",
       "      <td>156.250000</td>\n",
       "    </tr>\n",
       "    <tr>\n",
       "      <th>37</th>\n",
       "      <td>63</td>\n",
       "      <td>100.0</td>\n",
       "      <td>158.730159</td>\n",
       "    </tr>\n",
       "    <tr>\n",
       "      <th>38</th>\n",
       "      <td>62</td>\n",
       "      <td>100.0</td>\n",
       "      <td>161.290323</td>\n",
       "    </tr>\n",
       "    <tr>\n",
       "      <th>39</th>\n",
       "      <td>61</td>\n",
       "      <td>100.0</td>\n",
       "      <td>163.934426</td>\n",
       "    </tr>\n",
       "    <tr>\n",
       "      <th>40</th>\n",
       "      <td>60</td>\n",
       "      <td>100.0</td>\n",
       "      <td>166.666667</td>\n",
       "    </tr>\n",
       "    <tr>\n",
       "      <th>41</th>\n",
       "      <td>59</td>\n",
       "      <td>100.0</td>\n",
       "      <td>169.491525</td>\n",
       "    </tr>\n",
       "    <tr>\n",
       "      <th>42</th>\n",
       "      <td>58</td>\n",
       "      <td>100.0</td>\n",
       "      <td>172.413793</td>\n",
       "    </tr>\n",
       "    <tr>\n",
       "      <th>43</th>\n",
       "      <td>57</td>\n",
       "      <td>100.0</td>\n",
       "      <td>175.438596</td>\n",
       "    </tr>\n",
       "    <tr>\n",
       "      <th>44</th>\n",
       "      <td>56</td>\n",
       "      <td>100.0</td>\n",
       "      <td>178.571429</td>\n",
       "    </tr>\n",
       "    <tr>\n",
       "      <th>45</th>\n",
       "      <td>55</td>\n",
       "      <td>100.0</td>\n",
       "      <td>181.818182</td>\n",
       "    </tr>\n",
       "    <tr>\n",
       "      <th>46</th>\n",
       "      <td>54</td>\n",
       "      <td>100.0</td>\n",
       "      <td>185.185185</td>\n",
       "    </tr>\n",
       "    <tr>\n",
       "      <th>47</th>\n",
       "      <td>53</td>\n",
       "      <td>100.0</td>\n",
       "      <td>188.679245</td>\n",
       "    </tr>\n",
       "    <tr>\n",
       "      <th>48</th>\n",
       "      <td>52</td>\n",
       "      <td>100.0</td>\n",
       "      <td>192.307692</td>\n",
       "    </tr>\n",
       "    <tr>\n",
       "      <th>49</th>\n",
       "      <td>51</td>\n",
       "      <td>100.0</td>\n",
       "      <td>196.078431</td>\n",
       "    </tr>\n",
       "    <tr>\n",
       "      <th>50</th>\n",
       "      <td>50</td>\n",
       "      <td>100.0</td>\n",
       "      <td>200.000000</td>\n",
       "    </tr>\n",
       "    <tr>\n",
       "      <th>51</th>\n",
       "      <td>49</td>\n",
       "      <td>100.0</td>\n",
       "      <td>204.081633</td>\n",
       "    </tr>\n",
       "    <tr>\n",
       "      <th>52</th>\n",
       "      <td>48</td>\n",
       "      <td>100.0</td>\n",
       "      <td>208.333333</td>\n",
       "    </tr>\n",
       "    <tr>\n",
       "      <th>53</th>\n",
       "      <td>47</td>\n",
       "      <td>100.0</td>\n",
       "      <td>212.765957</td>\n",
       "    </tr>\n",
       "    <tr>\n",
       "      <th>54</th>\n",
       "      <td>46</td>\n",
       "      <td>100.0</td>\n",
       "      <td>217.391304</td>\n",
       "    </tr>\n",
       "    <tr>\n",
       "      <th>55</th>\n",
       "      <td>45</td>\n",
       "      <td>100.0</td>\n",
       "      <td>222.222222</td>\n",
       "    </tr>\n",
       "    <tr>\n",
       "      <th>56</th>\n",
       "      <td>44</td>\n",
       "      <td>100.0</td>\n",
       "      <td>227.272727</td>\n",
       "    </tr>\n",
       "    <tr>\n",
       "      <th>57</th>\n",
       "      <td>43</td>\n",
       "      <td>100.0</td>\n",
       "      <td>232.558140</td>\n",
       "    </tr>\n",
       "    <tr>\n",
       "      <th>58</th>\n",
       "      <td>42</td>\n",
       "      <td>100.0</td>\n",
       "      <td>238.095238</td>\n",
       "    </tr>\n",
       "    <tr>\n",
       "      <th>59</th>\n",
       "      <td>41</td>\n",
       "      <td>100.0</td>\n",
       "      <td>243.902439</td>\n",
       "    </tr>\n",
       "  </tbody>\n",
       "</table>\n",
       "</div>"
      ],
      "text/plain": [
       "    token_A  invariant     token_B\n",
       "0       100      100.0  100.000000\n",
       "1        99      100.0  101.010101\n",
       "2        98      100.0  102.040816\n",
       "3        97      100.0  103.092784\n",
       "4        96      100.0  104.166667\n",
       "5        95      100.0  105.263158\n",
       "6        94      100.0  106.382979\n",
       "7        93      100.0  107.526882\n",
       "8        92      100.0  108.695652\n",
       "9        91      100.0  109.890110\n",
       "10       90      100.0  111.111111\n",
       "11       89      100.0  112.359551\n",
       "12       88      100.0  113.636364\n",
       "13       87      100.0  114.942529\n",
       "14       86      100.0  116.279070\n",
       "15       85      100.0  117.647059\n",
       "16       84      100.0  119.047619\n",
       "17       83      100.0  120.481928\n",
       "18       82      100.0  121.951220\n",
       "19       81      100.0  123.456790\n",
       "20       80      100.0  125.000000\n",
       "21       79      100.0  126.582278\n",
       "22       78      100.0  128.205128\n",
       "23       77      100.0  129.870130\n",
       "24       76      100.0  131.578947\n",
       "25       75      100.0  133.333333\n",
       "26       74      100.0  135.135135\n",
       "27       73      100.0  136.986301\n",
       "28       72      100.0  138.888889\n",
       "29       71      100.0  140.845070\n",
       "30       70      100.0  142.857143\n",
       "31       69      100.0  144.927536\n",
       "32       68      100.0  147.058824\n",
       "33       67      100.0  149.253731\n",
       "34       66      100.0  151.515152\n",
       "35       65      100.0  153.846154\n",
       "36       64      100.0  156.250000\n",
       "37       63      100.0  158.730159\n",
       "38       62      100.0  161.290323\n",
       "39       61      100.0  163.934426\n",
       "40       60      100.0  166.666667\n",
       "41       59      100.0  169.491525\n",
       "42       58      100.0  172.413793\n",
       "43       57      100.0  175.438596\n",
       "44       56      100.0  178.571429\n",
       "45       55      100.0  181.818182\n",
       "46       54      100.0  185.185185\n",
       "47       53      100.0  188.679245\n",
       "48       52      100.0  192.307692\n",
       "49       51      100.0  196.078431\n",
       "50       50      100.0  200.000000\n",
       "51       49      100.0  204.081633\n",
       "52       48      100.0  208.333333\n",
       "53       47      100.0  212.765957\n",
       "54       46      100.0  217.391304\n",
       "55       45      100.0  222.222222\n",
       "56       44      100.0  227.272727\n",
       "57       43      100.0  232.558140\n",
       "58       42      100.0  238.095238\n",
       "59       41      100.0  243.902439"
      ]
     },
     "execution_count": 31,
     "metadata": {},
     "output_type": "execute_result"
    }
   ],
   "source": [
    "#set up genesis state\n",
    "a_bal = 100 # initial balance\n",
    "b_bal = 100 # initial balance\n",
    "a_weight = 0.5 #define weight\n",
    "b_weight = 0.5 #define weight\n",
    "s_f = 0.0 #swap fee\n",
    "inv = (a_bal**a_weight)*(b_bal**b_weight) #calculate invariant\n",
    "a_vals = pd.Series(range(100,0,-1))\n",
    "#create dataframe with based on a_vals\n",
    "buy_A = pd.DataFrame(a_vals, columns=['token_A'])\n",
    "buy_A['invariant'] = inv #value required to calculate token B value\n",
    "\n",
    "#create values for plot, add Y_balances according to current invariant\n",
    "buy_A['token_B'] = (buy_A.invariant/(buy_A.token_A**a_weight))**(1/b_weight)# calculate corresponding token_B value according to invariant\n",
    "\n",
    "buy_A.head(60)"
   ]
  },
  {
   "cell_type": "code",
   "execution_count": 32,
   "id": "raised-uganda",
   "metadata": {},
   "outputs": [
    {
     "name": "stdout",
     "output_type": "stream",
     "text": [
      "a) for example: for the first 1 token A bought, Alice would have to pay 1 token B. If Alice buys the 50st token A, she would have to pay 100 token B. This is a 100x increase!\n",
      "c) the initial spot price is 1.0, however Alice has to pay 1.01010101 for the first token A! Apply \"In-Given-Out\" trading formula from the whitepaper!\n"
     ]
    }
   ],
   "source": [
    "print('b) for example: for the first 1 token A bought, Alice would have to pay 1 token B. If Alice buys 50 token A, she would have to pay 100 token B or 2 tokens B for 1 token A. This is a 100% price increase!')\n",
    "print('b) for example: for the first 1 token A bought, Alice would have to pay 1 token B. For the 50st token A, she would have to pay 4.081633 (204.081633-200) token B. This is a 400% increase!')\n",
    "print('c) the initial spot price is 1.0, however Alice has to pay 1.01010101 for the first token A! Apply \"In-Given-Out\" trading formula from the whitepaper!')"
   ]
  },
  {
   "cell_type": "markdown",
   "id": "responsible-think",
   "metadata": {},
   "source": [
    "# Q1.3:\n",
    "\n",
    "Now let's assume a series of 99 swaps in the opposite direction. We start again with the original state: We have 100 Token A and 100 Token B.   \n",
    "With every swap, **1.0 token B is bought from the pool, against token A**.\n",
    "\n",
    "Create a table **'buy_B'** with\n",
    "\n",
    "    the token A balances (swap by swap)\n",
    "    the token B balances (swap by swap) - that are constraint by the value function."
   ]
  },
  {
   "cell_type": "code",
   "execution_count": 34,
   "id": "christian-stock",
   "metadata": {},
   "outputs": [
    {
     "data": {
      "text/html": [
       "<div>\n",
       "<style scoped>\n",
       "    .dataframe tbody tr th:only-of-type {\n",
       "        vertical-align: middle;\n",
       "    }\n",
       "\n",
       "    .dataframe tbody tr th {\n",
       "        vertical-align: top;\n",
       "    }\n",
       "\n",
       "    .dataframe thead th {\n",
       "        text-align: right;\n",
       "    }\n",
       "</style>\n",
       "<table border=\"1\" class=\"dataframe\">\n",
       "  <thead>\n",
       "    <tr style=\"text-align: right;\">\n",
       "      <th></th>\n",
       "      <th>token_B</th>\n",
       "      <th>invariant</th>\n",
       "      <th>token_A</th>\n",
       "    </tr>\n",
       "  </thead>\n",
       "  <tbody>\n",
       "    <tr>\n",
       "      <th>50</th>\n",
       "      <td>50</td>\n",
       "      <td>100.0</td>\n",
       "      <td>200.000000</td>\n",
       "    </tr>\n",
       "    <tr>\n",
       "      <th>51</th>\n",
       "      <td>49</td>\n",
       "      <td>100.0</td>\n",
       "      <td>204.081633</td>\n",
       "    </tr>\n",
       "    <tr>\n",
       "      <th>52</th>\n",
       "      <td>48</td>\n",
       "      <td>100.0</td>\n",
       "      <td>208.333333</td>\n",
       "    </tr>\n",
       "    <tr>\n",
       "      <th>53</th>\n",
       "      <td>47</td>\n",
       "      <td>100.0</td>\n",
       "      <td>212.765957</td>\n",
       "    </tr>\n",
       "    <tr>\n",
       "      <th>54</th>\n",
       "      <td>46</td>\n",
       "      <td>100.0</td>\n",
       "      <td>217.391304</td>\n",
       "    </tr>\n",
       "    <tr>\n",
       "      <th>55</th>\n",
       "      <td>45</td>\n",
       "      <td>100.0</td>\n",
       "      <td>222.222222</td>\n",
       "    </tr>\n",
       "    <tr>\n",
       "      <th>56</th>\n",
       "      <td>44</td>\n",
       "      <td>100.0</td>\n",
       "      <td>227.272727</td>\n",
       "    </tr>\n",
       "    <tr>\n",
       "      <th>57</th>\n",
       "      <td>43</td>\n",
       "      <td>100.0</td>\n",
       "      <td>232.558140</td>\n",
       "    </tr>\n",
       "    <tr>\n",
       "      <th>58</th>\n",
       "      <td>42</td>\n",
       "      <td>100.0</td>\n",
       "      <td>238.095238</td>\n",
       "    </tr>\n",
       "    <tr>\n",
       "      <th>59</th>\n",
       "      <td>41</td>\n",
       "      <td>100.0</td>\n",
       "      <td>243.902439</td>\n",
       "    </tr>\n",
       "    <tr>\n",
       "      <th>60</th>\n",
       "      <td>40</td>\n",
       "      <td>100.0</td>\n",
       "      <td>250.000000</td>\n",
       "    </tr>\n",
       "    <tr>\n",
       "      <th>61</th>\n",
       "      <td>39</td>\n",
       "      <td>100.0</td>\n",
       "      <td>256.410256</td>\n",
       "    </tr>\n",
       "    <tr>\n",
       "      <th>62</th>\n",
       "      <td>38</td>\n",
       "      <td>100.0</td>\n",
       "      <td>263.157895</td>\n",
       "    </tr>\n",
       "    <tr>\n",
       "      <th>63</th>\n",
       "      <td>37</td>\n",
       "      <td>100.0</td>\n",
       "      <td>270.270270</td>\n",
       "    </tr>\n",
       "    <tr>\n",
       "      <th>64</th>\n",
       "      <td>36</td>\n",
       "      <td>100.0</td>\n",
       "      <td>277.777778</td>\n",
       "    </tr>\n",
       "    <tr>\n",
       "      <th>65</th>\n",
       "      <td>35</td>\n",
       "      <td>100.0</td>\n",
       "      <td>285.714286</td>\n",
       "    </tr>\n",
       "    <tr>\n",
       "      <th>66</th>\n",
       "      <td>34</td>\n",
       "      <td>100.0</td>\n",
       "      <td>294.117647</td>\n",
       "    </tr>\n",
       "    <tr>\n",
       "      <th>67</th>\n",
       "      <td>33</td>\n",
       "      <td>100.0</td>\n",
       "      <td>303.030303</td>\n",
       "    </tr>\n",
       "    <tr>\n",
       "      <th>68</th>\n",
       "      <td>32</td>\n",
       "      <td>100.0</td>\n",
       "      <td>312.500000</td>\n",
       "    </tr>\n",
       "    <tr>\n",
       "      <th>69</th>\n",
       "      <td>31</td>\n",
       "      <td>100.0</td>\n",
       "      <td>322.580645</td>\n",
       "    </tr>\n",
       "    <tr>\n",
       "      <th>70</th>\n",
       "      <td>30</td>\n",
       "      <td>100.0</td>\n",
       "      <td>333.333333</td>\n",
       "    </tr>\n",
       "    <tr>\n",
       "      <th>71</th>\n",
       "      <td>29</td>\n",
       "      <td>100.0</td>\n",
       "      <td>344.827586</td>\n",
       "    </tr>\n",
       "    <tr>\n",
       "      <th>72</th>\n",
       "      <td>28</td>\n",
       "      <td>100.0</td>\n",
       "      <td>357.142857</td>\n",
       "    </tr>\n",
       "    <tr>\n",
       "      <th>73</th>\n",
       "      <td>27</td>\n",
       "      <td>100.0</td>\n",
       "      <td>370.370370</td>\n",
       "    </tr>\n",
       "    <tr>\n",
       "      <th>74</th>\n",
       "      <td>26</td>\n",
       "      <td>100.0</td>\n",
       "      <td>384.615385</td>\n",
       "    </tr>\n",
       "    <tr>\n",
       "      <th>75</th>\n",
       "      <td>25</td>\n",
       "      <td>100.0</td>\n",
       "      <td>400.000000</td>\n",
       "    </tr>\n",
       "    <tr>\n",
       "      <th>76</th>\n",
       "      <td>24</td>\n",
       "      <td>100.0</td>\n",
       "      <td>416.666667</td>\n",
       "    </tr>\n",
       "    <tr>\n",
       "      <th>77</th>\n",
       "      <td>23</td>\n",
       "      <td>100.0</td>\n",
       "      <td>434.782609</td>\n",
       "    </tr>\n",
       "    <tr>\n",
       "      <th>78</th>\n",
       "      <td>22</td>\n",
       "      <td>100.0</td>\n",
       "      <td>454.545455</td>\n",
       "    </tr>\n",
       "    <tr>\n",
       "      <th>79</th>\n",
       "      <td>21</td>\n",
       "      <td>100.0</td>\n",
       "      <td>476.190476</td>\n",
       "    </tr>\n",
       "    <tr>\n",
       "      <th>80</th>\n",
       "      <td>20</td>\n",
       "      <td>100.0</td>\n",
       "      <td>500.000000</td>\n",
       "    </tr>\n",
       "    <tr>\n",
       "      <th>81</th>\n",
       "      <td>19</td>\n",
       "      <td>100.0</td>\n",
       "      <td>526.315789</td>\n",
       "    </tr>\n",
       "    <tr>\n",
       "      <th>82</th>\n",
       "      <td>18</td>\n",
       "      <td>100.0</td>\n",
       "      <td>555.555556</td>\n",
       "    </tr>\n",
       "    <tr>\n",
       "      <th>83</th>\n",
       "      <td>17</td>\n",
       "      <td>100.0</td>\n",
       "      <td>588.235294</td>\n",
       "    </tr>\n",
       "    <tr>\n",
       "      <th>84</th>\n",
       "      <td>16</td>\n",
       "      <td>100.0</td>\n",
       "      <td>625.000000</td>\n",
       "    </tr>\n",
       "    <tr>\n",
       "      <th>85</th>\n",
       "      <td>15</td>\n",
       "      <td>100.0</td>\n",
       "      <td>666.666667</td>\n",
       "    </tr>\n",
       "    <tr>\n",
       "      <th>86</th>\n",
       "      <td>14</td>\n",
       "      <td>100.0</td>\n",
       "      <td>714.285714</td>\n",
       "    </tr>\n",
       "    <tr>\n",
       "      <th>87</th>\n",
       "      <td>13</td>\n",
       "      <td>100.0</td>\n",
       "      <td>769.230769</td>\n",
       "    </tr>\n",
       "    <tr>\n",
       "      <th>88</th>\n",
       "      <td>12</td>\n",
       "      <td>100.0</td>\n",
       "      <td>833.333333</td>\n",
       "    </tr>\n",
       "    <tr>\n",
       "      <th>89</th>\n",
       "      <td>11</td>\n",
       "      <td>100.0</td>\n",
       "      <td>909.090909</td>\n",
       "    </tr>\n",
       "    <tr>\n",
       "      <th>90</th>\n",
       "      <td>10</td>\n",
       "      <td>100.0</td>\n",
       "      <td>1000.000000</td>\n",
       "    </tr>\n",
       "    <tr>\n",
       "      <th>91</th>\n",
       "      <td>9</td>\n",
       "      <td>100.0</td>\n",
       "      <td>1111.111111</td>\n",
       "    </tr>\n",
       "    <tr>\n",
       "      <th>92</th>\n",
       "      <td>8</td>\n",
       "      <td>100.0</td>\n",
       "      <td>1250.000000</td>\n",
       "    </tr>\n",
       "    <tr>\n",
       "      <th>93</th>\n",
       "      <td>7</td>\n",
       "      <td>100.0</td>\n",
       "      <td>1428.571429</td>\n",
       "    </tr>\n",
       "    <tr>\n",
       "      <th>94</th>\n",
       "      <td>6</td>\n",
       "      <td>100.0</td>\n",
       "      <td>1666.666667</td>\n",
       "    </tr>\n",
       "    <tr>\n",
       "      <th>95</th>\n",
       "      <td>5</td>\n",
       "      <td>100.0</td>\n",
       "      <td>2000.000000</td>\n",
       "    </tr>\n",
       "    <tr>\n",
       "      <th>96</th>\n",
       "      <td>4</td>\n",
       "      <td>100.0</td>\n",
       "      <td>2500.000000</td>\n",
       "    </tr>\n",
       "    <tr>\n",
       "      <th>97</th>\n",
       "      <td>3</td>\n",
       "      <td>100.0</td>\n",
       "      <td>3333.333333</td>\n",
       "    </tr>\n",
       "    <tr>\n",
       "      <th>98</th>\n",
       "      <td>2</td>\n",
       "      <td>100.0</td>\n",
       "      <td>5000.000000</td>\n",
       "    </tr>\n",
       "    <tr>\n",
       "      <th>99</th>\n",
       "      <td>1</td>\n",
       "      <td>100.0</td>\n",
       "      <td>10000.000000</td>\n",
       "    </tr>\n",
       "  </tbody>\n",
       "</table>\n",
       "</div>"
      ],
      "text/plain": [
       "    token_B  invariant       token_A\n",
       "50       50      100.0    200.000000\n",
       "51       49      100.0    204.081633\n",
       "52       48      100.0    208.333333\n",
       "53       47      100.0    212.765957\n",
       "54       46      100.0    217.391304\n",
       "55       45      100.0    222.222222\n",
       "56       44      100.0    227.272727\n",
       "57       43      100.0    232.558140\n",
       "58       42      100.0    238.095238\n",
       "59       41      100.0    243.902439\n",
       "60       40      100.0    250.000000\n",
       "61       39      100.0    256.410256\n",
       "62       38      100.0    263.157895\n",
       "63       37      100.0    270.270270\n",
       "64       36      100.0    277.777778\n",
       "65       35      100.0    285.714286\n",
       "66       34      100.0    294.117647\n",
       "67       33      100.0    303.030303\n",
       "68       32      100.0    312.500000\n",
       "69       31      100.0    322.580645\n",
       "70       30      100.0    333.333333\n",
       "71       29      100.0    344.827586\n",
       "72       28      100.0    357.142857\n",
       "73       27      100.0    370.370370\n",
       "74       26      100.0    384.615385\n",
       "75       25      100.0    400.000000\n",
       "76       24      100.0    416.666667\n",
       "77       23      100.0    434.782609\n",
       "78       22      100.0    454.545455\n",
       "79       21      100.0    476.190476\n",
       "80       20      100.0    500.000000\n",
       "81       19      100.0    526.315789\n",
       "82       18      100.0    555.555556\n",
       "83       17      100.0    588.235294\n",
       "84       16      100.0    625.000000\n",
       "85       15      100.0    666.666667\n",
       "86       14      100.0    714.285714\n",
       "87       13      100.0    769.230769\n",
       "88       12      100.0    833.333333\n",
       "89       11      100.0    909.090909\n",
       "90       10      100.0   1000.000000\n",
       "91        9      100.0   1111.111111\n",
       "92        8      100.0   1250.000000\n",
       "93        7      100.0   1428.571429\n",
       "94        6      100.0   1666.666667\n",
       "95        5      100.0   2000.000000\n",
       "96        4      100.0   2500.000000\n",
       "97        3      100.0   3333.333333\n",
       "98        2      100.0   5000.000000\n",
       "99        1      100.0  10000.000000"
      ]
     },
     "execution_count": 34,
     "metadata": {},
     "output_type": "execute_result"
    }
   ],
   "source": [
    "#Buy B\n",
    "\n",
    "b_vals = pd.Series(range(100,0,-1))\n",
    "#create dataframe with based on b_vals\n",
    "buy_B = pd.DataFrame(b_vals, columns=['token_B'])\n",
    "buy_B['invariant'] = inv #value required to calculate token B value\n",
    "\n",
    "#create values for plot, add a_balances according to current invariant\n",
    "buy_B['token_A'] = (buy_B.invariant/(buy_B.token_B**b_weight))**(1/a_weight)# calculate corresponding token A value according to invariant\n",
    "\n",
    "buy_B.tail(50)"
   ]
  },
  {
   "cell_type": "markdown",
   "id": "controversial-approval",
   "metadata": {},
   "source": [
    "# Q1.4:\n",
    "What is the new price of token A in token B after 90 swaps token A for B?"
   ]
  },
  {
   "cell_type": "code",
   "execution_count": 5,
   "id": "qualified-brother",
   "metadata": {},
   "outputs": [],
   "source": [
    "###take from table, or calculate with Value Function"
   ]
  },
  {
   "cell_type": "markdown",
   "id": "mediterranean-hotel",
   "metadata": {},
   "source": [
    "# Q1.5:  \n",
    "Now create a graph (use plotly or similar), and draw the full curve for this series of both kinds of swaps - the AMM curve."
   ]
  },
  {
   "cell_type": "code",
   "execution_count": 6,
   "id": "super-letter",
   "metadata": {},
   "outputs": [
    {
     "data": {
      "text/html": [
       "<div>\n",
       "<style scoped>\n",
       "    .dataframe tbody tr th:only-of-type {\n",
       "        vertical-align: middle;\n",
       "    }\n",
       "\n",
       "    .dataframe tbody tr th {\n",
       "        vertical-align: top;\n",
       "    }\n",
       "\n",
       "    .dataframe thead th {\n",
       "        text-align: right;\n",
       "    }\n",
       "</style>\n",
       "<table border=\"1\" class=\"dataframe\">\n",
       "  <thead>\n",
       "    <tr style=\"text-align: right;\">\n",
       "      <th></th>\n",
       "      <th>token_A</th>\n",
       "      <th>invariant</th>\n",
       "      <th>token_B</th>\n",
       "    </tr>\n",
       "  </thead>\n",
       "  <tbody>\n",
       "    <tr>\n",
       "      <th>0</th>\n",
       "      <td>1</td>\n",
       "      <td>100.0</td>\n",
       "      <td>10000.000000</td>\n",
       "    </tr>\n",
       "    <tr>\n",
       "      <th>1</th>\n",
       "      <td>2</td>\n",
       "      <td>100.0</td>\n",
       "      <td>5000.000000</td>\n",
       "    </tr>\n",
       "    <tr>\n",
       "      <th>2</th>\n",
       "      <td>3</td>\n",
       "      <td>100.0</td>\n",
       "      <td>3333.333333</td>\n",
       "    </tr>\n",
       "    <tr>\n",
       "      <th>3</th>\n",
       "      <td>4</td>\n",
       "      <td>100.0</td>\n",
       "      <td>2500.000000</td>\n",
       "    </tr>\n",
       "    <tr>\n",
       "      <th>4</th>\n",
       "      <td>5</td>\n",
       "      <td>100.0</td>\n",
       "      <td>2000.000000</td>\n",
       "    </tr>\n",
       "    <tr>\n",
       "      <th>...</th>\n",
       "      <td>...</td>\n",
       "      <td>...</td>\n",
       "      <td>...</td>\n",
       "    </tr>\n",
       "    <tr>\n",
       "      <th>95</th>\n",
       "      <td>96</td>\n",
       "      <td>100.0</td>\n",
       "      <td>104.166667</td>\n",
       "    </tr>\n",
       "    <tr>\n",
       "      <th>96</th>\n",
       "      <td>97</td>\n",
       "      <td>100.0</td>\n",
       "      <td>103.092784</td>\n",
       "    </tr>\n",
       "    <tr>\n",
       "      <th>97</th>\n",
       "      <td>98</td>\n",
       "      <td>100.0</td>\n",
       "      <td>102.040816</td>\n",
       "    </tr>\n",
       "    <tr>\n",
       "      <th>98</th>\n",
       "      <td>99</td>\n",
       "      <td>100.0</td>\n",
       "      <td>101.010101</td>\n",
       "    </tr>\n",
       "    <tr>\n",
       "      <th>99</th>\n",
       "      <td>100</td>\n",
       "      <td>100.0</td>\n",
       "      <td>100.000000</td>\n",
       "    </tr>\n",
       "  </tbody>\n",
       "</table>\n",
       "<p>100 rows × 3 columns</p>\n",
       "</div>"
      ],
      "text/plain": [
       "    token_A  invariant       token_B\n",
       "0         1      100.0  10000.000000\n",
       "1         2      100.0   5000.000000\n",
       "2         3      100.0   3333.333333\n",
       "3         4      100.0   2500.000000\n",
       "4         5      100.0   2000.000000\n",
       "..      ...        ...           ...\n",
       "95       96      100.0    104.166667\n",
       "96       97      100.0    103.092784\n",
       "97       98      100.0    102.040816\n",
       "98       99      100.0    101.010101\n",
       "99      100      100.0    100.000000\n",
       "\n",
       "[100 rows x 3 columns]"
      ]
     },
     "execution_count": 6,
     "metadata": {},
     "output_type": "execute_result"
    }
   ],
   "source": [
    "buy_A"
   ]
  },
  {
   "cell_type": "code",
   "execution_count": 27,
   "id": "endangered-ending",
   "metadata": {},
   "outputs": [
    {
     "data": {
      "application/vnd.plotly.v1+json": {
       "config": {
        "plotlyServerURL": "https://plot.ly"
       },
       "data": [
        {
         "hovertemplate": "token_A=%{x}<br>token_B=%{y}<extra></extra>",
         "legendgroup": "",
         "line": {
          "color": "#30123b",
          "dash": "solid"
         },
         "mode": "lines",
         "name": "",
         "orientation": "v",
         "showlegend": false,
         "type": "scatter",
         "x": [
          100,
          99,
          98,
          97,
          96,
          95,
          94,
          93,
          92,
          91,
          90,
          89,
          88,
          87,
          86,
          85,
          84,
          83,
          82,
          81,
          80,
          79,
          78,
          77,
          76,
          75,
          74,
          73,
          72,
          71,
          70,
          69,
          68,
          67,
          66,
          65,
          64,
          63,
          62,
          61,
          60,
          59,
          58,
          57,
          56,
          55,
          54,
          53,
          52,
          51,
          50,
          49,
          48,
          47,
          46,
          45,
          44,
          43,
          42,
          41,
          40,
          39,
          38,
          37,
          36,
          35,
          34,
          33,
          32,
          31,
          30,
          29,
          28,
          27,
          26,
          25,
          24,
          23,
          22,
          21,
          20,
          19,
          18,
          17,
          16,
          15,
          14,
          13,
          12,
          11,
          10,
          9,
          8,
          7,
          6,
          5,
          4,
          3,
          2,
          1,
          100,
          101.01010101010101,
          102.0408163265306,
          103.09278350515464,
          104.16666666666669,
          105.26315789473686,
          106.38297872340425,
          107.5268817204301,
          108.69565217391307,
          109.89010989010991,
          111.1111111111111,
          112.35955056179779,
          113.63636363636363,
          114.94252873563217,
          116.27906976744187,
          117.6470588235294,
          119.04761904761908,
          120.48192771084337,
          121.95121951219511,
          123.45679012345678,
          124.99999999999997,
          126.58227848101268,
          128.20512820512818,
          129.87012987012983,
          131.578947368421,
          133.33333333333331,
          135.13513513513513,
          136.98630136986304,
          138.88888888888889,
          140.8450704225352,
          142.85714285714286,
          144.92753623188406,
          147.05882352941177,
          149.25373134328356,
          151.51515151515147,
          153.84615384615387,
          156.25,
          158.73015873015873,
          161.29032258064515,
          163.9344262295082,
          166.66666666666666,
          169.4915254237288,
          172.41379310344826,
          175.43859649122805,
          178.57142857142856,
          181.81818181818184,
          185.18518518518516,
          188.6792452830189,
          192.30769230769232,
          196.07843137254898,
          199.99999999999997,
          204.08163265306123,
          208.33333333333337,
          212.7659574468085,
          217.3913043478261,
          222.2222222222222,
          227.27272727272725,
          232.55813953488374,
          238.09523809523807,
          243.90243902439028,
          250,
          256.41025641025635,
          263.1578947368422,
          270.2702702702703,
          277.7777777777778,
          285.7142857142858,
          294.11764705882354,
          303.03030303030306,
          312.4999999999999,
          322.5806451612904,
          333.3333333333333,
          344.8275862068966,
          357.1428571428571,
          370.3703703703703,
          384.6153846153847,
          400,
          416.66666666666674,
          434.7826086956523,
          454.5454545454545,
          476.1904761904763,
          499.9999999999999,
          526.315789473684,
          555.5555555555555,
          588.2352941176471,
          625,
          666.6666666666666,
          714.2857142857142,
          769.2307692307693,
          833.3333333333335,
          909.090909090909,
          1000,
          1111.1111111111113,
          1249.9999999999995,
          1428.5714285714284,
          1666.666666666667,
          1999.9999999999995,
          2500,
          3333.333333333334,
          4999.999999999998,
          10000
         ],
         "xaxis": "x",
         "y": [
          100,
          101.01010101010101,
          102.0408163265306,
          103.09278350515464,
          104.16666666666669,
          105.26315789473686,
          106.38297872340425,
          107.5268817204301,
          108.69565217391307,
          109.89010989010991,
          111.1111111111111,
          112.35955056179779,
          113.63636363636363,
          114.94252873563217,
          116.27906976744187,
          117.6470588235294,
          119.04761904761908,
          120.48192771084337,
          121.95121951219511,
          123.45679012345678,
          124.99999999999997,
          126.58227848101268,
          128.20512820512818,
          129.87012987012983,
          131.578947368421,
          133.33333333333331,
          135.13513513513513,
          136.98630136986304,
          138.88888888888889,
          140.8450704225352,
          142.85714285714286,
          144.92753623188406,
          147.05882352941177,
          149.25373134328356,
          151.51515151515147,
          153.84615384615387,
          156.25,
          158.73015873015873,
          161.29032258064515,
          163.9344262295082,
          166.66666666666666,
          169.4915254237288,
          172.41379310344826,
          175.43859649122805,
          178.57142857142856,
          181.81818181818184,
          185.18518518518516,
          188.6792452830189,
          192.30769230769232,
          196.07843137254898,
          199.99999999999997,
          204.08163265306123,
          208.33333333333337,
          212.7659574468085,
          217.3913043478261,
          222.2222222222222,
          227.27272727272725,
          232.55813953488374,
          238.09523809523807,
          243.90243902439028,
          250,
          256.41025641025635,
          263.1578947368422,
          270.2702702702703,
          277.7777777777778,
          285.7142857142858,
          294.11764705882354,
          303.03030303030306,
          312.4999999999999,
          322.5806451612904,
          333.3333333333333,
          344.8275862068966,
          357.1428571428571,
          370.3703703703703,
          384.6153846153847,
          400,
          416.66666666666674,
          434.7826086956523,
          454.5454545454545,
          476.1904761904763,
          499.9999999999999,
          526.315789473684,
          555.5555555555555,
          588.2352941176471,
          625,
          666.6666666666666,
          714.2857142857142,
          769.2307692307693,
          833.3333333333335,
          909.090909090909,
          1000,
          1111.1111111111113,
          1249.9999999999995,
          1428.5714285714284,
          1666.666666666667,
          1999.9999999999995,
          2500,
          3333.333333333334,
          4999.999999999998,
          10000,
          100,
          99,
          98,
          97,
          96,
          95,
          94,
          93,
          92,
          91,
          90,
          89,
          88,
          87,
          86,
          85,
          84,
          83,
          82,
          81,
          80,
          79,
          78,
          77,
          76,
          75,
          74,
          73,
          72,
          71,
          70,
          69,
          68,
          67,
          66,
          65,
          64,
          63,
          62,
          61,
          60,
          59,
          58,
          57,
          56,
          55,
          54,
          53,
          52,
          51,
          50,
          49,
          48,
          47,
          46,
          45,
          44,
          43,
          42,
          41,
          40,
          39,
          38,
          37,
          36,
          35,
          34,
          33,
          32,
          31,
          30,
          29,
          28,
          27,
          26,
          25,
          24,
          23,
          22,
          21,
          20,
          19,
          18,
          17,
          16,
          15,
          14,
          13,
          12,
          11,
          10,
          9,
          8,
          7,
          6,
          5,
          4,
          3,
          2,
          1
         ],
         "yaxis": "y"
        }
       ],
       "layout": {
        "height": 1000,
        "legend": {
         "tracegroupgap": 0
        },
        "margin": {
         "t": 60
        },
        "template": {
         "data": {
          "bar": [
           {
            "error_x": {
             "color": "#2a3f5f"
            },
            "error_y": {
             "color": "#2a3f5f"
            },
            "marker": {
             "line": {
              "color": "#E5ECF6",
              "width": 0.5
             }
            },
            "type": "bar"
           }
          ],
          "barpolar": [
           {
            "marker": {
             "line": {
              "color": "#E5ECF6",
              "width": 0.5
             }
            },
            "type": "barpolar"
           }
          ],
          "carpet": [
           {
            "aaxis": {
             "endlinecolor": "#2a3f5f",
             "gridcolor": "white",
             "linecolor": "white",
             "minorgridcolor": "white",
             "startlinecolor": "#2a3f5f"
            },
            "baxis": {
             "endlinecolor": "#2a3f5f",
             "gridcolor": "white",
             "linecolor": "white",
             "minorgridcolor": "white",
             "startlinecolor": "#2a3f5f"
            },
            "type": "carpet"
           }
          ],
          "choropleth": [
           {
            "colorbar": {
             "outlinewidth": 0,
             "ticks": ""
            },
            "type": "choropleth"
           }
          ],
          "contour": [
           {
            "colorbar": {
             "outlinewidth": 0,
             "ticks": ""
            },
            "colorscale": [
             [
              0,
              "#0d0887"
             ],
             [
              0.1111111111111111,
              "#46039f"
             ],
             [
              0.2222222222222222,
              "#7201a8"
             ],
             [
              0.3333333333333333,
              "#9c179e"
             ],
             [
              0.4444444444444444,
              "#bd3786"
             ],
             [
              0.5555555555555556,
              "#d8576b"
             ],
             [
              0.6666666666666666,
              "#ed7953"
             ],
             [
              0.7777777777777778,
              "#fb9f3a"
             ],
             [
              0.8888888888888888,
              "#fdca26"
             ],
             [
              1,
              "#f0f921"
             ]
            ],
            "type": "contour"
           }
          ],
          "contourcarpet": [
           {
            "colorbar": {
             "outlinewidth": 0,
             "ticks": ""
            },
            "type": "contourcarpet"
           }
          ],
          "heatmap": [
           {
            "colorbar": {
             "outlinewidth": 0,
             "ticks": ""
            },
            "colorscale": [
             [
              0,
              "#0d0887"
             ],
             [
              0.1111111111111111,
              "#46039f"
             ],
             [
              0.2222222222222222,
              "#7201a8"
             ],
             [
              0.3333333333333333,
              "#9c179e"
             ],
             [
              0.4444444444444444,
              "#bd3786"
             ],
             [
              0.5555555555555556,
              "#d8576b"
             ],
             [
              0.6666666666666666,
              "#ed7953"
             ],
             [
              0.7777777777777778,
              "#fb9f3a"
             ],
             [
              0.8888888888888888,
              "#fdca26"
             ],
             [
              1,
              "#f0f921"
             ]
            ],
            "type": "heatmap"
           }
          ],
          "heatmapgl": [
           {
            "colorbar": {
             "outlinewidth": 0,
             "ticks": ""
            },
            "colorscale": [
             [
              0,
              "#0d0887"
             ],
             [
              0.1111111111111111,
              "#46039f"
             ],
             [
              0.2222222222222222,
              "#7201a8"
             ],
             [
              0.3333333333333333,
              "#9c179e"
             ],
             [
              0.4444444444444444,
              "#bd3786"
             ],
             [
              0.5555555555555556,
              "#d8576b"
             ],
             [
              0.6666666666666666,
              "#ed7953"
             ],
             [
              0.7777777777777778,
              "#fb9f3a"
             ],
             [
              0.8888888888888888,
              "#fdca26"
             ],
             [
              1,
              "#f0f921"
             ]
            ],
            "type": "heatmapgl"
           }
          ],
          "histogram": [
           {
            "marker": {
             "colorbar": {
              "outlinewidth": 0,
              "ticks": ""
             }
            },
            "type": "histogram"
           }
          ],
          "histogram2d": [
           {
            "colorbar": {
             "outlinewidth": 0,
             "ticks": ""
            },
            "colorscale": [
             [
              0,
              "#0d0887"
             ],
             [
              0.1111111111111111,
              "#46039f"
             ],
             [
              0.2222222222222222,
              "#7201a8"
             ],
             [
              0.3333333333333333,
              "#9c179e"
             ],
             [
              0.4444444444444444,
              "#bd3786"
             ],
             [
              0.5555555555555556,
              "#d8576b"
             ],
             [
              0.6666666666666666,
              "#ed7953"
             ],
             [
              0.7777777777777778,
              "#fb9f3a"
             ],
             [
              0.8888888888888888,
              "#fdca26"
             ],
             [
              1,
              "#f0f921"
             ]
            ],
            "type": "histogram2d"
           }
          ],
          "histogram2dcontour": [
           {
            "colorbar": {
             "outlinewidth": 0,
             "ticks": ""
            },
            "colorscale": [
             [
              0,
              "#0d0887"
             ],
             [
              0.1111111111111111,
              "#46039f"
             ],
             [
              0.2222222222222222,
              "#7201a8"
             ],
             [
              0.3333333333333333,
              "#9c179e"
             ],
             [
              0.4444444444444444,
              "#bd3786"
             ],
             [
              0.5555555555555556,
              "#d8576b"
             ],
             [
              0.6666666666666666,
              "#ed7953"
             ],
             [
              0.7777777777777778,
              "#fb9f3a"
             ],
             [
              0.8888888888888888,
              "#fdca26"
             ],
             [
              1,
              "#f0f921"
             ]
            ],
            "type": "histogram2dcontour"
           }
          ],
          "mesh3d": [
           {
            "colorbar": {
             "outlinewidth": 0,
             "ticks": ""
            },
            "type": "mesh3d"
           }
          ],
          "parcoords": [
           {
            "line": {
             "colorbar": {
              "outlinewidth": 0,
              "ticks": ""
             }
            },
            "type": "parcoords"
           }
          ],
          "pie": [
           {
            "automargin": true,
            "type": "pie"
           }
          ],
          "scatter": [
           {
            "marker": {
             "colorbar": {
              "outlinewidth": 0,
              "ticks": ""
             }
            },
            "type": "scatter"
           }
          ],
          "scatter3d": [
           {
            "line": {
             "colorbar": {
              "outlinewidth": 0,
              "ticks": ""
             }
            },
            "marker": {
             "colorbar": {
              "outlinewidth": 0,
              "ticks": ""
             }
            },
            "type": "scatter3d"
           }
          ],
          "scattercarpet": [
           {
            "marker": {
             "colorbar": {
              "outlinewidth": 0,
              "ticks": ""
             }
            },
            "type": "scattercarpet"
           }
          ],
          "scattergeo": [
           {
            "marker": {
             "colorbar": {
              "outlinewidth": 0,
              "ticks": ""
             }
            },
            "type": "scattergeo"
           }
          ],
          "scattergl": [
           {
            "marker": {
             "colorbar": {
              "outlinewidth": 0,
              "ticks": ""
             }
            },
            "type": "scattergl"
           }
          ],
          "scattermapbox": [
           {
            "marker": {
             "colorbar": {
              "outlinewidth": 0,
              "ticks": ""
             }
            },
            "type": "scattermapbox"
           }
          ],
          "scatterpolar": [
           {
            "marker": {
             "colorbar": {
              "outlinewidth": 0,
              "ticks": ""
             }
            },
            "type": "scatterpolar"
           }
          ],
          "scatterpolargl": [
           {
            "marker": {
             "colorbar": {
              "outlinewidth": 0,
              "ticks": ""
             }
            },
            "type": "scatterpolargl"
           }
          ],
          "scatterternary": [
           {
            "marker": {
             "colorbar": {
              "outlinewidth": 0,
              "ticks": ""
             }
            },
            "type": "scatterternary"
           }
          ],
          "surface": [
           {
            "colorbar": {
             "outlinewidth": 0,
             "ticks": ""
            },
            "colorscale": [
             [
              0,
              "#0d0887"
             ],
             [
              0.1111111111111111,
              "#46039f"
             ],
             [
              0.2222222222222222,
              "#7201a8"
             ],
             [
              0.3333333333333333,
              "#9c179e"
             ],
             [
              0.4444444444444444,
              "#bd3786"
             ],
             [
              0.5555555555555556,
              "#d8576b"
             ],
             [
              0.6666666666666666,
              "#ed7953"
             ],
             [
              0.7777777777777778,
              "#fb9f3a"
             ],
             [
              0.8888888888888888,
              "#fdca26"
             ],
             [
              1,
              "#f0f921"
             ]
            ],
            "type": "surface"
           }
          ],
          "table": [
           {
            "cells": {
             "fill": {
              "color": "#EBF0F8"
             },
             "line": {
              "color": "white"
             }
            },
            "header": {
             "fill": {
              "color": "#C8D4E3"
             },
             "line": {
              "color": "white"
             }
            },
            "type": "table"
           }
          ]
         },
         "layout": {
          "annotationdefaults": {
           "arrowcolor": "#2a3f5f",
           "arrowhead": 0,
           "arrowwidth": 1
          },
          "autotypenumbers": "strict",
          "coloraxis": {
           "colorbar": {
            "outlinewidth": 0,
            "ticks": ""
           }
          },
          "colorscale": {
           "diverging": [
            [
             0,
             "#8e0152"
            ],
            [
             0.1,
             "#c51b7d"
            ],
            [
             0.2,
             "#de77ae"
            ],
            [
             0.3,
             "#f1b6da"
            ],
            [
             0.4,
             "#fde0ef"
            ],
            [
             0.5,
             "#f7f7f7"
            ],
            [
             0.6,
             "#e6f5d0"
            ],
            [
             0.7,
             "#b8e186"
            ],
            [
             0.8,
             "#7fbc41"
            ],
            [
             0.9,
             "#4d9221"
            ],
            [
             1,
             "#276419"
            ]
           ],
           "sequential": [
            [
             0,
             "#0d0887"
            ],
            [
             0.1111111111111111,
             "#46039f"
            ],
            [
             0.2222222222222222,
             "#7201a8"
            ],
            [
             0.3333333333333333,
             "#9c179e"
            ],
            [
             0.4444444444444444,
             "#bd3786"
            ],
            [
             0.5555555555555556,
             "#d8576b"
            ],
            [
             0.6666666666666666,
             "#ed7953"
            ],
            [
             0.7777777777777778,
             "#fb9f3a"
            ],
            [
             0.8888888888888888,
             "#fdca26"
            ],
            [
             1,
             "#f0f921"
            ]
           ],
           "sequentialminus": [
            [
             0,
             "#0d0887"
            ],
            [
             0.1111111111111111,
             "#46039f"
            ],
            [
             0.2222222222222222,
             "#7201a8"
            ],
            [
             0.3333333333333333,
             "#9c179e"
            ],
            [
             0.4444444444444444,
             "#bd3786"
            ],
            [
             0.5555555555555556,
             "#d8576b"
            ],
            [
             0.6666666666666666,
             "#ed7953"
            ],
            [
             0.7777777777777778,
             "#fb9f3a"
            ],
            [
             0.8888888888888888,
             "#fdca26"
            ],
            [
             1,
             "#f0f921"
            ]
           ]
          },
          "colorway": [
           "#636efa",
           "#EF553B",
           "#00cc96",
           "#ab63fa",
           "#FFA15A",
           "#19d3f3",
           "#FF6692",
           "#B6E880",
           "#FF97FF",
           "#FECB52"
          ],
          "font": {
           "color": "#2a3f5f"
          },
          "geo": {
           "bgcolor": "white",
           "lakecolor": "white",
           "landcolor": "#E5ECF6",
           "showlakes": true,
           "showland": true,
           "subunitcolor": "white"
          },
          "hoverlabel": {
           "align": "left"
          },
          "hovermode": "closest",
          "mapbox": {
           "style": "light"
          },
          "paper_bgcolor": "white",
          "plot_bgcolor": "#E5ECF6",
          "polar": {
           "angularaxis": {
            "gridcolor": "white",
            "linecolor": "white",
            "ticks": ""
           },
           "bgcolor": "#E5ECF6",
           "radialaxis": {
            "gridcolor": "white",
            "linecolor": "white",
            "ticks": ""
           }
          },
          "scene": {
           "xaxis": {
            "backgroundcolor": "#E5ECF6",
            "gridcolor": "white",
            "gridwidth": 2,
            "linecolor": "white",
            "showbackground": true,
            "ticks": "",
            "zerolinecolor": "white"
           },
           "yaxis": {
            "backgroundcolor": "#E5ECF6",
            "gridcolor": "white",
            "gridwidth": 2,
            "linecolor": "white",
            "showbackground": true,
            "ticks": "",
            "zerolinecolor": "white"
           },
           "zaxis": {
            "backgroundcolor": "#E5ECF6",
            "gridcolor": "white",
            "gridwidth": 2,
            "linecolor": "white",
            "showbackground": true,
            "ticks": "",
            "zerolinecolor": "white"
           }
          },
          "shapedefaults": {
           "line": {
            "color": "#2a3f5f"
           }
          },
          "ternary": {
           "aaxis": {
            "gridcolor": "white",
            "linecolor": "white",
            "ticks": ""
           },
           "baxis": {
            "gridcolor": "white",
            "linecolor": "white",
            "ticks": ""
           },
           "bgcolor": "#E5ECF6",
           "caxis": {
            "gridcolor": "white",
            "linecolor": "white",
            "ticks": ""
           }
          },
          "title": {
           "x": 0.05
          },
          "xaxis": {
           "automargin": true,
           "gridcolor": "white",
           "linecolor": "white",
           "ticks": "",
           "title": {
            "standoff": 15
           },
           "zerolinecolor": "white",
           "zerolinewidth": 2
          },
          "yaxis": {
           "automargin": true,
           "gridcolor": "white",
           "linecolor": "white",
           "ticks": "",
           "title": {
            "standoff": 15
           },
           "zerolinecolor": "white",
           "zerolinewidth": 2
          }
         }
        },
        "title": {
         "text": "<b>AMM Curve</b>"
        },
        "width": 1000,
        "xaxis": {
         "anchor": "y",
         "domain": [
          0,
          1
         ],
         "range": [
          0,
          1000
         ],
         "title": {
          "text": "token_A"
         }
        },
        "yaxis": {
         "anchor": "x",
         "domain": [
          0,
          1
         ],
         "range": [
          0,
          1000
         ],
         "title": {
          "text": "token_B"
         }
        }
       }
      },
      "text/html": [
       "<div>                            <div id=\"e8a2dffc-5e11-439c-a96c-921ec1ae3af1\" class=\"plotly-graph-div\" style=\"height:1000px; width:1000px;\"></div>            <script type=\"text/javascript\">                require([\"plotly\"], function(Plotly) {                    window.PLOTLYENV=window.PLOTLYENV || {};                                    if (document.getElementById(\"e8a2dffc-5e11-439c-a96c-921ec1ae3af1\")) {                    Plotly.newPlot(                        \"e8a2dffc-5e11-439c-a96c-921ec1ae3af1\",                        [{\"hovertemplate\": \"token_A=%{x}<br>token_B=%{y}<extra></extra>\", \"legendgroup\": \"\", \"line\": {\"color\": \"#30123b\", \"dash\": \"solid\"}, \"mode\": \"lines\", \"name\": \"\", \"orientation\": \"v\", \"showlegend\": false, \"type\": \"scatter\", \"x\": [100.0, 99.0, 98.0, 97.0, 96.0, 95.0, 94.0, 93.0, 92.0, 91.0, 90.0, 89.0, 88.0, 87.0, 86.0, 85.0, 84.0, 83.0, 82.0, 81.0, 80.0, 79.0, 78.0, 77.0, 76.0, 75.0, 74.0, 73.0, 72.0, 71.0, 70.0, 69.0, 68.0, 67.0, 66.0, 65.0, 64.0, 63.0, 62.0, 61.0, 60.0, 59.0, 58.0, 57.0, 56.0, 55.0, 54.0, 53.0, 52.0, 51.0, 50.0, 49.0, 48.0, 47.0, 46.0, 45.0, 44.0, 43.0, 42.0, 41.0, 40.0, 39.0, 38.0, 37.0, 36.0, 35.0, 34.0, 33.0, 32.0, 31.0, 30.0, 29.0, 28.0, 27.0, 26.0, 25.0, 24.0, 23.0, 22.0, 21.0, 20.0, 19.0, 18.0, 17.0, 16.0, 15.0, 14.0, 13.0, 12.0, 11.0, 10.0, 9.0, 8.0, 7.0, 6.0, 5.0, 4.0, 3.0, 2.0, 1.0, 100.0, 101.01010101010101, 102.0408163265306, 103.09278350515464, 104.16666666666669, 105.26315789473686, 106.38297872340425, 107.5268817204301, 108.69565217391307, 109.89010989010991, 111.1111111111111, 112.35955056179779, 113.63636363636363, 114.94252873563217, 116.27906976744187, 117.6470588235294, 119.04761904761908, 120.48192771084337, 121.95121951219511, 123.45679012345678, 124.99999999999997, 126.58227848101268, 128.20512820512818, 129.87012987012983, 131.578947368421, 133.33333333333331, 135.13513513513513, 136.98630136986304, 138.88888888888889, 140.8450704225352, 142.85714285714286, 144.92753623188406, 147.05882352941177, 149.25373134328356, 151.51515151515147, 153.84615384615387, 156.25, 158.73015873015873, 161.29032258064515, 163.9344262295082, 166.66666666666666, 169.4915254237288, 172.41379310344826, 175.43859649122805, 178.57142857142856, 181.81818181818184, 185.18518518518516, 188.6792452830189, 192.30769230769232, 196.07843137254898, 199.99999999999997, 204.08163265306123, 208.33333333333337, 212.7659574468085, 217.3913043478261, 222.2222222222222, 227.27272727272725, 232.55813953488374, 238.09523809523807, 243.90243902439028, 250.0, 256.41025641025635, 263.1578947368422, 270.2702702702703, 277.7777777777778, 285.7142857142858, 294.11764705882354, 303.03030303030306, 312.4999999999999, 322.5806451612904, 333.3333333333333, 344.8275862068966, 357.1428571428571, 370.3703703703703, 384.6153846153847, 400.0, 416.66666666666674, 434.7826086956523, 454.5454545454545, 476.1904761904763, 499.9999999999999, 526.315789473684, 555.5555555555555, 588.2352941176471, 625.0, 666.6666666666666, 714.2857142857142, 769.2307692307693, 833.3333333333335, 909.090909090909, 1000.0, 1111.1111111111113, 1249.9999999999995, 1428.5714285714284, 1666.666666666667, 1999.9999999999995, 2500.0, 3333.333333333334, 4999.999999999998, 10000.0], \"xaxis\": \"x\", \"y\": [100.0, 101.01010101010101, 102.0408163265306, 103.09278350515464, 104.16666666666669, 105.26315789473686, 106.38297872340425, 107.5268817204301, 108.69565217391307, 109.89010989010991, 111.1111111111111, 112.35955056179779, 113.63636363636363, 114.94252873563217, 116.27906976744187, 117.6470588235294, 119.04761904761908, 120.48192771084337, 121.95121951219511, 123.45679012345678, 124.99999999999997, 126.58227848101268, 128.20512820512818, 129.87012987012983, 131.578947368421, 133.33333333333331, 135.13513513513513, 136.98630136986304, 138.88888888888889, 140.8450704225352, 142.85714285714286, 144.92753623188406, 147.05882352941177, 149.25373134328356, 151.51515151515147, 153.84615384615387, 156.25, 158.73015873015873, 161.29032258064515, 163.9344262295082, 166.66666666666666, 169.4915254237288, 172.41379310344826, 175.43859649122805, 178.57142857142856, 181.81818181818184, 185.18518518518516, 188.6792452830189, 192.30769230769232, 196.07843137254898, 199.99999999999997, 204.08163265306123, 208.33333333333337, 212.7659574468085, 217.3913043478261, 222.2222222222222, 227.27272727272725, 232.55813953488374, 238.09523809523807, 243.90243902439028, 250.0, 256.41025641025635, 263.1578947368422, 270.2702702702703, 277.7777777777778, 285.7142857142858, 294.11764705882354, 303.03030303030306, 312.4999999999999, 322.5806451612904, 333.3333333333333, 344.8275862068966, 357.1428571428571, 370.3703703703703, 384.6153846153847, 400.0, 416.66666666666674, 434.7826086956523, 454.5454545454545, 476.1904761904763, 499.9999999999999, 526.315789473684, 555.5555555555555, 588.2352941176471, 625.0, 666.6666666666666, 714.2857142857142, 769.2307692307693, 833.3333333333335, 909.090909090909, 1000.0, 1111.1111111111113, 1249.9999999999995, 1428.5714285714284, 1666.666666666667, 1999.9999999999995, 2500.0, 3333.333333333334, 4999.999999999998, 10000.0, 100.0, 99.0, 98.0, 97.0, 96.0, 95.0, 94.0, 93.0, 92.0, 91.0, 90.0, 89.0, 88.0, 87.0, 86.0, 85.0, 84.0, 83.0, 82.0, 81.0, 80.0, 79.0, 78.0, 77.0, 76.0, 75.0, 74.0, 73.0, 72.0, 71.0, 70.0, 69.0, 68.0, 67.0, 66.0, 65.0, 64.0, 63.0, 62.0, 61.0, 60.0, 59.0, 58.0, 57.0, 56.0, 55.0, 54.0, 53.0, 52.0, 51.0, 50.0, 49.0, 48.0, 47.0, 46.0, 45.0, 44.0, 43.0, 42.0, 41.0, 40.0, 39.0, 38.0, 37.0, 36.0, 35.0, 34.0, 33.0, 32.0, 31.0, 30.0, 29.0, 28.0, 27.0, 26.0, 25.0, 24.0, 23.0, 22.0, 21.0, 20.0, 19.0, 18.0, 17.0, 16.0, 15.0, 14.0, 13.0, 12.0, 11.0, 10.0, 9.0, 8.0, 7.0, 6.0, 5.0, 4.0, 3.0, 2.0, 1.0], \"yaxis\": \"y\"}],                        {\"height\": 1000, \"legend\": {\"tracegroupgap\": 0}, \"margin\": {\"t\": 60}, \"template\": {\"data\": {\"bar\": [{\"error_x\": {\"color\": \"#2a3f5f\"}, \"error_y\": {\"color\": \"#2a3f5f\"}, \"marker\": {\"line\": {\"color\": \"#E5ECF6\", \"width\": 0.5}}, \"type\": \"bar\"}], \"barpolar\": [{\"marker\": {\"line\": {\"color\": \"#E5ECF6\", \"width\": 0.5}}, \"type\": \"barpolar\"}], \"carpet\": [{\"aaxis\": {\"endlinecolor\": \"#2a3f5f\", \"gridcolor\": \"white\", \"linecolor\": \"white\", \"minorgridcolor\": \"white\", \"startlinecolor\": \"#2a3f5f\"}, \"baxis\": {\"endlinecolor\": \"#2a3f5f\", \"gridcolor\": \"white\", \"linecolor\": \"white\", \"minorgridcolor\": \"white\", \"startlinecolor\": \"#2a3f5f\"}, \"type\": \"carpet\"}], \"choropleth\": [{\"colorbar\": {\"outlinewidth\": 0, \"ticks\": \"\"}, \"type\": \"choropleth\"}], \"contour\": [{\"colorbar\": {\"outlinewidth\": 0, \"ticks\": \"\"}, \"colorscale\": [[0.0, \"#0d0887\"], [0.1111111111111111, \"#46039f\"], [0.2222222222222222, \"#7201a8\"], [0.3333333333333333, \"#9c179e\"], [0.4444444444444444, \"#bd3786\"], [0.5555555555555556, \"#d8576b\"], [0.6666666666666666, \"#ed7953\"], [0.7777777777777778, \"#fb9f3a\"], [0.8888888888888888, \"#fdca26\"], [1.0, \"#f0f921\"]], \"type\": \"contour\"}], \"contourcarpet\": [{\"colorbar\": {\"outlinewidth\": 0, \"ticks\": \"\"}, \"type\": \"contourcarpet\"}], \"heatmap\": [{\"colorbar\": {\"outlinewidth\": 0, \"ticks\": \"\"}, \"colorscale\": [[0.0, \"#0d0887\"], [0.1111111111111111, \"#46039f\"], [0.2222222222222222, \"#7201a8\"], [0.3333333333333333, \"#9c179e\"], [0.4444444444444444, \"#bd3786\"], [0.5555555555555556, \"#d8576b\"], [0.6666666666666666, \"#ed7953\"], [0.7777777777777778, \"#fb9f3a\"], [0.8888888888888888, \"#fdca26\"], [1.0, \"#f0f921\"]], \"type\": \"heatmap\"}], \"heatmapgl\": [{\"colorbar\": {\"outlinewidth\": 0, \"ticks\": \"\"}, \"colorscale\": [[0.0, \"#0d0887\"], [0.1111111111111111, \"#46039f\"], [0.2222222222222222, \"#7201a8\"], [0.3333333333333333, \"#9c179e\"], [0.4444444444444444, \"#bd3786\"], [0.5555555555555556, \"#d8576b\"], [0.6666666666666666, \"#ed7953\"], [0.7777777777777778, \"#fb9f3a\"], [0.8888888888888888, \"#fdca26\"], [1.0, \"#f0f921\"]], \"type\": \"heatmapgl\"}], \"histogram\": [{\"marker\": {\"colorbar\": {\"outlinewidth\": 0, \"ticks\": \"\"}}, \"type\": \"histogram\"}], \"histogram2d\": [{\"colorbar\": {\"outlinewidth\": 0, \"ticks\": \"\"}, \"colorscale\": [[0.0, \"#0d0887\"], [0.1111111111111111, \"#46039f\"], [0.2222222222222222, \"#7201a8\"], [0.3333333333333333, \"#9c179e\"], [0.4444444444444444, \"#bd3786\"], [0.5555555555555556, \"#d8576b\"], [0.6666666666666666, \"#ed7953\"], [0.7777777777777778, \"#fb9f3a\"], [0.8888888888888888, \"#fdca26\"], [1.0, \"#f0f921\"]], \"type\": \"histogram2d\"}], \"histogram2dcontour\": [{\"colorbar\": {\"outlinewidth\": 0, \"ticks\": \"\"}, \"colorscale\": [[0.0, \"#0d0887\"], [0.1111111111111111, \"#46039f\"], [0.2222222222222222, \"#7201a8\"], [0.3333333333333333, \"#9c179e\"], [0.4444444444444444, \"#bd3786\"], [0.5555555555555556, \"#d8576b\"], [0.6666666666666666, \"#ed7953\"], [0.7777777777777778, \"#fb9f3a\"], [0.8888888888888888, \"#fdca26\"], [1.0, \"#f0f921\"]], \"type\": \"histogram2dcontour\"}], \"mesh3d\": [{\"colorbar\": {\"outlinewidth\": 0, \"ticks\": \"\"}, \"type\": \"mesh3d\"}], \"parcoords\": [{\"line\": {\"colorbar\": {\"outlinewidth\": 0, \"ticks\": \"\"}}, \"type\": \"parcoords\"}], \"pie\": [{\"automargin\": true, \"type\": \"pie\"}], \"scatter\": [{\"marker\": {\"colorbar\": {\"outlinewidth\": 0, \"ticks\": \"\"}}, \"type\": \"scatter\"}], \"scatter3d\": [{\"line\": {\"colorbar\": {\"outlinewidth\": 0, \"ticks\": \"\"}}, \"marker\": {\"colorbar\": {\"outlinewidth\": 0, \"ticks\": \"\"}}, \"type\": \"scatter3d\"}], \"scattercarpet\": [{\"marker\": {\"colorbar\": {\"outlinewidth\": 0, \"ticks\": \"\"}}, \"type\": \"scattercarpet\"}], \"scattergeo\": [{\"marker\": {\"colorbar\": {\"outlinewidth\": 0, \"ticks\": \"\"}}, \"type\": \"scattergeo\"}], \"scattergl\": [{\"marker\": {\"colorbar\": {\"outlinewidth\": 0, \"ticks\": \"\"}}, \"type\": \"scattergl\"}], \"scattermapbox\": [{\"marker\": {\"colorbar\": {\"outlinewidth\": 0, \"ticks\": \"\"}}, \"type\": \"scattermapbox\"}], \"scatterpolar\": [{\"marker\": {\"colorbar\": {\"outlinewidth\": 0, \"ticks\": \"\"}}, \"type\": \"scatterpolar\"}], \"scatterpolargl\": [{\"marker\": {\"colorbar\": {\"outlinewidth\": 0, \"ticks\": \"\"}}, \"type\": \"scatterpolargl\"}], \"scatterternary\": [{\"marker\": {\"colorbar\": {\"outlinewidth\": 0, \"ticks\": \"\"}}, \"type\": \"scatterternary\"}], \"surface\": [{\"colorbar\": {\"outlinewidth\": 0, \"ticks\": \"\"}, \"colorscale\": [[0.0, \"#0d0887\"], [0.1111111111111111, \"#46039f\"], [0.2222222222222222, \"#7201a8\"], [0.3333333333333333, \"#9c179e\"], [0.4444444444444444, \"#bd3786\"], [0.5555555555555556, \"#d8576b\"], [0.6666666666666666, \"#ed7953\"], [0.7777777777777778, \"#fb9f3a\"], [0.8888888888888888, \"#fdca26\"], [1.0, \"#f0f921\"]], \"type\": \"surface\"}], \"table\": [{\"cells\": {\"fill\": {\"color\": \"#EBF0F8\"}, \"line\": {\"color\": \"white\"}}, \"header\": {\"fill\": {\"color\": \"#C8D4E3\"}, \"line\": {\"color\": \"white\"}}, \"type\": \"table\"}]}, \"layout\": {\"annotationdefaults\": {\"arrowcolor\": \"#2a3f5f\", \"arrowhead\": 0, \"arrowwidth\": 1}, \"autotypenumbers\": \"strict\", \"coloraxis\": {\"colorbar\": {\"outlinewidth\": 0, \"ticks\": \"\"}}, \"colorscale\": {\"diverging\": [[0, \"#8e0152\"], [0.1, \"#c51b7d\"], [0.2, \"#de77ae\"], [0.3, \"#f1b6da\"], [0.4, \"#fde0ef\"], [0.5, \"#f7f7f7\"], [0.6, \"#e6f5d0\"], [0.7, \"#b8e186\"], [0.8, \"#7fbc41\"], [0.9, \"#4d9221\"], [1, \"#276419\"]], \"sequential\": [[0.0, \"#0d0887\"], [0.1111111111111111, \"#46039f\"], [0.2222222222222222, \"#7201a8\"], [0.3333333333333333, \"#9c179e\"], [0.4444444444444444, \"#bd3786\"], [0.5555555555555556, \"#d8576b\"], [0.6666666666666666, \"#ed7953\"], [0.7777777777777778, \"#fb9f3a\"], [0.8888888888888888, \"#fdca26\"], [1.0, \"#f0f921\"]], \"sequentialminus\": [[0.0, \"#0d0887\"], [0.1111111111111111, \"#46039f\"], [0.2222222222222222, \"#7201a8\"], [0.3333333333333333, \"#9c179e\"], [0.4444444444444444, \"#bd3786\"], [0.5555555555555556, \"#d8576b\"], [0.6666666666666666, \"#ed7953\"], [0.7777777777777778, \"#fb9f3a\"], [0.8888888888888888, \"#fdca26\"], [1.0, \"#f0f921\"]]}, \"colorway\": [\"#636efa\", \"#EF553B\", \"#00cc96\", \"#ab63fa\", \"#FFA15A\", \"#19d3f3\", \"#FF6692\", \"#B6E880\", \"#FF97FF\", \"#FECB52\"], \"font\": {\"color\": \"#2a3f5f\"}, \"geo\": {\"bgcolor\": \"white\", \"lakecolor\": \"white\", \"landcolor\": \"#E5ECF6\", \"showlakes\": true, \"showland\": true, \"subunitcolor\": \"white\"}, \"hoverlabel\": {\"align\": \"left\"}, \"hovermode\": \"closest\", \"mapbox\": {\"style\": \"light\"}, \"paper_bgcolor\": \"white\", \"plot_bgcolor\": \"#E5ECF6\", \"polar\": {\"angularaxis\": {\"gridcolor\": \"white\", \"linecolor\": \"white\", \"ticks\": \"\"}, \"bgcolor\": \"#E5ECF6\", \"radialaxis\": {\"gridcolor\": \"white\", \"linecolor\": \"white\", \"ticks\": \"\"}}, \"scene\": {\"xaxis\": {\"backgroundcolor\": \"#E5ECF6\", \"gridcolor\": \"white\", \"gridwidth\": 2, \"linecolor\": \"white\", \"showbackground\": true, \"ticks\": \"\", \"zerolinecolor\": \"white\"}, \"yaxis\": {\"backgroundcolor\": \"#E5ECF6\", \"gridcolor\": \"white\", \"gridwidth\": 2, \"linecolor\": \"white\", \"showbackground\": true, \"ticks\": \"\", \"zerolinecolor\": \"white\"}, \"zaxis\": {\"backgroundcolor\": \"#E5ECF6\", \"gridcolor\": \"white\", \"gridwidth\": 2, \"linecolor\": \"white\", \"showbackground\": true, \"ticks\": \"\", \"zerolinecolor\": \"white\"}}, \"shapedefaults\": {\"line\": {\"color\": \"#2a3f5f\"}}, \"ternary\": {\"aaxis\": {\"gridcolor\": \"white\", \"linecolor\": \"white\", \"ticks\": \"\"}, \"baxis\": {\"gridcolor\": \"white\", \"linecolor\": \"white\", \"ticks\": \"\"}, \"bgcolor\": \"#E5ECF6\", \"caxis\": {\"gridcolor\": \"white\", \"linecolor\": \"white\", \"ticks\": \"\"}}, \"title\": {\"x\": 0.05}, \"xaxis\": {\"automargin\": true, \"gridcolor\": \"white\", \"linecolor\": \"white\", \"ticks\": \"\", \"title\": {\"standoff\": 15}, \"zerolinecolor\": \"white\", \"zerolinewidth\": 2}, \"yaxis\": {\"automargin\": true, \"gridcolor\": \"white\", \"linecolor\": \"white\", \"ticks\": \"\", \"title\": {\"standoff\": 15}, \"zerolinecolor\": \"white\", \"zerolinewidth\": 2}}}, \"title\": {\"text\": \"<b>AMM Curve</b>\"}, \"width\": 1000, \"xaxis\": {\"anchor\": \"y\", \"domain\": [0.0, 1.0], \"range\": [0, 1000], \"title\": {\"text\": \"token_A\"}}, \"yaxis\": {\"anchor\": \"x\", \"domain\": [0.0, 1.0], \"range\": [0, 1000], \"title\": {\"text\": \"token_B\"}}},                        {\"responsive\": true}                    ).then(function(){\n",
       "                            \n",
       "var gd = document.getElementById('e8a2dffc-5e11-439c-a96c-921ec1ae3af1');\n",
       "var x = new MutationObserver(function (mutations, observer) {{\n",
       "        var display = window.getComputedStyle(gd).display;\n",
       "        if (!display || display === 'none') {{\n",
       "            console.log([gd, 'removed!']);\n",
       "            Plotly.purge(gd);\n",
       "            observer.disconnect();\n",
       "        }}\n",
       "}});\n",
       "\n",
       "// Listen for the removal of the full notebook cells\n",
       "var notebookContainer = gd.closest('#notebook-container');\n",
       "if (notebookContainer) {{\n",
       "    x.observe(notebookContainer, {childList: true});\n",
       "}}\n",
       "\n",
       "// Listen for the clearing of the current output cell\n",
       "var outputEl = gd.closest('.output');\n",
       "if (outputEl) {{\n",
       "    x.observe(outputEl, {childList: true});\n",
       "}}\n",
       "\n",
       "                        })                };                });            </script>        </div>"
      ]
     },
     "metadata": {},
     "output_type": "display_data"
    }
   ],
   "source": [
    "#plot curves with all \n",
    "buy_A = buy_A.drop(columns=['invariant'])\n",
    "buy_B = buy_B.drop(columns=['invariant'])\n",
    "curve = pd.concat([buy_A, buy_B], axis=0, ignore_index=True)\n",
    "fig = px.line(curve, x=\"token_A\", y=\"token_B\", color_discrete_sequence=px.colors.sequential.Turbo)\n",
    "fig.update_xaxes(range=[0, 1000])\n",
    "fig.update_yaxes(range=[0, 1000])\n",
    "fig.update_layout(height=1000, width=1000, title_text='<b>AMM Curve</b>')\n",
    "\n",
    "fig.show()\n"
   ]
  },
  {
   "cell_type": "code",
   "execution_count": null,
   "id": "lined-drawing",
   "metadata": {},
   "outputs": [],
   "source": []
  },
  {
   "cell_type": "markdown",
   "id": "sorted-nudist",
   "metadata": {},
   "source": [
    "# Q1.6:\n",
    "Take this plot, and mark \n",
    "- the initial price in Q1.1 (starting price)\n",
    "- the new price in Q1.4 (after 90 swaps)"
   ]
  },
  {
   "cell_type": "code",
   "execution_count": 8,
   "id": "regulation-nickname",
   "metadata": {},
   "outputs": [
    {
     "data": {
      "application/vnd.plotly.v1+json": {
       "config": {
        "plotlyServerURL": "https://plot.ly"
       },
       "data": [
        {
         "hovertemplate": "token_A=%{x}<br>token_B=%{y}<extra></extra>",
         "legendgroup": "",
         "line": {
          "color": "#30123b",
          "dash": "solid"
         },
         "mode": "lines",
         "name": "",
         "orientation": "v",
         "showlegend": false,
         "type": "scatter",
         "x": [
          1,
          2,
          3,
          4,
          5,
          6,
          7,
          8,
          9,
          10,
          11,
          12,
          13,
          14,
          15,
          16,
          17,
          18,
          19,
          20,
          21,
          22,
          23,
          24,
          25,
          26,
          27,
          28,
          29,
          30,
          31,
          32,
          33,
          34,
          35,
          36,
          37,
          38,
          39,
          40,
          41,
          42,
          43,
          44,
          45,
          46,
          47,
          48,
          49,
          50,
          51,
          52,
          53,
          54,
          55,
          56,
          57,
          58,
          59,
          60,
          61,
          62,
          63,
          64,
          65,
          66,
          67,
          68,
          69,
          70,
          71,
          72,
          73,
          74,
          75,
          76,
          77,
          78,
          79,
          80,
          81,
          82,
          83,
          84,
          85,
          86,
          87,
          88,
          89,
          90,
          91,
          92,
          93,
          94,
          95,
          96,
          97,
          98,
          99,
          100,
          10000,
          4999.999999999998,
          3333.333333333334,
          2500,
          1999.9999999999995,
          1666.666666666667,
          1428.5714285714284,
          1249.9999999999995,
          1111.1111111111113,
          1000,
          909.090909090909,
          833.3333333333335,
          769.2307692307693,
          714.2857142857142,
          666.6666666666666,
          625,
          588.2352941176471,
          555.5555555555555,
          526.315789473684,
          499.9999999999999,
          476.1904761904763,
          454.5454545454545,
          434.7826086956523,
          416.66666666666674,
          400,
          384.6153846153847,
          370.3703703703703,
          357.1428571428571,
          344.8275862068966,
          333.3333333333333,
          322.5806451612904,
          312.4999999999999,
          303.03030303030306,
          294.11764705882354,
          285.7142857142858,
          277.7777777777778,
          270.2702702702703,
          263.1578947368422,
          256.41025641025635,
          250,
          243.90243902439028,
          238.09523809523807,
          232.55813953488374,
          227.27272727272725,
          222.2222222222222,
          217.3913043478261,
          212.7659574468085,
          208.33333333333337,
          204.08163265306123,
          199.99999999999997,
          196.07843137254898,
          192.30769230769232,
          188.6792452830189,
          185.18518518518516,
          181.81818181818184,
          178.57142857142856,
          175.43859649122805,
          172.41379310344826,
          169.4915254237288,
          166.66666666666666,
          163.9344262295082,
          161.29032258064515,
          158.73015873015873,
          156.25,
          153.84615384615387,
          151.51515151515147,
          149.25373134328356,
          147.05882352941177,
          144.92753623188406,
          142.85714285714286,
          140.8450704225352,
          138.88888888888889,
          136.98630136986304,
          135.13513513513513,
          133.33333333333331,
          131.578947368421,
          129.87012987012983,
          128.20512820512818,
          126.58227848101268,
          124.99999999999997,
          123.45679012345678,
          121.95121951219511,
          120.48192771084337,
          119.04761904761908,
          117.6470588235294,
          116.27906976744187,
          114.94252873563217,
          113.63636363636363,
          112.35955056179779,
          111.1111111111111,
          109.89010989010991,
          108.69565217391307,
          107.5268817204301,
          106.38297872340425,
          105.26315789473686,
          104.16666666666669,
          103.09278350515464,
          102.0408163265306,
          101.01010101010101,
          100
         ],
         "xaxis": "x",
         "y": [
          10000,
          4999.999999999998,
          3333.333333333334,
          2500,
          1999.9999999999995,
          1666.666666666667,
          1428.5714285714284,
          1249.9999999999995,
          1111.1111111111113,
          1000,
          909.090909090909,
          833.3333333333335,
          769.2307692307693,
          714.2857142857142,
          666.6666666666666,
          625,
          588.2352941176471,
          555.5555555555555,
          526.315789473684,
          499.9999999999999,
          476.1904761904763,
          454.5454545454545,
          434.7826086956523,
          416.66666666666674,
          400,
          384.6153846153847,
          370.3703703703703,
          357.1428571428571,
          344.8275862068966,
          333.3333333333333,
          322.5806451612904,
          312.4999999999999,
          303.03030303030306,
          294.11764705882354,
          285.7142857142858,
          277.7777777777778,
          270.2702702702703,
          263.1578947368422,
          256.41025641025635,
          250,
          243.90243902439028,
          238.09523809523807,
          232.55813953488374,
          227.27272727272725,
          222.2222222222222,
          217.3913043478261,
          212.7659574468085,
          208.33333333333337,
          204.08163265306123,
          199.99999999999997,
          196.07843137254898,
          192.30769230769232,
          188.6792452830189,
          185.18518518518516,
          181.81818181818184,
          178.57142857142856,
          175.43859649122805,
          172.41379310344826,
          169.4915254237288,
          166.66666666666666,
          163.9344262295082,
          161.29032258064515,
          158.73015873015873,
          156.25,
          153.84615384615387,
          151.51515151515147,
          149.25373134328356,
          147.05882352941177,
          144.92753623188406,
          142.85714285714286,
          140.8450704225352,
          138.88888888888889,
          136.98630136986304,
          135.13513513513513,
          133.33333333333331,
          131.578947368421,
          129.87012987012983,
          128.20512820512818,
          126.58227848101268,
          124.99999999999997,
          123.45679012345678,
          121.95121951219511,
          120.48192771084337,
          119.04761904761908,
          117.6470588235294,
          116.27906976744187,
          114.94252873563217,
          113.63636363636363,
          112.35955056179779,
          111.1111111111111,
          109.89010989010991,
          108.69565217391307,
          107.5268817204301,
          106.38297872340425,
          105.26315789473686,
          104.16666666666669,
          103.09278350515464,
          102.0408163265306,
          101.01010101010101,
          100,
          1,
          2,
          3,
          4,
          5,
          6,
          7,
          8,
          9,
          10,
          11,
          12,
          13,
          14,
          15,
          16,
          17,
          18,
          19,
          20,
          21,
          22,
          23,
          24,
          25,
          26,
          27,
          28,
          29,
          30,
          31,
          32,
          33,
          34,
          35,
          36,
          37,
          38,
          39,
          40,
          41,
          42,
          43,
          44,
          45,
          46,
          47,
          48,
          49,
          50,
          51,
          52,
          53,
          54,
          55,
          56,
          57,
          58,
          59,
          60,
          61,
          62,
          63,
          64,
          65,
          66,
          67,
          68,
          69,
          70,
          71,
          72,
          73,
          74,
          75,
          76,
          77,
          78,
          79,
          80,
          81,
          82,
          83,
          84,
          85,
          86,
          87,
          88,
          89,
          90,
          91,
          92,
          93,
          94,
          95,
          96,
          97,
          98,
          99,
          100
         ],
         "yaxis": "y"
        }
       ],
       "layout": {
        "annotations": [
         {
          "showarrow": true,
          "text": "initial price/starting price",
          "x": 100,
          "y": 100,
          "yshift": 10
         },
         {
          "showarrow": true,
          "text": "price after 90 swaps",
          "x": 10,
          "y": 1000,
          "yshift": -10
         }
        ],
        "height": 1000,
        "legend": {
         "tracegroupgap": 0
        },
        "margin": {
         "t": 60
        },
        "template": {
         "data": {
          "bar": [
           {
            "error_x": {
             "color": "#2a3f5f"
            },
            "error_y": {
             "color": "#2a3f5f"
            },
            "marker": {
             "line": {
              "color": "#E5ECF6",
              "width": 0.5
             }
            },
            "type": "bar"
           }
          ],
          "barpolar": [
           {
            "marker": {
             "line": {
              "color": "#E5ECF6",
              "width": 0.5
             }
            },
            "type": "barpolar"
           }
          ],
          "carpet": [
           {
            "aaxis": {
             "endlinecolor": "#2a3f5f",
             "gridcolor": "white",
             "linecolor": "white",
             "minorgridcolor": "white",
             "startlinecolor": "#2a3f5f"
            },
            "baxis": {
             "endlinecolor": "#2a3f5f",
             "gridcolor": "white",
             "linecolor": "white",
             "minorgridcolor": "white",
             "startlinecolor": "#2a3f5f"
            },
            "type": "carpet"
           }
          ],
          "choropleth": [
           {
            "colorbar": {
             "outlinewidth": 0,
             "ticks": ""
            },
            "type": "choropleth"
           }
          ],
          "contour": [
           {
            "colorbar": {
             "outlinewidth": 0,
             "ticks": ""
            },
            "colorscale": [
             [
              0,
              "#0d0887"
             ],
             [
              0.1111111111111111,
              "#46039f"
             ],
             [
              0.2222222222222222,
              "#7201a8"
             ],
             [
              0.3333333333333333,
              "#9c179e"
             ],
             [
              0.4444444444444444,
              "#bd3786"
             ],
             [
              0.5555555555555556,
              "#d8576b"
             ],
             [
              0.6666666666666666,
              "#ed7953"
             ],
             [
              0.7777777777777778,
              "#fb9f3a"
             ],
             [
              0.8888888888888888,
              "#fdca26"
             ],
             [
              1,
              "#f0f921"
             ]
            ],
            "type": "contour"
           }
          ],
          "contourcarpet": [
           {
            "colorbar": {
             "outlinewidth": 0,
             "ticks": ""
            },
            "type": "contourcarpet"
           }
          ],
          "heatmap": [
           {
            "colorbar": {
             "outlinewidth": 0,
             "ticks": ""
            },
            "colorscale": [
             [
              0,
              "#0d0887"
             ],
             [
              0.1111111111111111,
              "#46039f"
             ],
             [
              0.2222222222222222,
              "#7201a8"
             ],
             [
              0.3333333333333333,
              "#9c179e"
             ],
             [
              0.4444444444444444,
              "#bd3786"
             ],
             [
              0.5555555555555556,
              "#d8576b"
             ],
             [
              0.6666666666666666,
              "#ed7953"
             ],
             [
              0.7777777777777778,
              "#fb9f3a"
             ],
             [
              0.8888888888888888,
              "#fdca26"
             ],
             [
              1,
              "#f0f921"
             ]
            ],
            "type": "heatmap"
           }
          ],
          "heatmapgl": [
           {
            "colorbar": {
             "outlinewidth": 0,
             "ticks": ""
            },
            "colorscale": [
             [
              0,
              "#0d0887"
             ],
             [
              0.1111111111111111,
              "#46039f"
             ],
             [
              0.2222222222222222,
              "#7201a8"
             ],
             [
              0.3333333333333333,
              "#9c179e"
             ],
             [
              0.4444444444444444,
              "#bd3786"
             ],
             [
              0.5555555555555556,
              "#d8576b"
             ],
             [
              0.6666666666666666,
              "#ed7953"
             ],
             [
              0.7777777777777778,
              "#fb9f3a"
             ],
             [
              0.8888888888888888,
              "#fdca26"
             ],
             [
              1,
              "#f0f921"
             ]
            ],
            "type": "heatmapgl"
           }
          ],
          "histogram": [
           {
            "marker": {
             "colorbar": {
              "outlinewidth": 0,
              "ticks": ""
             }
            },
            "type": "histogram"
           }
          ],
          "histogram2d": [
           {
            "colorbar": {
             "outlinewidth": 0,
             "ticks": ""
            },
            "colorscale": [
             [
              0,
              "#0d0887"
             ],
             [
              0.1111111111111111,
              "#46039f"
             ],
             [
              0.2222222222222222,
              "#7201a8"
             ],
             [
              0.3333333333333333,
              "#9c179e"
             ],
             [
              0.4444444444444444,
              "#bd3786"
             ],
             [
              0.5555555555555556,
              "#d8576b"
             ],
             [
              0.6666666666666666,
              "#ed7953"
             ],
             [
              0.7777777777777778,
              "#fb9f3a"
             ],
             [
              0.8888888888888888,
              "#fdca26"
             ],
             [
              1,
              "#f0f921"
             ]
            ],
            "type": "histogram2d"
           }
          ],
          "histogram2dcontour": [
           {
            "colorbar": {
             "outlinewidth": 0,
             "ticks": ""
            },
            "colorscale": [
             [
              0,
              "#0d0887"
             ],
             [
              0.1111111111111111,
              "#46039f"
             ],
             [
              0.2222222222222222,
              "#7201a8"
             ],
             [
              0.3333333333333333,
              "#9c179e"
             ],
             [
              0.4444444444444444,
              "#bd3786"
             ],
             [
              0.5555555555555556,
              "#d8576b"
             ],
             [
              0.6666666666666666,
              "#ed7953"
             ],
             [
              0.7777777777777778,
              "#fb9f3a"
             ],
             [
              0.8888888888888888,
              "#fdca26"
             ],
             [
              1,
              "#f0f921"
             ]
            ],
            "type": "histogram2dcontour"
           }
          ],
          "mesh3d": [
           {
            "colorbar": {
             "outlinewidth": 0,
             "ticks": ""
            },
            "type": "mesh3d"
           }
          ],
          "parcoords": [
           {
            "line": {
             "colorbar": {
              "outlinewidth": 0,
              "ticks": ""
             }
            },
            "type": "parcoords"
           }
          ],
          "pie": [
           {
            "automargin": true,
            "type": "pie"
           }
          ],
          "scatter": [
           {
            "marker": {
             "colorbar": {
              "outlinewidth": 0,
              "ticks": ""
             }
            },
            "type": "scatter"
           }
          ],
          "scatter3d": [
           {
            "line": {
             "colorbar": {
              "outlinewidth": 0,
              "ticks": ""
             }
            },
            "marker": {
             "colorbar": {
              "outlinewidth": 0,
              "ticks": ""
             }
            },
            "type": "scatter3d"
           }
          ],
          "scattercarpet": [
           {
            "marker": {
             "colorbar": {
              "outlinewidth": 0,
              "ticks": ""
             }
            },
            "type": "scattercarpet"
           }
          ],
          "scattergeo": [
           {
            "marker": {
             "colorbar": {
              "outlinewidth": 0,
              "ticks": ""
             }
            },
            "type": "scattergeo"
           }
          ],
          "scattergl": [
           {
            "marker": {
             "colorbar": {
              "outlinewidth": 0,
              "ticks": ""
             }
            },
            "type": "scattergl"
           }
          ],
          "scattermapbox": [
           {
            "marker": {
             "colorbar": {
              "outlinewidth": 0,
              "ticks": ""
             }
            },
            "type": "scattermapbox"
           }
          ],
          "scatterpolar": [
           {
            "marker": {
             "colorbar": {
              "outlinewidth": 0,
              "ticks": ""
             }
            },
            "type": "scatterpolar"
           }
          ],
          "scatterpolargl": [
           {
            "marker": {
             "colorbar": {
              "outlinewidth": 0,
              "ticks": ""
             }
            },
            "type": "scatterpolargl"
           }
          ],
          "scatterternary": [
           {
            "marker": {
             "colorbar": {
              "outlinewidth": 0,
              "ticks": ""
             }
            },
            "type": "scatterternary"
           }
          ],
          "surface": [
           {
            "colorbar": {
             "outlinewidth": 0,
             "ticks": ""
            },
            "colorscale": [
             [
              0,
              "#0d0887"
             ],
             [
              0.1111111111111111,
              "#46039f"
             ],
             [
              0.2222222222222222,
              "#7201a8"
             ],
             [
              0.3333333333333333,
              "#9c179e"
             ],
             [
              0.4444444444444444,
              "#bd3786"
             ],
             [
              0.5555555555555556,
              "#d8576b"
             ],
             [
              0.6666666666666666,
              "#ed7953"
             ],
             [
              0.7777777777777778,
              "#fb9f3a"
             ],
             [
              0.8888888888888888,
              "#fdca26"
             ],
             [
              1,
              "#f0f921"
             ]
            ],
            "type": "surface"
           }
          ],
          "table": [
           {
            "cells": {
             "fill": {
              "color": "#EBF0F8"
             },
             "line": {
              "color": "white"
             }
            },
            "header": {
             "fill": {
              "color": "#C8D4E3"
             },
             "line": {
              "color": "white"
             }
            },
            "type": "table"
           }
          ]
         },
         "layout": {
          "annotationdefaults": {
           "arrowcolor": "#2a3f5f",
           "arrowhead": 0,
           "arrowwidth": 1
          },
          "autotypenumbers": "strict",
          "coloraxis": {
           "colorbar": {
            "outlinewidth": 0,
            "ticks": ""
           }
          },
          "colorscale": {
           "diverging": [
            [
             0,
             "#8e0152"
            ],
            [
             0.1,
             "#c51b7d"
            ],
            [
             0.2,
             "#de77ae"
            ],
            [
             0.3,
             "#f1b6da"
            ],
            [
             0.4,
             "#fde0ef"
            ],
            [
             0.5,
             "#f7f7f7"
            ],
            [
             0.6,
             "#e6f5d0"
            ],
            [
             0.7,
             "#b8e186"
            ],
            [
             0.8,
             "#7fbc41"
            ],
            [
             0.9,
             "#4d9221"
            ],
            [
             1,
             "#276419"
            ]
           ],
           "sequential": [
            [
             0,
             "#0d0887"
            ],
            [
             0.1111111111111111,
             "#46039f"
            ],
            [
             0.2222222222222222,
             "#7201a8"
            ],
            [
             0.3333333333333333,
             "#9c179e"
            ],
            [
             0.4444444444444444,
             "#bd3786"
            ],
            [
             0.5555555555555556,
             "#d8576b"
            ],
            [
             0.6666666666666666,
             "#ed7953"
            ],
            [
             0.7777777777777778,
             "#fb9f3a"
            ],
            [
             0.8888888888888888,
             "#fdca26"
            ],
            [
             1,
             "#f0f921"
            ]
           ],
           "sequentialminus": [
            [
             0,
             "#0d0887"
            ],
            [
             0.1111111111111111,
             "#46039f"
            ],
            [
             0.2222222222222222,
             "#7201a8"
            ],
            [
             0.3333333333333333,
             "#9c179e"
            ],
            [
             0.4444444444444444,
             "#bd3786"
            ],
            [
             0.5555555555555556,
             "#d8576b"
            ],
            [
             0.6666666666666666,
             "#ed7953"
            ],
            [
             0.7777777777777778,
             "#fb9f3a"
            ],
            [
             0.8888888888888888,
             "#fdca26"
            ],
            [
             1,
             "#f0f921"
            ]
           ]
          },
          "colorway": [
           "#636efa",
           "#EF553B",
           "#00cc96",
           "#ab63fa",
           "#FFA15A",
           "#19d3f3",
           "#FF6692",
           "#B6E880",
           "#FF97FF",
           "#FECB52"
          ],
          "font": {
           "color": "#2a3f5f"
          },
          "geo": {
           "bgcolor": "white",
           "lakecolor": "white",
           "landcolor": "#E5ECF6",
           "showlakes": true,
           "showland": true,
           "subunitcolor": "white"
          },
          "hoverlabel": {
           "align": "left"
          },
          "hovermode": "closest",
          "mapbox": {
           "style": "light"
          },
          "paper_bgcolor": "white",
          "plot_bgcolor": "#E5ECF6",
          "polar": {
           "angularaxis": {
            "gridcolor": "white",
            "linecolor": "white",
            "ticks": ""
           },
           "bgcolor": "#E5ECF6",
           "radialaxis": {
            "gridcolor": "white",
            "linecolor": "white",
            "ticks": ""
           }
          },
          "scene": {
           "xaxis": {
            "backgroundcolor": "#E5ECF6",
            "gridcolor": "white",
            "gridwidth": 2,
            "linecolor": "white",
            "showbackground": true,
            "ticks": "",
            "zerolinecolor": "white"
           },
           "yaxis": {
            "backgroundcolor": "#E5ECF6",
            "gridcolor": "white",
            "gridwidth": 2,
            "linecolor": "white",
            "showbackground": true,
            "ticks": "",
            "zerolinecolor": "white"
           },
           "zaxis": {
            "backgroundcolor": "#E5ECF6",
            "gridcolor": "white",
            "gridwidth": 2,
            "linecolor": "white",
            "showbackground": true,
            "ticks": "",
            "zerolinecolor": "white"
           }
          },
          "shapedefaults": {
           "line": {
            "color": "#2a3f5f"
           }
          },
          "ternary": {
           "aaxis": {
            "gridcolor": "white",
            "linecolor": "white",
            "ticks": ""
           },
           "baxis": {
            "gridcolor": "white",
            "linecolor": "white",
            "ticks": ""
           },
           "bgcolor": "#E5ECF6",
           "caxis": {
            "gridcolor": "white",
            "linecolor": "white",
            "ticks": ""
           }
          },
          "title": {
           "x": 0.05
          },
          "xaxis": {
           "automargin": true,
           "gridcolor": "white",
           "linecolor": "white",
           "ticks": "",
           "title": {
            "standoff": 15
           },
           "zerolinecolor": "white",
           "zerolinewidth": 2
          },
          "yaxis": {
           "automargin": true,
           "gridcolor": "white",
           "linecolor": "white",
           "ticks": "",
           "title": {
            "standoff": 15
           },
           "zerolinecolor": "white",
           "zerolinewidth": 2
          }
         }
        },
        "title": {
         "text": "<b>AMM Curve</b>"
        },
        "width": 1000,
        "xaxis": {
         "anchor": "y",
         "domain": [
          0,
          1
         ],
         "range": [
          0,
          1000
         ],
         "title": {
          "text": "token_A"
         }
        },
        "yaxis": {
         "anchor": "x",
         "domain": [
          0,
          1
         ],
         "range": [
          0,
          1000
         ],
         "title": {
          "text": "token_B"
         }
        }
       }
      },
      "text/html": [
       "<div>                            <div id=\"b11c7249-8fea-4824-ad73-de1fe7a6ccd4\" class=\"plotly-graph-div\" style=\"height:1000px; width:1000px;\"></div>            <script type=\"text/javascript\">                require([\"plotly\"], function(Plotly) {                    window.PLOTLYENV=window.PLOTLYENV || {};                                    if (document.getElementById(\"b11c7249-8fea-4824-ad73-de1fe7a6ccd4\")) {                    Plotly.newPlot(                        \"b11c7249-8fea-4824-ad73-de1fe7a6ccd4\",                        [{\"hovertemplate\": \"token_A=%{x}<br>token_B=%{y}<extra></extra>\", \"legendgroup\": \"\", \"line\": {\"color\": \"#30123b\", \"dash\": \"solid\"}, \"mode\": \"lines\", \"name\": \"\", \"orientation\": \"v\", \"showlegend\": false, \"type\": \"scatter\", \"x\": [1.0, 2.0, 3.0, 4.0, 5.0, 6.0, 7.0, 8.0, 9.0, 10.0, 11.0, 12.0, 13.0, 14.0, 15.0, 16.0, 17.0, 18.0, 19.0, 20.0, 21.0, 22.0, 23.0, 24.0, 25.0, 26.0, 27.0, 28.0, 29.0, 30.0, 31.0, 32.0, 33.0, 34.0, 35.0, 36.0, 37.0, 38.0, 39.0, 40.0, 41.0, 42.0, 43.0, 44.0, 45.0, 46.0, 47.0, 48.0, 49.0, 50.0, 51.0, 52.0, 53.0, 54.0, 55.0, 56.0, 57.0, 58.0, 59.0, 60.0, 61.0, 62.0, 63.0, 64.0, 65.0, 66.0, 67.0, 68.0, 69.0, 70.0, 71.0, 72.0, 73.0, 74.0, 75.0, 76.0, 77.0, 78.0, 79.0, 80.0, 81.0, 82.0, 83.0, 84.0, 85.0, 86.0, 87.0, 88.0, 89.0, 90.0, 91.0, 92.0, 93.0, 94.0, 95.0, 96.0, 97.0, 98.0, 99.0, 100.0, 10000.0, 4999.999999999998, 3333.333333333334, 2500.0, 1999.9999999999995, 1666.666666666667, 1428.5714285714284, 1249.9999999999995, 1111.1111111111113, 1000.0, 909.090909090909, 833.3333333333335, 769.2307692307693, 714.2857142857142, 666.6666666666666, 625.0, 588.2352941176471, 555.5555555555555, 526.315789473684, 499.9999999999999, 476.1904761904763, 454.5454545454545, 434.7826086956523, 416.66666666666674, 400.0, 384.6153846153847, 370.3703703703703, 357.1428571428571, 344.8275862068966, 333.3333333333333, 322.5806451612904, 312.4999999999999, 303.03030303030306, 294.11764705882354, 285.7142857142858, 277.7777777777778, 270.2702702702703, 263.1578947368422, 256.41025641025635, 250.0, 243.90243902439028, 238.09523809523807, 232.55813953488374, 227.27272727272725, 222.2222222222222, 217.3913043478261, 212.7659574468085, 208.33333333333337, 204.08163265306123, 199.99999999999997, 196.07843137254898, 192.30769230769232, 188.6792452830189, 185.18518518518516, 181.81818181818184, 178.57142857142856, 175.43859649122805, 172.41379310344826, 169.4915254237288, 166.66666666666666, 163.9344262295082, 161.29032258064515, 158.73015873015873, 156.25, 153.84615384615387, 151.51515151515147, 149.25373134328356, 147.05882352941177, 144.92753623188406, 142.85714285714286, 140.8450704225352, 138.88888888888889, 136.98630136986304, 135.13513513513513, 133.33333333333331, 131.578947368421, 129.87012987012983, 128.20512820512818, 126.58227848101268, 124.99999999999997, 123.45679012345678, 121.95121951219511, 120.48192771084337, 119.04761904761908, 117.6470588235294, 116.27906976744187, 114.94252873563217, 113.63636363636363, 112.35955056179779, 111.1111111111111, 109.89010989010991, 108.69565217391307, 107.5268817204301, 106.38297872340425, 105.26315789473686, 104.16666666666669, 103.09278350515464, 102.0408163265306, 101.01010101010101, 100.0], \"xaxis\": \"x\", \"y\": [10000.0, 4999.999999999998, 3333.333333333334, 2500.0, 1999.9999999999995, 1666.666666666667, 1428.5714285714284, 1249.9999999999995, 1111.1111111111113, 1000.0, 909.090909090909, 833.3333333333335, 769.2307692307693, 714.2857142857142, 666.6666666666666, 625.0, 588.2352941176471, 555.5555555555555, 526.315789473684, 499.9999999999999, 476.1904761904763, 454.5454545454545, 434.7826086956523, 416.66666666666674, 400.0, 384.6153846153847, 370.3703703703703, 357.1428571428571, 344.8275862068966, 333.3333333333333, 322.5806451612904, 312.4999999999999, 303.03030303030306, 294.11764705882354, 285.7142857142858, 277.7777777777778, 270.2702702702703, 263.1578947368422, 256.41025641025635, 250.0, 243.90243902439028, 238.09523809523807, 232.55813953488374, 227.27272727272725, 222.2222222222222, 217.3913043478261, 212.7659574468085, 208.33333333333337, 204.08163265306123, 199.99999999999997, 196.07843137254898, 192.30769230769232, 188.6792452830189, 185.18518518518516, 181.81818181818184, 178.57142857142856, 175.43859649122805, 172.41379310344826, 169.4915254237288, 166.66666666666666, 163.9344262295082, 161.29032258064515, 158.73015873015873, 156.25, 153.84615384615387, 151.51515151515147, 149.25373134328356, 147.05882352941177, 144.92753623188406, 142.85714285714286, 140.8450704225352, 138.88888888888889, 136.98630136986304, 135.13513513513513, 133.33333333333331, 131.578947368421, 129.87012987012983, 128.20512820512818, 126.58227848101268, 124.99999999999997, 123.45679012345678, 121.95121951219511, 120.48192771084337, 119.04761904761908, 117.6470588235294, 116.27906976744187, 114.94252873563217, 113.63636363636363, 112.35955056179779, 111.1111111111111, 109.89010989010991, 108.69565217391307, 107.5268817204301, 106.38297872340425, 105.26315789473686, 104.16666666666669, 103.09278350515464, 102.0408163265306, 101.01010101010101, 100.0, 1.0, 2.0, 3.0, 4.0, 5.0, 6.0, 7.0, 8.0, 9.0, 10.0, 11.0, 12.0, 13.0, 14.0, 15.0, 16.0, 17.0, 18.0, 19.0, 20.0, 21.0, 22.0, 23.0, 24.0, 25.0, 26.0, 27.0, 28.0, 29.0, 30.0, 31.0, 32.0, 33.0, 34.0, 35.0, 36.0, 37.0, 38.0, 39.0, 40.0, 41.0, 42.0, 43.0, 44.0, 45.0, 46.0, 47.0, 48.0, 49.0, 50.0, 51.0, 52.0, 53.0, 54.0, 55.0, 56.0, 57.0, 58.0, 59.0, 60.0, 61.0, 62.0, 63.0, 64.0, 65.0, 66.0, 67.0, 68.0, 69.0, 70.0, 71.0, 72.0, 73.0, 74.0, 75.0, 76.0, 77.0, 78.0, 79.0, 80.0, 81.0, 82.0, 83.0, 84.0, 85.0, 86.0, 87.0, 88.0, 89.0, 90.0, 91.0, 92.0, 93.0, 94.0, 95.0, 96.0, 97.0, 98.0, 99.0, 100.0], \"yaxis\": \"y\"}],                        {\"annotations\": [{\"showarrow\": true, \"text\": \"initial price/starting price\", \"x\": 100, \"y\": 100, \"yshift\": 10}, {\"showarrow\": true, \"text\": \"price after 90 swaps\", \"x\": 10, \"y\": 1000, \"yshift\": -10}], \"height\": 1000, \"legend\": {\"tracegroupgap\": 0}, \"margin\": {\"t\": 60}, \"template\": {\"data\": {\"bar\": [{\"error_x\": {\"color\": \"#2a3f5f\"}, \"error_y\": {\"color\": \"#2a3f5f\"}, \"marker\": {\"line\": {\"color\": \"#E5ECF6\", \"width\": 0.5}}, \"type\": \"bar\"}], \"barpolar\": [{\"marker\": {\"line\": {\"color\": \"#E5ECF6\", \"width\": 0.5}}, \"type\": \"barpolar\"}], \"carpet\": [{\"aaxis\": {\"endlinecolor\": \"#2a3f5f\", \"gridcolor\": \"white\", \"linecolor\": \"white\", \"minorgridcolor\": \"white\", \"startlinecolor\": \"#2a3f5f\"}, \"baxis\": {\"endlinecolor\": \"#2a3f5f\", \"gridcolor\": \"white\", \"linecolor\": \"white\", \"minorgridcolor\": \"white\", \"startlinecolor\": \"#2a3f5f\"}, \"type\": \"carpet\"}], \"choropleth\": [{\"colorbar\": {\"outlinewidth\": 0, \"ticks\": \"\"}, \"type\": \"choropleth\"}], \"contour\": [{\"colorbar\": {\"outlinewidth\": 0, \"ticks\": \"\"}, \"colorscale\": [[0.0, \"#0d0887\"], [0.1111111111111111, \"#46039f\"], [0.2222222222222222, \"#7201a8\"], [0.3333333333333333, \"#9c179e\"], [0.4444444444444444, \"#bd3786\"], [0.5555555555555556, \"#d8576b\"], [0.6666666666666666, \"#ed7953\"], [0.7777777777777778, \"#fb9f3a\"], [0.8888888888888888, \"#fdca26\"], [1.0, \"#f0f921\"]], \"type\": \"contour\"}], \"contourcarpet\": [{\"colorbar\": {\"outlinewidth\": 0, \"ticks\": \"\"}, \"type\": \"contourcarpet\"}], \"heatmap\": [{\"colorbar\": {\"outlinewidth\": 0, \"ticks\": \"\"}, \"colorscale\": [[0.0, \"#0d0887\"], [0.1111111111111111, \"#46039f\"], [0.2222222222222222, \"#7201a8\"], [0.3333333333333333, \"#9c179e\"], [0.4444444444444444, \"#bd3786\"], [0.5555555555555556, \"#d8576b\"], [0.6666666666666666, \"#ed7953\"], [0.7777777777777778, \"#fb9f3a\"], [0.8888888888888888, \"#fdca26\"], [1.0, \"#f0f921\"]], \"type\": \"heatmap\"}], \"heatmapgl\": [{\"colorbar\": {\"outlinewidth\": 0, \"ticks\": \"\"}, \"colorscale\": [[0.0, \"#0d0887\"], [0.1111111111111111, \"#46039f\"], [0.2222222222222222, \"#7201a8\"], [0.3333333333333333, \"#9c179e\"], [0.4444444444444444, \"#bd3786\"], [0.5555555555555556, \"#d8576b\"], [0.6666666666666666, \"#ed7953\"], [0.7777777777777778, \"#fb9f3a\"], [0.8888888888888888, \"#fdca26\"], [1.0, \"#f0f921\"]], \"type\": \"heatmapgl\"}], \"histogram\": [{\"marker\": {\"colorbar\": {\"outlinewidth\": 0, \"ticks\": \"\"}}, \"type\": \"histogram\"}], \"histogram2d\": [{\"colorbar\": {\"outlinewidth\": 0, \"ticks\": \"\"}, \"colorscale\": [[0.0, \"#0d0887\"], [0.1111111111111111, \"#46039f\"], [0.2222222222222222, \"#7201a8\"], [0.3333333333333333, \"#9c179e\"], [0.4444444444444444, \"#bd3786\"], [0.5555555555555556, \"#d8576b\"], [0.6666666666666666, \"#ed7953\"], [0.7777777777777778, \"#fb9f3a\"], [0.8888888888888888, \"#fdca26\"], [1.0, \"#f0f921\"]], \"type\": \"histogram2d\"}], \"histogram2dcontour\": [{\"colorbar\": {\"outlinewidth\": 0, \"ticks\": \"\"}, \"colorscale\": [[0.0, \"#0d0887\"], [0.1111111111111111, \"#46039f\"], [0.2222222222222222, \"#7201a8\"], [0.3333333333333333, \"#9c179e\"], [0.4444444444444444, \"#bd3786\"], [0.5555555555555556, \"#d8576b\"], [0.6666666666666666, \"#ed7953\"], [0.7777777777777778, \"#fb9f3a\"], [0.8888888888888888, \"#fdca26\"], [1.0, \"#f0f921\"]], \"type\": \"histogram2dcontour\"}], \"mesh3d\": [{\"colorbar\": {\"outlinewidth\": 0, \"ticks\": \"\"}, \"type\": \"mesh3d\"}], \"parcoords\": [{\"line\": {\"colorbar\": {\"outlinewidth\": 0, \"ticks\": \"\"}}, \"type\": \"parcoords\"}], \"pie\": [{\"automargin\": true, \"type\": \"pie\"}], \"scatter\": [{\"marker\": {\"colorbar\": {\"outlinewidth\": 0, \"ticks\": \"\"}}, \"type\": \"scatter\"}], \"scatter3d\": [{\"line\": {\"colorbar\": {\"outlinewidth\": 0, \"ticks\": \"\"}}, \"marker\": {\"colorbar\": {\"outlinewidth\": 0, \"ticks\": \"\"}}, \"type\": \"scatter3d\"}], \"scattercarpet\": [{\"marker\": {\"colorbar\": {\"outlinewidth\": 0, \"ticks\": \"\"}}, \"type\": \"scattercarpet\"}], \"scattergeo\": [{\"marker\": {\"colorbar\": {\"outlinewidth\": 0, \"ticks\": \"\"}}, \"type\": \"scattergeo\"}], \"scattergl\": [{\"marker\": {\"colorbar\": {\"outlinewidth\": 0, \"ticks\": \"\"}}, \"type\": \"scattergl\"}], \"scattermapbox\": [{\"marker\": {\"colorbar\": {\"outlinewidth\": 0, \"ticks\": \"\"}}, \"type\": \"scattermapbox\"}], \"scatterpolar\": [{\"marker\": {\"colorbar\": {\"outlinewidth\": 0, \"ticks\": \"\"}}, \"type\": \"scatterpolar\"}], \"scatterpolargl\": [{\"marker\": {\"colorbar\": {\"outlinewidth\": 0, \"ticks\": \"\"}}, \"type\": \"scatterpolargl\"}], \"scatterternary\": [{\"marker\": {\"colorbar\": {\"outlinewidth\": 0, \"ticks\": \"\"}}, \"type\": \"scatterternary\"}], \"surface\": [{\"colorbar\": {\"outlinewidth\": 0, \"ticks\": \"\"}, \"colorscale\": [[0.0, \"#0d0887\"], [0.1111111111111111, \"#46039f\"], [0.2222222222222222, \"#7201a8\"], [0.3333333333333333, \"#9c179e\"], [0.4444444444444444, \"#bd3786\"], [0.5555555555555556, \"#d8576b\"], [0.6666666666666666, \"#ed7953\"], [0.7777777777777778, \"#fb9f3a\"], [0.8888888888888888, \"#fdca26\"], [1.0, \"#f0f921\"]], \"type\": \"surface\"}], \"table\": [{\"cells\": {\"fill\": {\"color\": \"#EBF0F8\"}, \"line\": {\"color\": \"white\"}}, \"header\": {\"fill\": {\"color\": \"#C8D4E3\"}, \"line\": {\"color\": \"white\"}}, \"type\": \"table\"}]}, \"layout\": {\"annotationdefaults\": {\"arrowcolor\": \"#2a3f5f\", \"arrowhead\": 0, \"arrowwidth\": 1}, \"autotypenumbers\": \"strict\", \"coloraxis\": {\"colorbar\": {\"outlinewidth\": 0, \"ticks\": \"\"}}, \"colorscale\": {\"diverging\": [[0, \"#8e0152\"], [0.1, \"#c51b7d\"], [0.2, \"#de77ae\"], [0.3, \"#f1b6da\"], [0.4, \"#fde0ef\"], [0.5, \"#f7f7f7\"], [0.6, \"#e6f5d0\"], [0.7, \"#b8e186\"], [0.8, \"#7fbc41\"], [0.9, \"#4d9221\"], [1, \"#276419\"]], \"sequential\": [[0.0, \"#0d0887\"], [0.1111111111111111, \"#46039f\"], [0.2222222222222222, \"#7201a8\"], [0.3333333333333333, \"#9c179e\"], [0.4444444444444444, \"#bd3786\"], [0.5555555555555556, \"#d8576b\"], [0.6666666666666666, \"#ed7953\"], [0.7777777777777778, \"#fb9f3a\"], [0.8888888888888888, \"#fdca26\"], [1.0, \"#f0f921\"]], \"sequentialminus\": [[0.0, \"#0d0887\"], [0.1111111111111111, \"#46039f\"], [0.2222222222222222, \"#7201a8\"], [0.3333333333333333, \"#9c179e\"], [0.4444444444444444, \"#bd3786\"], [0.5555555555555556, \"#d8576b\"], [0.6666666666666666, \"#ed7953\"], [0.7777777777777778, \"#fb9f3a\"], [0.8888888888888888, \"#fdca26\"], [1.0, \"#f0f921\"]]}, \"colorway\": [\"#636efa\", \"#EF553B\", \"#00cc96\", \"#ab63fa\", \"#FFA15A\", \"#19d3f3\", \"#FF6692\", \"#B6E880\", \"#FF97FF\", \"#FECB52\"], \"font\": {\"color\": \"#2a3f5f\"}, \"geo\": {\"bgcolor\": \"white\", \"lakecolor\": \"white\", \"landcolor\": \"#E5ECF6\", \"showlakes\": true, \"showland\": true, \"subunitcolor\": \"white\"}, \"hoverlabel\": {\"align\": \"left\"}, \"hovermode\": \"closest\", \"mapbox\": {\"style\": \"light\"}, \"paper_bgcolor\": \"white\", \"plot_bgcolor\": \"#E5ECF6\", \"polar\": {\"angularaxis\": {\"gridcolor\": \"white\", \"linecolor\": \"white\", \"ticks\": \"\"}, \"bgcolor\": \"#E5ECF6\", \"radialaxis\": {\"gridcolor\": \"white\", \"linecolor\": \"white\", \"ticks\": \"\"}}, \"scene\": {\"xaxis\": {\"backgroundcolor\": \"#E5ECF6\", \"gridcolor\": \"white\", \"gridwidth\": 2, \"linecolor\": \"white\", \"showbackground\": true, \"ticks\": \"\", \"zerolinecolor\": \"white\"}, \"yaxis\": {\"backgroundcolor\": \"#E5ECF6\", \"gridcolor\": \"white\", \"gridwidth\": 2, \"linecolor\": \"white\", \"showbackground\": true, \"ticks\": \"\", \"zerolinecolor\": \"white\"}, \"zaxis\": {\"backgroundcolor\": \"#E5ECF6\", \"gridcolor\": \"white\", \"gridwidth\": 2, \"linecolor\": \"white\", \"showbackground\": true, \"ticks\": \"\", \"zerolinecolor\": \"white\"}}, \"shapedefaults\": {\"line\": {\"color\": \"#2a3f5f\"}}, \"ternary\": {\"aaxis\": {\"gridcolor\": \"white\", \"linecolor\": \"white\", \"ticks\": \"\"}, \"baxis\": {\"gridcolor\": \"white\", \"linecolor\": \"white\", \"ticks\": \"\"}, \"bgcolor\": \"#E5ECF6\", \"caxis\": {\"gridcolor\": \"white\", \"linecolor\": \"white\", \"ticks\": \"\"}}, \"title\": {\"x\": 0.05}, \"xaxis\": {\"automargin\": true, \"gridcolor\": \"white\", \"linecolor\": \"white\", \"ticks\": \"\", \"title\": {\"standoff\": 15}, \"zerolinecolor\": \"white\", \"zerolinewidth\": 2}, \"yaxis\": {\"automargin\": true, \"gridcolor\": \"white\", \"linecolor\": \"white\", \"ticks\": \"\", \"title\": {\"standoff\": 15}, \"zerolinecolor\": \"white\", \"zerolinewidth\": 2}}}, \"title\": {\"text\": \"<b>AMM Curve</b>\"}, \"width\": 1000, \"xaxis\": {\"anchor\": \"y\", \"domain\": [0.0, 1.0], \"range\": [0, 1000], \"title\": {\"text\": \"token_A\"}}, \"yaxis\": {\"anchor\": \"x\", \"domain\": [0.0, 1.0], \"range\": [0, 1000], \"title\": {\"text\": \"token_B\"}}},                        {\"responsive\": true}                    ).then(function(){\n",
       "                            \n",
       "var gd = document.getElementById('b11c7249-8fea-4824-ad73-de1fe7a6ccd4');\n",
       "var x = new MutationObserver(function (mutations, observer) {{\n",
       "        var display = window.getComputedStyle(gd).display;\n",
       "        if (!display || display === 'none') {{\n",
       "            console.log([gd, 'removed!']);\n",
       "            Plotly.purge(gd);\n",
       "            observer.disconnect();\n",
       "        }}\n",
       "}});\n",
       "\n",
       "// Listen for the removal of the full notebook cells\n",
       "var notebookContainer = gd.closest('#notebook-container');\n",
       "if (notebookContainer) {{\n",
       "    x.observe(notebookContainer, {childList: true});\n",
       "}}\n",
       "\n",
       "// Listen for the clearing of the current output cell\n",
       "var outputEl = gd.closest('.output');\n",
       "if (outputEl) {{\n",
       "    x.observe(outputEl, {childList: true});\n",
       "}}\n",
       "\n",
       "                        })                };                });            </script>        </div>"
      ]
     },
     "metadata": {},
     "output_type": "display_data"
    }
   ],
   "source": [
    "fig.add_annotation(x=100, y=100, text=\"initial price/starting price\", showarrow=True, yshift=10)\n",
    "fig.add_annotation(x=10, y=1000, text=\"price after 90 swaps\", showarrow=True, yshift=-10)"
   ]
  },
  {
   "cell_type": "code",
   "execution_count": null,
   "id": "increasing-roller",
   "metadata": {},
   "outputs": [],
   "source": []
  },
  {
   "cell_type": "markdown",
   "id": "stuffed-cursor",
   "metadata": {},
   "source": [
    "# Q1.7:\n",
    "Formulate a \"rule of a thumb\", how do swaps effect the price?"
   ]
  },
  {
   "cell_type": "code",
   "execution_count": 9,
   "id": "loving-width",
   "metadata": {},
   "outputs": [
    {
     "name": "stdout",
     "output_type": "stream",
     "text": [
      "Every token A swapped out increases the price that needs to be paid in token B.\n",
      "After 50% of the tokens A have been swapped out, (virtual) price in token B doubled\n",
      "After 90% of the tokens A have been swapped out, (virtual) price in token B decupled (10x)\n"
     ]
    }
   ],
   "source": [
    "print('Every token A swapped out increases the price that needs to be paid in token B.') \n",
    "print('After 50% of the tokens A have been swapped out, (virtual) price in token B doubled') \n",
    "print('After 90% of the tokens A have been swapped out, (virtual) price in token B decupled (10x)')"
   ]
  },
  {
   "cell_type": "markdown",
   "id": "tough-sixth",
   "metadata": {},
   "source": [
    "# Now, let's consider weights!"
   ]
  },
  {
   "cell_type": "markdown",
   "id": "soviet-fruit",
   "metadata": {},
   "source": [
    "We continue with the value function V = a^w_a*b^w_b  \n",
    "where  \n",
    "a = balance of token asset A  \n",
    "b = balancer of token asset B  \n",
    "w_a = weight of token asset A  \n",
    "w_b = weight of token asset B  "
   ]
  },
  {
   "cell_type": "markdown",
   "id": "unnecessary-diagram",
   "metadata": {},
   "source": [
    "# Q2.1:  \n",
    "Write down the value function for the pool in Q1.1!"
   ]
  },
  {
   "cell_type": "code",
   "execution_count": 10,
   "id": "proud-encounter",
   "metadata": {},
   "outputs": [],
   "source": [
    "# V = (100^0.5)*(100^0.5)"
   ]
  },
  {
   "cell_type": "markdown",
   "id": "informative-replication",
   "metadata": {},
   "source": [
    "# Q2.2:\n",
    "Let's got back to your initial balances in Step 1 in the pool:  \n",
    "100 tokens A  \n",
    "100 tokens B  \n",
    "\n",
    "How do you need to change the weights in order to land at a **price of  \n",
    "4 tokens A : 1 token B**"
   ]
  },
  {
   "cell_type": "code",
   "execution_count": 11,
   "id": "fewer-computer",
   "metadata": {},
   "outputs": [
    {
     "name": "stdout",
     "output_type": "stream",
     "text": [
      "see Balancer Whitepaper https://balancer.fi/whitepaper.pdf\n",
      "\n",
      "Spotprice should be 4:1 = 4\n",
      "a_bal = 100\n",
      "b_bal = 100\n",
      "a_weight = 0.2\n",
      "b_weight = 0.8\n",
      "Spotprice = (a_bal/a_weight)/(b_bal/b_weight) = 4\n",
      "Spotprice = (100/0.2)/(100/0.8) = 4\n"
     ]
    },
    {
     "data": {
      "text/plain": [
       "4.0"
      ]
     },
     "execution_count": 11,
     "metadata": {},
     "output_type": "execute_result"
    }
   ],
   "source": [
    "print('see Balancer Whitepaper https://balancer.fi/whitepaper.pdf')\n",
    "print('')\n",
    "print('Spotprice should be 4:1 = 4')\n",
    "print('a_bal = 100')\n",
    "print('b_bal = 100')\n",
    "print('a_weight = 0.2')\n",
    "print('b_weight = 0.8')\n",
    "print('Spotprice = (a_bal/a_weight)/(b_bal/b_weight) = 4')\n",
    "print('Spotprice = (100/0.2)/(100/0.8) = 4')\n",
    "\n",
    "tokenA = (100/0.2)/(100/0.8)# calculate corresponding token price A\n",
    "tokenA"
   ]
  },
  {
   "cell_type": "markdown",
   "id": "political-huntington",
   "metadata": {},
   "source": [
    "Provide the new value function!"
   ]
  },
  {
   "cell_type": "code",
   "execution_count": 12,
   "id": "polyphonic-windsor",
   "metadata": {},
   "outputs": [
    {
     "name": "stdout",
     "output_type": "stream",
     "text": [
      "V = (100^^0.2)/(100^^0.8)\n"
     ]
    }
   ],
   "source": [
    "print('V = (100^^0.2)/(100^^0.8)')"
   ]
  },
  {
   "cell_type": "markdown",
   "id": "bearing-single",
   "metadata": {},
   "source": [
    "# Q2.3:\n",
    "Create a graph showing the new AMM Curve in Q2.2  \n",
    "Compare to the graph in Q1.4 - how does a change in weights change the graph?"
   ]
  },
  {
   "cell_type": "code",
   "execution_count": 15,
   "id": "lovely-denver",
   "metadata": {},
   "outputs": [
    {
     "data": {
      "application/vnd.plotly.v1+json": {
       "config": {
        "plotlyServerURL": "https://plot.ly"
       },
       "data": [
        {
         "hovertemplate": "token_A=%{x}<br>token_B=%{y}<extra></extra>",
         "legendgroup": "",
         "line": {
          "color": "#30123b",
          "dash": "solid"
         },
         "mode": "lines",
         "name": "",
         "orientation": "v",
         "showlegend": false,
         "type": "scatter",
         "x": [
          1,
          2,
          3,
          4,
          5,
          6,
          7,
          8,
          9,
          10,
          11,
          12,
          13,
          14,
          15,
          16,
          17,
          18,
          19,
          20,
          21,
          22,
          23,
          24,
          25,
          26,
          27,
          28,
          29,
          30,
          31,
          32,
          33,
          34,
          35,
          36,
          37,
          38,
          39,
          40,
          41,
          42,
          43,
          44,
          45,
          46,
          47,
          48,
          49,
          50,
          51,
          52,
          53,
          54,
          55,
          56,
          57,
          58,
          59,
          60,
          61,
          62,
          63,
          64,
          65,
          66,
          67,
          68,
          69,
          70,
          71,
          72,
          73,
          74,
          75,
          76,
          77,
          78,
          79,
          80,
          81,
          82,
          83,
          84,
          85,
          86,
          87,
          88,
          89,
          90,
          91,
          92,
          93,
          94,
          95,
          96,
          97,
          98,
          99,
          100,
          10000000000.000013,
          625000000.0000011,
          123456790.12345687,
          39062500.00000006,
          16000000.000000013,
          7716049.382716056,
          4164931.2786339098,
          2441406.250000002,
          1524157.9027587266,
          1000000.0000000005,
          683013.4553650711,
          482253.08641975356,
          350127.7966457759,
          260308.20491461924,
          197530.8641975311,
          152587.89062500012,
          119730.3672130363,
          95259.86892242046,
          76733.60394717663,
          62500.00000000004,
          51418.90467449267,
          42688.340960316935,
          35734.57784956458,
          30140.81790123458,
          25600.000000000025,
          21882.987290360994,
          18816.764231589226,
          16269.26280716369,
          14138.65210574016,
          12345.679012345685,
          10828.124103295977,
          9536.7431640625,
          8432.264881050263,
          7483.147950814767,
          6663.890045814248,
          5953.741807651275,
          5335.720890574503,
          4795.85024669854,
          4322.56539068859,
          3906.2500000000036,
          3538.8697062490437,
          3213.681542155792,
          2925.0020694389677,
          2668.0213100198084,
          2438.652644413962,
          2233.4111155977876,
          2049.3142891922657,
          1883.8011188271623,
          1734.6652555743049,
          1600.0000000000005,
          1478.1526816424246,
          1367.686705647562,
          1267.3498611808338,
          1176.0477644743262,
          1092.8215285841145,
          1016.8289254477305,
          947.3284437923044,
          883.6657566087599,
          825.2622002431058,
          771.6049382716051,
          722.2385408008086,
          676.7577564559988,
          634.8012922776871,
          596.0464477539066,
          560.2044746332414,
          527.0165550656411,
          496.2503078612849,
          467.69674692592287,
          441.1676277724024,
          416.49312786339044,
          393.51981476550105,
          372.1088629782048,
          352.13448607609206,
          333.48255566090654,
          316.0493827160495,
          299.74064041865864,
          284.4704103977807,
          270.16033691803693,
          256.7388755879611,
          244.14062500000009,
          232.30573125418795,
          221.17935664056515,
          210.71120489070822,
          200.85509638473678,
          191.56858754085803,
          182.81262933993534,
          174.55126056469337,
          166.7513318762381,
          159.3822573216663,
          152.41579027587255,
          145.8258211769163,
          139.58819472486164,
          133.6805444851356,
          128.08214307451664,
          122.77376631548258,
          117.7375699266976,
          112.95697747731629,
          108.41657847339401,
          104.10203556852174,
          100
         ],
         "xaxis": "x",
         "y": [
          316.227766016838,
          265.9147948472495,
          240.2811414134755,
          223.60679774997905,
          211.47425268811287,
          202.05155046766242,
          194.41308418139644,
          188.03015465431974,
          182.57418583505543,
          177.8279410038923,
          173.64082025196836,
          169.9044244847123,
          166.538313343391,
          163.48126556655492,
          160.6856837889304,
          158.11388300841904,
          155.7355531137104,
          153.52597838656362,
          151.46475955500736,
          149.5348781221221,
          147.72199911861216,
          146.01394329159479,
          144.40028187544334,
          142.87202148494003,
          141.42135623730954,
          140.04147069285733,
          138.72638167626062,
          137.47081017605655,
          136.2700767509331,
          135.12001548070347,
          134.01690267528755,
          132.95739742362477,
          131.93849171325928,
          130.95746834087353,
          130.01186520687386,
          129.0994448735806,
          128.21816848846245,
          127.36617334707151,
          126.54175350653523,
          125.74334296829359,
          124.96950103469494,
          124.21889951295333,
          123.49031149551966,
          122.7826014909612,
          122.09471671615692,
          121.42567939068621,
          120.77457989903947,
          120.14057070673776,
          119.5228609334394,
          118.92071150027213,
          118.33343078048614,
          117.76037069248184,
          117.20092318266488,
          116.65451705268615,
          116.12061509165741,
          115.59871147906982,
          115.0883294285326,
          114.58901904620821,
          114.10035538105215,
          113.62193664674999,
          113.15338259764755,
          112.69433304305527,
          112.24444648611463,
          111.80339887498951,
          111.37088245551821,
          110.94660471566169,
          110.53028741313636,
          110.12166567854239,
          109.7204871871107,
          109.32651139290937,
          108.93950881998019,
          108.55926040543848,
          108.18555689006301,
          107.81819825234483,
          107.45699318235422,
          107.10175859213561,
          106.75231915965011,
          106.40850690356466,
          106.07016078643534,
          105.73712634405643,
          105.409255338946,
          105.08640543612034,
          104.76843989947089,
          104.45522730720386,
          104.14664128493446,
          103.84256025514706,
          103.54286720184038,
          103.24744944927467,
          102.95619845382603,
          102.66900960803413,
          102.38578205600223,
          102.10641851937488,
          101.83082513317987,
          101.5589112908756,
          101.29058949799605,
          101.0257752338312,
          100.76438682062327,
          100.50634529979745,
          100.25157431478137,
          100.00000000000003,
          1,
          2,
          3,
          4,
          5,
          6,
          7,
          8,
          9,
          10,
          11,
          12,
          13,
          14,
          15,
          16,
          17,
          18,
          19,
          20,
          21,
          22,
          23,
          24,
          25,
          26,
          27,
          28,
          29,
          30,
          31,
          32,
          33,
          34,
          35,
          36,
          37,
          38,
          39,
          40,
          41,
          42,
          43,
          44,
          45,
          46,
          47,
          48,
          49,
          50,
          51,
          52,
          53,
          54,
          55,
          56,
          57,
          58,
          59,
          60,
          61,
          62,
          63,
          64,
          65,
          66,
          67,
          68,
          69,
          70,
          71,
          72,
          73,
          74,
          75,
          76,
          77,
          78,
          79,
          80,
          81,
          82,
          83,
          84,
          85,
          86,
          87,
          88,
          89,
          90,
          91,
          92,
          93,
          94,
          95,
          96,
          97,
          98,
          99,
          100
         ],
         "yaxis": "y"
        }
       ],
       "layout": {
        "height": 1000,
        "legend": {
         "tracegroupgap": 0
        },
        "margin": {
         "t": 60
        },
        "template": {
         "data": {
          "bar": [
           {
            "error_x": {
             "color": "#2a3f5f"
            },
            "error_y": {
             "color": "#2a3f5f"
            },
            "marker": {
             "line": {
              "color": "#E5ECF6",
              "width": 0.5
             }
            },
            "type": "bar"
           }
          ],
          "barpolar": [
           {
            "marker": {
             "line": {
              "color": "#E5ECF6",
              "width": 0.5
             }
            },
            "type": "barpolar"
           }
          ],
          "carpet": [
           {
            "aaxis": {
             "endlinecolor": "#2a3f5f",
             "gridcolor": "white",
             "linecolor": "white",
             "minorgridcolor": "white",
             "startlinecolor": "#2a3f5f"
            },
            "baxis": {
             "endlinecolor": "#2a3f5f",
             "gridcolor": "white",
             "linecolor": "white",
             "minorgridcolor": "white",
             "startlinecolor": "#2a3f5f"
            },
            "type": "carpet"
           }
          ],
          "choropleth": [
           {
            "colorbar": {
             "outlinewidth": 0,
             "ticks": ""
            },
            "type": "choropleth"
           }
          ],
          "contour": [
           {
            "colorbar": {
             "outlinewidth": 0,
             "ticks": ""
            },
            "colorscale": [
             [
              0,
              "#0d0887"
             ],
             [
              0.1111111111111111,
              "#46039f"
             ],
             [
              0.2222222222222222,
              "#7201a8"
             ],
             [
              0.3333333333333333,
              "#9c179e"
             ],
             [
              0.4444444444444444,
              "#bd3786"
             ],
             [
              0.5555555555555556,
              "#d8576b"
             ],
             [
              0.6666666666666666,
              "#ed7953"
             ],
             [
              0.7777777777777778,
              "#fb9f3a"
             ],
             [
              0.8888888888888888,
              "#fdca26"
             ],
             [
              1,
              "#f0f921"
             ]
            ],
            "type": "contour"
           }
          ],
          "contourcarpet": [
           {
            "colorbar": {
             "outlinewidth": 0,
             "ticks": ""
            },
            "type": "contourcarpet"
           }
          ],
          "heatmap": [
           {
            "colorbar": {
             "outlinewidth": 0,
             "ticks": ""
            },
            "colorscale": [
             [
              0,
              "#0d0887"
             ],
             [
              0.1111111111111111,
              "#46039f"
             ],
             [
              0.2222222222222222,
              "#7201a8"
             ],
             [
              0.3333333333333333,
              "#9c179e"
             ],
             [
              0.4444444444444444,
              "#bd3786"
             ],
             [
              0.5555555555555556,
              "#d8576b"
             ],
             [
              0.6666666666666666,
              "#ed7953"
             ],
             [
              0.7777777777777778,
              "#fb9f3a"
             ],
             [
              0.8888888888888888,
              "#fdca26"
             ],
             [
              1,
              "#f0f921"
             ]
            ],
            "type": "heatmap"
           }
          ],
          "heatmapgl": [
           {
            "colorbar": {
             "outlinewidth": 0,
             "ticks": ""
            },
            "colorscale": [
             [
              0,
              "#0d0887"
             ],
             [
              0.1111111111111111,
              "#46039f"
             ],
             [
              0.2222222222222222,
              "#7201a8"
             ],
             [
              0.3333333333333333,
              "#9c179e"
             ],
             [
              0.4444444444444444,
              "#bd3786"
             ],
             [
              0.5555555555555556,
              "#d8576b"
             ],
             [
              0.6666666666666666,
              "#ed7953"
             ],
             [
              0.7777777777777778,
              "#fb9f3a"
             ],
             [
              0.8888888888888888,
              "#fdca26"
             ],
             [
              1,
              "#f0f921"
             ]
            ],
            "type": "heatmapgl"
           }
          ],
          "histogram": [
           {
            "marker": {
             "colorbar": {
              "outlinewidth": 0,
              "ticks": ""
             }
            },
            "type": "histogram"
           }
          ],
          "histogram2d": [
           {
            "colorbar": {
             "outlinewidth": 0,
             "ticks": ""
            },
            "colorscale": [
             [
              0,
              "#0d0887"
             ],
             [
              0.1111111111111111,
              "#46039f"
             ],
             [
              0.2222222222222222,
              "#7201a8"
             ],
             [
              0.3333333333333333,
              "#9c179e"
             ],
             [
              0.4444444444444444,
              "#bd3786"
             ],
             [
              0.5555555555555556,
              "#d8576b"
             ],
             [
              0.6666666666666666,
              "#ed7953"
             ],
             [
              0.7777777777777778,
              "#fb9f3a"
             ],
             [
              0.8888888888888888,
              "#fdca26"
             ],
             [
              1,
              "#f0f921"
             ]
            ],
            "type": "histogram2d"
           }
          ],
          "histogram2dcontour": [
           {
            "colorbar": {
             "outlinewidth": 0,
             "ticks": ""
            },
            "colorscale": [
             [
              0,
              "#0d0887"
             ],
             [
              0.1111111111111111,
              "#46039f"
             ],
             [
              0.2222222222222222,
              "#7201a8"
             ],
             [
              0.3333333333333333,
              "#9c179e"
             ],
             [
              0.4444444444444444,
              "#bd3786"
             ],
             [
              0.5555555555555556,
              "#d8576b"
             ],
             [
              0.6666666666666666,
              "#ed7953"
             ],
             [
              0.7777777777777778,
              "#fb9f3a"
             ],
             [
              0.8888888888888888,
              "#fdca26"
             ],
             [
              1,
              "#f0f921"
             ]
            ],
            "type": "histogram2dcontour"
           }
          ],
          "mesh3d": [
           {
            "colorbar": {
             "outlinewidth": 0,
             "ticks": ""
            },
            "type": "mesh3d"
           }
          ],
          "parcoords": [
           {
            "line": {
             "colorbar": {
              "outlinewidth": 0,
              "ticks": ""
             }
            },
            "type": "parcoords"
           }
          ],
          "pie": [
           {
            "automargin": true,
            "type": "pie"
           }
          ],
          "scatter": [
           {
            "marker": {
             "colorbar": {
              "outlinewidth": 0,
              "ticks": ""
             }
            },
            "type": "scatter"
           }
          ],
          "scatter3d": [
           {
            "line": {
             "colorbar": {
              "outlinewidth": 0,
              "ticks": ""
             }
            },
            "marker": {
             "colorbar": {
              "outlinewidth": 0,
              "ticks": ""
             }
            },
            "type": "scatter3d"
           }
          ],
          "scattercarpet": [
           {
            "marker": {
             "colorbar": {
              "outlinewidth": 0,
              "ticks": ""
             }
            },
            "type": "scattercarpet"
           }
          ],
          "scattergeo": [
           {
            "marker": {
             "colorbar": {
              "outlinewidth": 0,
              "ticks": ""
             }
            },
            "type": "scattergeo"
           }
          ],
          "scattergl": [
           {
            "marker": {
             "colorbar": {
              "outlinewidth": 0,
              "ticks": ""
             }
            },
            "type": "scattergl"
           }
          ],
          "scattermapbox": [
           {
            "marker": {
             "colorbar": {
              "outlinewidth": 0,
              "ticks": ""
             }
            },
            "type": "scattermapbox"
           }
          ],
          "scatterpolar": [
           {
            "marker": {
             "colorbar": {
              "outlinewidth": 0,
              "ticks": ""
             }
            },
            "type": "scatterpolar"
           }
          ],
          "scatterpolargl": [
           {
            "marker": {
             "colorbar": {
              "outlinewidth": 0,
              "ticks": ""
             }
            },
            "type": "scatterpolargl"
           }
          ],
          "scatterternary": [
           {
            "marker": {
             "colorbar": {
              "outlinewidth": 0,
              "ticks": ""
             }
            },
            "type": "scatterternary"
           }
          ],
          "surface": [
           {
            "colorbar": {
             "outlinewidth": 0,
             "ticks": ""
            },
            "colorscale": [
             [
              0,
              "#0d0887"
             ],
             [
              0.1111111111111111,
              "#46039f"
             ],
             [
              0.2222222222222222,
              "#7201a8"
             ],
             [
              0.3333333333333333,
              "#9c179e"
             ],
             [
              0.4444444444444444,
              "#bd3786"
             ],
             [
              0.5555555555555556,
              "#d8576b"
             ],
             [
              0.6666666666666666,
              "#ed7953"
             ],
             [
              0.7777777777777778,
              "#fb9f3a"
             ],
             [
              0.8888888888888888,
              "#fdca26"
             ],
             [
              1,
              "#f0f921"
             ]
            ],
            "type": "surface"
           }
          ],
          "table": [
           {
            "cells": {
             "fill": {
              "color": "#EBF0F8"
             },
             "line": {
              "color": "white"
             }
            },
            "header": {
             "fill": {
              "color": "#C8D4E3"
             },
             "line": {
              "color": "white"
             }
            },
            "type": "table"
           }
          ]
         },
         "layout": {
          "annotationdefaults": {
           "arrowcolor": "#2a3f5f",
           "arrowhead": 0,
           "arrowwidth": 1
          },
          "autotypenumbers": "strict",
          "coloraxis": {
           "colorbar": {
            "outlinewidth": 0,
            "ticks": ""
           }
          },
          "colorscale": {
           "diverging": [
            [
             0,
             "#8e0152"
            ],
            [
             0.1,
             "#c51b7d"
            ],
            [
             0.2,
             "#de77ae"
            ],
            [
             0.3,
             "#f1b6da"
            ],
            [
             0.4,
             "#fde0ef"
            ],
            [
             0.5,
             "#f7f7f7"
            ],
            [
             0.6,
             "#e6f5d0"
            ],
            [
             0.7,
             "#b8e186"
            ],
            [
             0.8,
             "#7fbc41"
            ],
            [
             0.9,
             "#4d9221"
            ],
            [
             1,
             "#276419"
            ]
           ],
           "sequential": [
            [
             0,
             "#0d0887"
            ],
            [
             0.1111111111111111,
             "#46039f"
            ],
            [
             0.2222222222222222,
             "#7201a8"
            ],
            [
             0.3333333333333333,
             "#9c179e"
            ],
            [
             0.4444444444444444,
             "#bd3786"
            ],
            [
             0.5555555555555556,
             "#d8576b"
            ],
            [
             0.6666666666666666,
             "#ed7953"
            ],
            [
             0.7777777777777778,
             "#fb9f3a"
            ],
            [
             0.8888888888888888,
             "#fdca26"
            ],
            [
             1,
             "#f0f921"
            ]
           ],
           "sequentialminus": [
            [
             0,
             "#0d0887"
            ],
            [
             0.1111111111111111,
             "#46039f"
            ],
            [
             0.2222222222222222,
             "#7201a8"
            ],
            [
             0.3333333333333333,
             "#9c179e"
            ],
            [
             0.4444444444444444,
             "#bd3786"
            ],
            [
             0.5555555555555556,
             "#d8576b"
            ],
            [
             0.6666666666666666,
             "#ed7953"
            ],
            [
             0.7777777777777778,
             "#fb9f3a"
            ],
            [
             0.8888888888888888,
             "#fdca26"
            ],
            [
             1,
             "#f0f921"
            ]
           ]
          },
          "colorway": [
           "#636efa",
           "#EF553B",
           "#00cc96",
           "#ab63fa",
           "#FFA15A",
           "#19d3f3",
           "#FF6692",
           "#B6E880",
           "#FF97FF",
           "#FECB52"
          ],
          "font": {
           "color": "#2a3f5f"
          },
          "geo": {
           "bgcolor": "white",
           "lakecolor": "white",
           "landcolor": "#E5ECF6",
           "showlakes": true,
           "showland": true,
           "subunitcolor": "white"
          },
          "hoverlabel": {
           "align": "left"
          },
          "hovermode": "closest",
          "mapbox": {
           "style": "light"
          },
          "paper_bgcolor": "white",
          "plot_bgcolor": "#E5ECF6",
          "polar": {
           "angularaxis": {
            "gridcolor": "white",
            "linecolor": "white",
            "ticks": ""
           },
           "bgcolor": "#E5ECF6",
           "radialaxis": {
            "gridcolor": "white",
            "linecolor": "white",
            "ticks": ""
           }
          },
          "scene": {
           "xaxis": {
            "backgroundcolor": "#E5ECF6",
            "gridcolor": "white",
            "gridwidth": 2,
            "linecolor": "white",
            "showbackground": true,
            "ticks": "",
            "zerolinecolor": "white"
           },
           "yaxis": {
            "backgroundcolor": "#E5ECF6",
            "gridcolor": "white",
            "gridwidth": 2,
            "linecolor": "white",
            "showbackground": true,
            "ticks": "",
            "zerolinecolor": "white"
           },
           "zaxis": {
            "backgroundcolor": "#E5ECF6",
            "gridcolor": "white",
            "gridwidth": 2,
            "linecolor": "white",
            "showbackground": true,
            "ticks": "",
            "zerolinecolor": "white"
           }
          },
          "shapedefaults": {
           "line": {
            "color": "#2a3f5f"
           }
          },
          "ternary": {
           "aaxis": {
            "gridcolor": "white",
            "linecolor": "white",
            "ticks": ""
           },
           "baxis": {
            "gridcolor": "white",
            "linecolor": "white",
            "ticks": ""
           },
           "bgcolor": "#E5ECF6",
           "caxis": {
            "gridcolor": "white",
            "linecolor": "white",
            "ticks": ""
           }
          },
          "title": {
           "x": 0.05
          },
          "xaxis": {
           "automargin": true,
           "gridcolor": "white",
           "linecolor": "white",
           "ticks": "",
           "title": {
            "standoff": 15
           },
           "zerolinecolor": "white",
           "zerolinewidth": 2
          },
          "yaxis": {
           "automargin": true,
           "gridcolor": "white",
           "linecolor": "white",
           "ticks": "",
           "title": {
            "standoff": 15
           },
           "zerolinecolor": "white",
           "zerolinewidth": 2
          }
         }
        },
        "title": {
         "text": "<b>AMM Curve 20/80</b>"
        },
        "width": 1000,
        "xaxis": {
         "anchor": "y",
         "domain": [
          0,
          1
         ],
         "range": [
          0,
          50000
         ],
         "title": {
          "text": "token_A"
         }
        },
        "yaxis": {
         "anchor": "x",
         "domain": [
          0,
          1
         ],
         "range": [
          0,
          500
         ],
         "title": {
          "text": "token_B"
         }
        }
       }
      },
      "text/html": [
       "<div>                            <div id=\"55d350a5-1bf8-4763-b8a9-70f5456a342d\" class=\"plotly-graph-div\" style=\"height:1000px; width:1000px;\"></div>            <script type=\"text/javascript\">                require([\"plotly\"], function(Plotly) {                    window.PLOTLYENV=window.PLOTLYENV || {};                                    if (document.getElementById(\"55d350a5-1bf8-4763-b8a9-70f5456a342d\")) {                    Plotly.newPlot(                        \"55d350a5-1bf8-4763-b8a9-70f5456a342d\",                        [{\"hovertemplate\": \"token_A=%{x}<br>token_B=%{y}<extra></extra>\", \"legendgroup\": \"\", \"line\": {\"color\": \"#30123b\", \"dash\": \"solid\"}, \"mode\": \"lines\", \"name\": \"\", \"orientation\": \"v\", \"showlegend\": false, \"type\": \"scatter\", \"x\": [1.0, 2.0, 3.0, 4.0, 5.0, 6.0, 7.0, 8.0, 9.0, 10.0, 11.0, 12.0, 13.0, 14.0, 15.0, 16.0, 17.0, 18.0, 19.0, 20.0, 21.0, 22.0, 23.0, 24.0, 25.0, 26.0, 27.0, 28.0, 29.0, 30.0, 31.0, 32.0, 33.0, 34.0, 35.0, 36.0, 37.0, 38.0, 39.0, 40.0, 41.0, 42.0, 43.0, 44.0, 45.0, 46.0, 47.0, 48.0, 49.0, 50.0, 51.0, 52.0, 53.0, 54.0, 55.0, 56.0, 57.0, 58.0, 59.0, 60.0, 61.0, 62.0, 63.0, 64.0, 65.0, 66.0, 67.0, 68.0, 69.0, 70.0, 71.0, 72.0, 73.0, 74.0, 75.0, 76.0, 77.0, 78.0, 79.0, 80.0, 81.0, 82.0, 83.0, 84.0, 85.0, 86.0, 87.0, 88.0, 89.0, 90.0, 91.0, 92.0, 93.0, 94.0, 95.0, 96.0, 97.0, 98.0, 99.0, 100.0, 10000000000.000013, 625000000.0000011, 123456790.12345687, 39062500.00000006, 16000000.000000013, 7716049.382716056, 4164931.2786339098, 2441406.250000002, 1524157.9027587266, 1000000.0000000005, 683013.4553650711, 482253.08641975356, 350127.7966457759, 260308.20491461924, 197530.8641975311, 152587.89062500012, 119730.3672130363, 95259.86892242046, 76733.60394717663, 62500.00000000004, 51418.90467449267, 42688.340960316935, 35734.57784956458, 30140.81790123458, 25600.000000000025, 21882.987290360994, 18816.764231589226, 16269.26280716369, 14138.65210574016, 12345.679012345685, 10828.124103295977, 9536.7431640625, 8432.264881050263, 7483.147950814767, 6663.890045814248, 5953.741807651275, 5335.720890574503, 4795.85024669854, 4322.56539068859, 3906.2500000000036, 3538.8697062490437, 3213.681542155792, 2925.0020694389677, 2668.0213100198084, 2438.652644413962, 2233.4111155977876, 2049.3142891922657, 1883.8011188271623, 1734.6652555743049, 1600.0000000000005, 1478.1526816424246, 1367.686705647562, 1267.3498611808338, 1176.0477644743262, 1092.8215285841145, 1016.8289254477305, 947.3284437923044, 883.6657566087599, 825.2622002431058, 771.6049382716051, 722.2385408008086, 676.7577564559988, 634.8012922776871, 596.0464477539066, 560.2044746332414, 527.0165550656411, 496.2503078612849, 467.69674692592287, 441.1676277724024, 416.49312786339044, 393.51981476550105, 372.1088629782048, 352.13448607609206, 333.48255566090654, 316.0493827160495, 299.74064041865864, 284.4704103977807, 270.16033691803693, 256.7388755879611, 244.14062500000009, 232.30573125418795, 221.17935664056515, 210.71120489070822, 200.85509638473678, 191.56858754085803, 182.81262933993534, 174.55126056469337, 166.7513318762381, 159.3822573216663, 152.41579027587255, 145.8258211769163, 139.58819472486164, 133.6805444851356, 128.08214307451664, 122.77376631548258, 117.7375699266976, 112.95697747731629, 108.41657847339401, 104.10203556852174, 100.0], \"xaxis\": \"x\", \"y\": [316.227766016838, 265.9147948472495, 240.2811414134755, 223.60679774997905, 211.47425268811287, 202.05155046766242, 194.41308418139644, 188.03015465431974, 182.57418583505543, 177.8279410038923, 173.64082025196836, 169.9044244847123, 166.538313343391, 163.48126556655492, 160.6856837889304, 158.11388300841904, 155.7355531137104, 153.52597838656362, 151.46475955500736, 149.5348781221221, 147.72199911861216, 146.01394329159479, 144.40028187544334, 142.87202148494003, 141.42135623730954, 140.04147069285733, 138.72638167626062, 137.47081017605655, 136.2700767509331, 135.12001548070347, 134.01690267528755, 132.95739742362477, 131.93849171325928, 130.95746834087353, 130.01186520687386, 129.0994448735806, 128.21816848846245, 127.36617334707151, 126.54175350653523, 125.74334296829359, 124.96950103469494, 124.21889951295333, 123.49031149551966, 122.7826014909612, 122.09471671615692, 121.42567939068621, 120.77457989903947, 120.14057070673776, 119.5228609334394, 118.92071150027213, 118.33343078048614, 117.76037069248184, 117.20092318266488, 116.65451705268615, 116.12061509165741, 115.59871147906982, 115.0883294285326, 114.58901904620821, 114.10035538105215, 113.62193664674999, 113.15338259764755, 112.69433304305527, 112.24444648611463, 111.80339887498951, 111.37088245551821, 110.94660471566169, 110.53028741313636, 110.12166567854239, 109.7204871871107, 109.32651139290937, 108.93950881998019, 108.55926040543848, 108.18555689006301, 107.81819825234483, 107.45699318235422, 107.10175859213561, 106.75231915965011, 106.40850690356466, 106.07016078643534, 105.73712634405643, 105.409255338946, 105.08640543612034, 104.76843989947089, 104.45522730720386, 104.14664128493446, 103.84256025514706, 103.54286720184038, 103.24744944927467, 102.95619845382603, 102.66900960803413, 102.38578205600223, 102.10641851937488, 101.83082513317987, 101.5589112908756, 101.29058949799605, 101.0257752338312, 100.76438682062327, 100.50634529979745, 100.25157431478137, 100.00000000000003, 1.0, 2.0, 3.0, 4.0, 5.0, 6.0, 7.0, 8.0, 9.0, 10.0, 11.0, 12.0, 13.0, 14.0, 15.0, 16.0, 17.0, 18.0, 19.0, 20.0, 21.0, 22.0, 23.0, 24.0, 25.0, 26.0, 27.0, 28.0, 29.0, 30.0, 31.0, 32.0, 33.0, 34.0, 35.0, 36.0, 37.0, 38.0, 39.0, 40.0, 41.0, 42.0, 43.0, 44.0, 45.0, 46.0, 47.0, 48.0, 49.0, 50.0, 51.0, 52.0, 53.0, 54.0, 55.0, 56.0, 57.0, 58.0, 59.0, 60.0, 61.0, 62.0, 63.0, 64.0, 65.0, 66.0, 67.0, 68.0, 69.0, 70.0, 71.0, 72.0, 73.0, 74.0, 75.0, 76.0, 77.0, 78.0, 79.0, 80.0, 81.0, 82.0, 83.0, 84.0, 85.0, 86.0, 87.0, 88.0, 89.0, 90.0, 91.0, 92.0, 93.0, 94.0, 95.0, 96.0, 97.0, 98.0, 99.0, 100.0], \"yaxis\": \"y\"}],                        {\"height\": 1000, \"legend\": {\"tracegroupgap\": 0}, \"margin\": {\"t\": 60}, \"template\": {\"data\": {\"bar\": [{\"error_x\": {\"color\": \"#2a3f5f\"}, \"error_y\": {\"color\": \"#2a3f5f\"}, \"marker\": {\"line\": {\"color\": \"#E5ECF6\", \"width\": 0.5}}, \"type\": \"bar\"}], \"barpolar\": [{\"marker\": {\"line\": {\"color\": \"#E5ECF6\", \"width\": 0.5}}, \"type\": \"barpolar\"}], \"carpet\": [{\"aaxis\": {\"endlinecolor\": \"#2a3f5f\", \"gridcolor\": \"white\", \"linecolor\": \"white\", \"minorgridcolor\": \"white\", \"startlinecolor\": \"#2a3f5f\"}, \"baxis\": {\"endlinecolor\": \"#2a3f5f\", \"gridcolor\": \"white\", \"linecolor\": \"white\", \"minorgridcolor\": \"white\", \"startlinecolor\": \"#2a3f5f\"}, \"type\": \"carpet\"}], \"choropleth\": [{\"colorbar\": {\"outlinewidth\": 0, \"ticks\": \"\"}, \"type\": \"choropleth\"}], \"contour\": [{\"colorbar\": {\"outlinewidth\": 0, \"ticks\": \"\"}, \"colorscale\": [[0.0, \"#0d0887\"], [0.1111111111111111, \"#46039f\"], [0.2222222222222222, \"#7201a8\"], [0.3333333333333333, \"#9c179e\"], [0.4444444444444444, \"#bd3786\"], [0.5555555555555556, \"#d8576b\"], [0.6666666666666666, \"#ed7953\"], [0.7777777777777778, \"#fb9f3a\"], [0.8888888888888888, \"#fdca26\"], [1.0, \"#f0f921\"]], \"type\": \"contour\"}], \"contourcarpet\": [{\"colorbar\": {\"outlinewidth\": 0, \"ticks\": \"\"}, \"type\": \"contourcarpet\"}], \"heatmap\": [{\"colorbar\": {\"outlinewidth\": 0, \"ticks\": \"\"}, \"colorscale\": [[0.0, \"#0d0887\"], [0.1111111111111111, \"#46039f\"], [0.2222222222222222, \"#7201a8\"], [0.3333333333333333, \"#9c179e\"], [0.4444444444444444, \"#bd3786\"], [0.5555555555555556, \"#d8576b\"], [0.6666666666666666, \"#ed7953\"], [0.7777777777777778, \"#fb9f3a\"], [0.8888888888888888, \"#fdca26\"], [1.0, \"#f0f921\"]], \"type\": \"heatmap\"}], \"heatmapgl\": [{\"colorbar\": {\"outlinewidth\": 0, \"ticks\": \"\"}, \"colorscale\": [[0.0, \"#0d0887\"], [0.1111111111111111, \"#46039f\"], [0.2222222222222222, \"#7201a8\"], [0.3333333333333333, \"#9c179e\"], [0.4444444444444444, \"#bd3786\"], [0.5555555555555556, \"#d8576b\"], [0.6666666666666666, \"#ed7953\"], [0.7777777777777778, \"#fb9f3a\"], [0.8888888888888888, \"#fdca26\"], [1.0, \"#f0f921\"]], \"type\": \"heatmapgl\"}], \"histogram\": [{\"marker\": {\"colorbar\": {\"outlinewidth\": 0, \"ticks\": \"\"}}, \"type\": \"histogram\"}], \"histogram2d\": [{\"colorbar\": {\"outlinewidth\": 0, \"ticks\": \"\"}, \"colorscale\": [[0.0, \"#0d0887\"], [0.1111111111111111, \"#46039f\"], [0.2222222222222222, \"#7201a8\"], [0.3333333333333333, \"#9c179e\"], [0.4444444444444444, \"#bd3786\"], [0.5555555555555556, \"#d8576b\"], [0.6666666666666666, \"#ed7953\"], [0.7777777777777778, \"#fb9f3a\"], [0.8888888888888888, \"#fdca26\"], [1.0, \"#f0f921\"]], \"type\": \"histogram2d\"}], \"histogram2dcontour\": [{\"colorbar\": {\"outlinewidth\": 0, \"ticks\": \"\"}, \"colorscale\": [[0.0, \"#0d0887\"], [0.1111111111111111, \"#46039f\"], [0.2222222222222222, \"#7201a8\"], [0.3333333333333333, \"#9c179e\"], [0.4444444444444444, \"#bd3786\"], [0.5555555555555556, \"#d8576b\"], [0.6666666666666666, \"#ed7953\"], [0.7777777777777778, \"#fb9f3a\"], [0.8888888888888888, \"#fdca26\"], [1.0, \"#f0f921\"]], \"type\": \"histogram2dcontour\"}], \"mesh3d\": [{\"colorbar\": {\"outlinewidth\": 0, \"ticks\": \"\"}, \"type\": \"mesh3d\"}], \"parcoords\": [{\"line\": {\"colorbar\": {\"outlinewidth\": 0, \"ticks\": \"\"}}, \"type\": \"parcoords\"}], \"pie\": [{\"automargin\": true, \"type\": \"pie\"}], \"scatter\": [{\"marker\": {\"colorbar\": {\"outlinewidth\": 0, \"ticks\": \"\"}}, \"type\": \"scatter\"}], \"scatter3d\": [{\"line\": {\"colorbar\": {\"outlinewidth\": 0, \"ticks\": \"\"}}, \"marker\": {\"colorbar\": {\"outlinewidth\": 0, \"ticks\": \"\"}}, \"type\": \"scatter3d\"}], \"scattercarpet\": [{\"marker\": {\"colorbar\": {\"outlinewidth\": 0, \"ticks\": \"\"}}, \"type\": \"scattercarpet\"}], \"scattergeo\": [{\"marker\": {\"colorbar\": {\"outlinewidth\": 0, \"ticks\": \"\"}}, \"type\": \"scattergeo\"}], \"scattergl\": [{\"marker\": {\"colorbar\": {\"outlinewidth\": 0, \"ticks\": \"\"}}, \"type\": \"scattergl\"}], \"scattermapbox\": [{\"marker\": {\"colorbar\": {\"outlinewidth\": 0, \"ticks\": \"\"}}, \"type\": \"scattermapbox\"}], \"scatterpolar\": [{\"marker\": {\"colorbar\": {\"outlinewidth\": 0, \"ticks\": \"\"}}, \"type\": \"scatterpolar\"}], \"scatterpolargl\": [{\"marker\": {\"colorbar\": {\"outlinewidth\": 0, \"ticks\": \"\"}}, \"type\": \"scatterpolargl\"}], \"scatterternary\": [{\"marker\": {\"colorbar\": {\"outlinewidth\": 0, \"ticks\": \"\"}}, \"type\": \"scatterternary\"}], \"surface\": [{\"colorbar\": {\"outlinewidth\": 0, \"ticks\": \"\"}, \"colorscale\": [[0.0, \"#0d0887\"], [0.1111111111111111, \"#46039f\"], [0.2222222222222222, \"#7201a8\"], [0.3333333333333333, \"#9c179e\"], [0.4444444444444444, \"#bd3786\"], [0.5555555555555556, \"#d8576b\"], [0.6666666666666666, \"#ed7953\"], [0.7777777777777778, \"#fb9f3a\"], [0.8888888888888888, \"#fdca26\"], [1.0, \"#f0f921\"]], \"type\": \"surface\"}], \"table\": [{\"cells\": {\"fill\": {\"color\": \"#EBF0F8\"}, \"line\": {\"color\": \"white\"}}, \"header\": {\"fill\": {\"color\": \"#C8D4E3\"}, \"line\": {\"color\": \"white\"}}, \"type\": \"table\"}]}, \"layout\": {\"annotationdefaults\": {\"arrowcolor\": \"#2a3f5f\", \"arrowhead\": 0, \"arrowwidth\": 1}, \"autotypenumbers\": \"strict\", \"coloraxis\": {\"colorbar\": {\"outlinewidth\": 0, \"ticks\": \"\"}}, \"colorscale\": {\"diverging\": [[0, \"#8e0152\"], [0.1, \"#c51b7d\"], [0.2, \"#de77ae\"], [0.3, \"#f1b6da\"], [0.4, \"#fde0ef\"], [0.5, \"#f7f7f7\"], [0.6, \"#e6f5d0\"], [0.7, \"#b8e186\"], [0.8, \"#7fbc41\"], [0.9, \"#4d9221\"], [1, \"#276419\"]], \"sequential\": [[0.0, \"#0d0887\"], [0.1111111111111111, \"#46039f\"], [0.2222222222222222, \"#7201a8\"], [0.3333333333333333, \"#9c179e\"], [0.4444444444444444, \"#bd3786\"], [0.5555555555555556, \"#d8576b\"], [0.6666666666666666, \"#ed7953\"], [0.7777777777777778, \"#fb9f3a\"], [0.8888888888888888, \"#fdca26\"], [1.0, \"#f0f921\"]], \"sequentialminus\": [[0.0, \"#0d0887\"], [0.1111111111111111, \"#46039f\"], [0.2222222222222222, \"#7201a8\"], [0.3333333333333333, \"#9c179e\"], [0.4444444444444444, \"#bd3786\"], [0.5555555555555556, \"#d8576b\"], [0.6666666666666666, \"#ed7953\"], [0.7777777777777778, \"#fb9f3a\"], [0.8888888888888888, \"#fdca26\"], [1.0, \"#f0f921\"]]}, \"colorway\": [\"#636efa\", \"#EF553B\", \"#00cc96\", \"#ab63fa\", \"#FFA15A\", \"#19d3f3\", \"#FF6692\", \"#B6E880\", \"#FF97FF\", \"#FECB52\"], \"font\": {\"color\": \"#2a3f5f\"}, \"geo\": {\"bgcolor\": \"white\", \"lakecolor\": \"white\", \"landcolor\": \"#E5ECF6\", \"showlakes\": true, \"showland\": true, \"subunitcolor\": \"white\"}, \"hoverlabel\": {\"align\": \"left\"}, \"hovermode\": \"closest\", \"mapbox\": {\"style\": \"light\"}, \"paper_bgcolor\": \"white\", \"plot_bgcolor\": \"#E5ECF6\", \"polar\": {\"angularaxis\": {\"gridcolor\": \"white\", \"linecolor\": \"white\", \"ticks\": \"\"}, \"bgcolor\": \"#E5ECF6\", \"radialaxis\": {\"gridcolor\": \"white\", \"linecolor\": \"white\", \"ticks\": \"\"}}, \"scene\": {\"xaxis\": {\"backgroundcolor\": \"#E5ECF6\", \"gridcolor\": \"white\", \"gridwidth\": 2, \"linecolor\": \"white\", \"showbackground\": true, \"ticks\": \"\", \"zerolinecolor\": \"white\"}, \"yaxis\": {\"backgroundcolor\": \"#E5ECF6\", \"gridcolor\": \"white\", \"gridwidth\": 2, \"linecolor\": \"white\", \"showbackground\": true, \"ticks\": \"\", \"zerolinecolor\": \"white\"}, \"zaxis\": {\"backgroundcolor\": \"#E5ECF6\", \"gridcolor\": \"white\", \"gridwidth\": 2, \"linecolor\": \"white\", \"showbackground\": true, \"ticks\": \"\", \"zerolinecolor\": \"white\"}}, \"shapedefaults\": {\"line\": {\"color\": \"#2a3f5f\"}}, \"ternary\": {\"aaxis\": {\"gridcolor\": \"white\", \"linecolor\": \"white\", \"ticks\": \"\"}, \"baxis\": {\"gridcolor\": \"white\", \"linecolor\": \"white\", \"ticks\": \"\"}, \"bgcolor\": \"#E5ECF6\", \"caxis\": {\"gridcolor\": \"white\", \"linecolor\": \"white\", \"ticks\": \"\"}}, \"title\": {\"x\": 0.05}, \"xaxis\": {\"automargin\": true, \"gridcolor\": \"white\", \"linecolor\": \"white\", \"ticks\": \"\", \"title\": {\"standoff\": 15}, \"zerolinecolor\": \"white\", \"zerolinewidth\": 2}, \"yaxis\": {\"automargin\": true, \"gridcolor\": \"white\", \"linecolor\": \"white\", \"ticks\": \"\", \"title\": {\"standoff\": 15}, \"zerolinecolor\": \"white\", \"zerolinewidth\": 2}}}, \"title\": {\"text\": \"<b>AMM Curve 20/80</b>\"}, \"width\": 1000, \"xaxis\": {\"anchor\": \"y\", \"domain\": [0.0, 1.0], \"range\": [0, 50000], \"title\": {\"text\": \"token_A\"}}, \"yaxis\": {\"anchor\": \"x\", \"domain\": [0.0, 1.0], \"range\": [0, 500], \"title\": {\"text\": \"token_B\"}}},                        {\"responsive\": true}                    ).then(function(){\n",
       "                            \n",
       "var gd = document.getElementById('55d350a5-1bf8-4763-b8a9-70f5456a342d');\n",
       "var x = new MutationObserver(function (mutations, observer) {{\n",
       "        var display = window.getComputedStyle(gd).display;\n",
       "        if (!display || display === 'none') {{\n",
       "            console.log([gd, 'removed!']);\n",
       "            Plotly.purge(gd);\n",
       "            observer.disconnect();\n",
       "        }}\n",
       "}});\n",
       "\n",
       "// Listen for the removal of the full notebook cells\n",
       "var notebookContainer = gd.closest('#notebook-container');\n",
       "if (notebookContainer) {{\n",
       "    x.observe(notebookContainer, {childList: true});\n",
       "}}\n",
       "\n",
       "// Listen for the clearing of the current output cell\n",
       "var outputEl = gd.closest('.output');\n",
       "if (outputEl) {{\n",
       "    x.observe(outputEl, {childList: true});\n",
       "}}\n",
       "\n",
       "                        })                };                });            </script>        </div>"
      ]
     },
     "metadata": {},
     "output_type": "display_data"
    }
   ],
   "source": [
    "a_bal = 100 # initial balance\n",
    "b_bal = 100 # initial balance\n",
    "a_weight = 0.2 #define weight\n",
    "b_weight = 0.8 #define weight\n",
    "s_f = 0.0 #swap fee\n",
    "inv = (a_bal**a_weight)*(b_bal**b_weight) #calculate invariant\n",
    "a_vals = pd.Series(range(1,101))\n",
    "b_vals = pd.Series(range(1,101))\n",
    "\n",
    "#create dataframe with based on a_vals\n",
    "buy_A2 = pd.DataFrame(a_vals, columns=['token_A'])\n",
    "buy_A2['invariant'] = inv #value required to calculate token B value\n",
    "#create values for plot, add Y_balances according to current invariant\n",
    "buy_A2['token_B'] = (buy_A2.invariant/(buy_A2.token_A**a_weight))**(1/b_weight)# calculate corresponding y_vals according to invariant\n",
    "\n",
    "\n",
    "#create dataframe with based on b_vals\n",
    "buy_B2 = pd.DataFrame(b_vals, columns=['token_B'])\n",
    "buy_B2['invariant'] = inv #value required to calculate token B value\n",
    "\n",
    "#create values for plot, add a_balances according to current invariant\n",
    "buy_B2['token_A'] = (buy_B2.invariant/(buy_B2.token_B**b_weight))**(1/a_weight)# calculate corresponding y_vals according to invariant\n",
    "\n",
    "\n",
    "\n",
    "#plot curves with all \n",
    "buy_A2 = buy_A2.drop(columns=['invariant'])\n",
    "buy_B2 = buy_B2.drop(columns=['invariant'])\n",
    "curve = pd.concat([buy_A2, buy_B2], axis=0, ignore_index=True)\n",
    "fig = px.line(curve, x=\"token_A\", y=\"token_B\", color_discrete_sequence=px.colors.sequential.Turbo)\n",
    "fig.update_xaxes(range=[0, 50000])\n",
    "fig.update_yaxes(range=[0, 500])\n",
    "fig.update_layout(height=1000, width=1000, title_text='<b>AMM Curve 20/80</b>')\n",
    "\n",
    "fig.show()"
   ]
  },
  {
   "cell_type": "code",
   "execution_count": 16,
   "id": "mineral-addition",
   "metadata": {},
   "outputs": [
    {
     "name": "stdout",
     "output_type": "stream",
     "text": [
      "with 1 token A left in the pool you have to pay ~316 tokens B for it\n",
      "10000000000.0\n",
      "with 1 token B left in the pool you have to pay 10 billions tokens A for it!\n"
     ]
    }
   ],
   "source": [
    "print('with 1 token A left in the pool you have to pay ~316 tokens B for it')\n",
    "A = (100/(1**0.8))**(1/0.2)\n",
    "print(A)\n",
    "print('with 1 token B left in the pool you have to pay 10 billions tokens A for it!')"
   ]
  },
  {
   "cell_type": "code",
   "execution_count": 17,
   "id": "smaller-search",
   "metadata": {},
   "outputs": [
    {
     "name": "stdout",
     "output_type": "stream",
     "text": [
      "the curve changes shape\n",
      "most notably: the curve changes position, think as if the axis would be magnetic, less weight is less power to move away from the axis\n"
     ]
    }
   ],
   "source": [
    "print('the curve changes shape')\n",
    "print('most notably: the curve changes position, think as if the axis would be magnetic, less weight is less power to move away from the axis')"
   ]
  }
 ],
 "metadata": {
  "kernelspec": {
   "display_name": "Python 3",
   "language": "python",
   "name": "python3"
  },
  "language_info": {
   "codemirror_mode": {
    "name": "ipython",
    "version": 3
   },
   "file_extension": ".py",
   "mimetype": "text/x-python",
   "name": "python",
   "nbconvert_exporter": "python",
   "pygments_lexer": "ipython3",
   "version": "3.9.2"
  }
 },
 "nbformat": 4,
 "nbformat_minor": 5
}
