{
 "cells": [
  {
   "cell_type": "markdown",
   "id": "circular-independence",
   "metadata": {},
   "source": [
    "# Balancer Simulations Math Challenge"
   ]
  },
  {
   "cell_type": "markdown",
   "id": "experimental-simon",
   "metadata": {},
   "source": [
    "This is a series of exercises to gain intuition for the core algorithm in Balancer Pools: the Value Function V."
   ]
  },
  {
   "cell_type": "markdown",
   "id": "proprietary-facility",
   "metadata": {},
   "source": [
    "### Step 1:   \n",
    "Let's set up a pool.  \n",
    "\n",
    "We have 100 Token A and 100 Token B. The price definition in our pool is constraint by the\n",
    "Invariant V = a * b  \n",
    "a = balance of token A  \n",
    "b = balance of token B\n",
    "\n",
    "For now\n",
    "- we don't have weights\n",
    "- we don't have a swap fee"
   ]
  },
  {
   "cell_type": "markdown",
   "id": "grateful-ridge",
   "metadata": {},
   "source": [
    "#### Q1.1: \n",
    "What's the initial price of token A in token B?"
   ]
  },
  {
   "cell_type": "markdown",
   "id": "inner-guarantee",
   "metadata": {},
   "source": [
    "#### Q1.2:\n",
    "Now let's assume a series of 50 swaps. With every swap, one token A is bought from the pool, against token B.  \n",
    "**Create a table** with  \n",
    "- the token A balances (swap by swap)\n",
    "- the token B balances (swap by swap) - that are constraint by the value function V = a*b.\n"
   ]
  },
  {
   "cell_type": "markdown",
   "id": "operating-overhead",
   "metadata": {},
   "source": [
    "#### Q1.3:\n",
    "What is the new price of token A in token B after 50 swaps?"
   ]
  },
  {
   "cell_type": "markdown",
   "id": "champion-olympus",
   "metadata": {},
   "source": [
    "#### Q1.4:  \n",
    "Now create a graph (use plotly or similar), and draw the curve for this series of swaps - the AMM curve."
   ]
  },
  {
   "cell_type": "markdown",
   "id": "bound-seafood",
   "metadata": {},
   "source": [
    "#### Q1.5:\n",
    "Take this plot, and mark \n",
    "- the initial price in Q1.1\n",
    "- the new price in Q1.3"
   ]
  },
  {
   "cell_type": "markdown",
   "id": "higher-illustration",
   "metadata": {},
   "source": [
    "#### Q1.6:\n",
    "Formulate a \"rule of a thumb\", how do swaps effect the price?"
   ]
  },
  {
   "cell_type": "markdown",
   "id": "engaging-contrast",
   "metadata": {},
   "source": [
    "### Step 2: Consider Weights"
   ]
  },
  {
   "cell_type": "markdown",
   "id": "thick-child",
   "metadata": {},
   "source": [
    "Now, let's consider weights!"
   ]
  },
  {
   "cell_type": "markdown",
   "id": "affecting-minneapolis",
   "metadata": {},
   "source": [
    "If we assume a new value function V = a^w_a*b^w_b  \n",
    "where  \n",
    "a = balance of token asset A  \n",
    "b = balancer of token asset B  \n",
    "w_a = weight of token asset A  \n",
    "w_b = weight of token asset B  "
   ]
  },
  {
   "cell_type": "markdown",
   "id": "exceptional-corps",
   "metadata": {},
   "source": [
    "#### Q2.1:  \n",
    "Write down the value function for the pool in Step 1!"
   ]
  },
  {
   "cell_type": "markdown",
   "id": "checked-fantasy",
   "metadata": {},
   "source": [
    "#### Q2.2:\n",
    "Let's got back to your initial balances in Step 1 in the pool:  \n",
    "100 tokens A  \n",
    "100 tokens B  \n",
    "\n",
    "How do you need to change the weights in order to land at a **price of  \n",
    "2 tokens A : 1 token B**"
   ]
  },
  {
   "cell_type": "markdown",
   "id": "thousand-integer",
   "metadata": {},
   "source": [
    "Provide the new value function!"
   ]
  },
  {
   "cell_type": "markdown",
   "id": "brilliant-hayes",
   "metadata": {},
   "source": [
    "#### Q2.3:\n",
    "Create a graph showing the new value function of Q2.2.  \n",
    "Compare to the graph in Q1.4 - how does a change in weights change the graph?"
   ]
  },
  {
   "cell_type": "markdown",
   "id": "opposed-deadline",
   "metadata": {},
   "source": [
    "### Step 3: Consider Liquidity"
   ]
  },
  {
   "cell_type": "markdown",
   "id": "opposite-replica",
   "metadata": {},
   "source": [
    "How much liquidity does it take to change the price from x to z?"
   ]
  },
  {
   "cell_type": "markdown",
   "id": "respiratory-rings",
   "metadata": {},
   "source": [
    "What happens to the curve if you add liquidity? (2 tokens proportionally)"
   ]
  },
  {
   "cell_type": "markdown",
   "id": "portuguese-iraqi",
   "metadata": {},
   "source": [
    "Slippage: why slippage in large pools is lower"
   ]
  },
  {
   "cell_type": "markdown",
   "id": "gorgeous-scout",
   "metadata": {},
   "source": [
    "What happens to the price if you change weights?"
   ]
  },
  {
   "cell_type": "markdown",
   "id": "conceptual-switzerland",
   "metadata": {},
   "source": [
    "What happens to the graph if you change weights?"
   ]
  },
  {
   "cell_type": "markdown",
   "id": "veterinary-removal",
   "metadata": {},
   "source": [
    "Other observations?"
   ]
  },
  {
   "cell_type": "markdown",
   "id": "sacred-poster",
   "metadata": {},
   "source": [
    "Fees??"
   ]
  },
  {
   "cell_type": "markdown",
   "id": "extensive-chassis",
   "metadata": {},
   "source": [
    "### Step 4: Get Creative!"
   ]
  },
  {
   "cell_type": "markdown",
   "id": "efficient-alberta",
   "metadata": {},
   "source": [
    "#### Q3.1 \n",
    "**Design a new value function.** \n",
    "Use the balances of token A from Q1.2, and apply your new value function.  \n",
    "Add the resulting balances for token B"
   ]
  },
  {
   "cell_type": "markdown",
   "id": "theoretical-canal",
   "metadata": {},
   "source": [
    "#### Q3.2 \n",
    "**Plot your curve.** \n",
    "Send a screenshot of your curve to the Discord channel.  \n",
    "Let your fellow TE's reverse engineer the value function!"
   ]
  },
  {
   "cell_type": "markdown",
   "id": "activated-bench",
   "metadata": {},
   "source": [
    "#### Q3.3 \n",
    "**Pick a screenshot at the Discord.** \n",
    "Reverse engineer the value function!"
   ]
  },
  {
   "cell_type": "code",
   "execution_count": null,
   "id": "czech-elephant",
   "metadata": {},
   "outputs": [],
   "source": []
  }
 ],
 "metadata": {
  "kernelspec": {
   "display_name": "Python 3",
   "language": "python",
   "name": "python3"
  },
  "language_info": {
   "codemirror_mode": {
    "name": "ipython",
    "version": 3
   },
   "file_extension": ".py",
   "mimetype": "text/x-python",
   "name": "python",
   "nbconvert_exporter": "python",
   "pygments_lexer": "ipython3",
   "version": "3.9.2"
  }
 },
 "nbformat": 4,
 "nbformat_minor": 5
}
