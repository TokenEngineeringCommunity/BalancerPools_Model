{
 "cells": [
  {
   "cell_type": "markdown",
   "id": "federal-attitude",
   "metadata": {},
   "source": [
    "# Balancer Simulations Math Challenge"
   ]
  },
  {
   "cell_type": "markdown",
   "id": "intense-console",
   "metadata": {},
   "source": [
    "This is a series of exercises to gain intuition for the core algorithm in Balancer Pools: the Value Function V."
   ]
  },
  {
   "cell_type": "markdown",
   "id": "grateful-campbell",
   "metadata": {},
   "source": [
    "### Step 1:   \n",
    "Let's set up a pool.  \n",
    "\n",
    "We have 100 Token A and 100 Token B. The price definition in our pool is constraint by the\n",
    "Invariant V = a * b  \n",
    "a = balance of token A  \n",
    "b = balance of token B"
   ]
  },
  {
   "cell_type": "markdown",
   "id": "posted-deviation",
   "metadata": {},
   "source": [
    "#### Q1.1: \n",
    "What's the initial price of token A in token B?"
   ]
  },
  {
   "cell_type": "markdown",
   "id": "lovely-thread",
   "metadata": {},
   "source": [
    "#### Q1.2:\n",
    "Now let's assume a series of 50 swaps. With every swap, one token A is bought from the pool, against token B.  \n",
    "**Create a table** with  \n",
    "- the token A balances (swap by swap)\n",
    "- the token B balances (swap by swap) - that are constraint by the value function V = a*b.\n"
   ]
  },
  {
   "cell_type": "markdown",
   "id": "indonesian-hypothesis",
   "metadata": {},
   "source": [
    "#### Q1.3:\n",
    "What is the new price of token A in token B after 50 swaps?"
   ]
  },
  {
   "cell_type": "markdown",
   "id": "advanced-guyana",
   "metadata": {},
   "source": [
    "#### Q1.4:  \n",
    "Now create a graph (use plotly or similar), and draw the curve for this series of swaps - the AMM curve."
   ]
  },
  {
   "cell_type": "markdown",
   "id": "million-color",
   "metadata": {},
   "source": [
    "#### Q1.5:\n",
    "Take this plot, and mark \n",
    "- the initial price in Q1.1\n",
    "- the new price in Q1.3"
   ]
  },
  {
   "cell_type": "markdown",
   "id": "uniform-fiction",
   "metadata": {},
   "source": [
    "#### Q1.6:\n",
    "Formulate a \"rule of a thumb\", how do swaps effect the price?"
   ]
  },
  {
   "cell_type": "markdown",
   "id": "educated-cylinder",
   "metadata": {},
   "source": [
    "### Step 2: Consider Liquidity"
   ]
  },
  {
   "cell_type": "markdown",
   "id": "interesting-worthy",
   "metadata": {},
   "source": [
    "How much liquidity does it take to change the price from x to z?"
   ]
  },
  {
   "cell_type": "markdown",
   "id": "rental-tiffany",
   "metadata": {},
   "source": [
    "What happens to the curve if you add liquidity? (2 tokens proportionally)"
   ]
  },
  {
   "cell_type": "markdown",
   "id": "qualified-missouri",
   "metadata": {},
   "source": [
    "Slippage: why slippage in large pools is lower"
   ]
  },
  {
   "cell_type": "markdown",
   "id": "horizontal-alignment",
   "metadata": {},
   "source": [
    "### Step 3: Consider Weights"
   ]
  },
  {
   "cell_type": "markdown",
   "id": "great-rates",
   "metadata": {},
   "source": [
    "What happens to the price if you change weights?"
   ]
  },
  {
   "cell_type": "markdown",
   "id": "theoretical-seeker",
   "metadata": {},
   "source": [
    "What happens to the graph if you change weights?"
   ]
  },
  {
   "cell_type": "markdown",
   "id": "gorgeous-louis",
   "metadata": {},
   "source": [
    "Other observations?"
   ]
  },
  {
   "cell_type": "markdown",
   "id": "characteristic-bidding",
   "metadata": {},
   "source": [
    "### Step 3: Get Creative!"
   ]
  },
  {
   "cell_type": "markdown",
   "id": "light-lemon",
   "metadata": {},
   "source": [
    "#### Q3.1 \n",
    "**Design a new value function.** \n",
    "Use the balances of token A from Q1.2, and apply your new value function.  \n",
    "Add the resulting balances for token B"
   ]
  },
  {
   "cell_type": "markdown",
   "id": "cellular-jacket",
   "metadata": {},
   "source": [
    "#### Q3.2 \n",
    "**Plot your curve.** \n",
    "Send a screenshot of your curve to the Discord channel.  \n",
    "Let your fellow TE's reverse engineer the value function!"
   ]
  },
  {
   "cell_type": "markdown",
   "id": "headed-orange",
   "metadata": {},
   "source": [
    "#### Q3.3 \n",
    "**Pick a screenshot at the Discord.** \n",
    "Reverse engineer the value function!"
   ]
  },
  {
   "cell_type": "code",
   "execution_count": null,
   "id": "spanish-baker",
   "metadata": {},
   "outputs": [],
   "source": []
  }
 ],
 "metadata": {
  "kernelspec": {
   "display_name": "Python 3",
   "language": "python",
   "name": "python3"
  },
  "language_info": {
   "codemirror_mode": {
    "name": "ipython",
    "version": 3
   },
   "file_extension": ".py",
   "mimetype": "text/x-python",
   "name": "python",
   "nbconvert_exporter": "python",
   "pygments_lexer": "ipython3",
   "version": "3.9.2"
  }
 },
 "nbformat": 4,
 "nbformat_minor": 5
}
