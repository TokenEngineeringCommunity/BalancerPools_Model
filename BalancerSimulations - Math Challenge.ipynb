{
 "cells": [
  {
   "cell_type": "markdown",
   "id": "comparative-anatomy",
   "metadata": {},
   "source": [
    "# Balancer Simulations Math Challenge"
   ]
  },
  {
   "cell_type": "markdown",
   "id": "interstate-jumping",
   "metadata": {},
   "source": [
    "This is a series of exercises to gain intuition for the core algorithm in Balancer Pools: the Value Function V."
   ]
  },
  {
   "cell_type": "markdown",
   "id": "jewish-spyware",
   "metadata": {},
   "source": [
    "### Step 1:   \n",
    "Let's set up a pool.  \n",
    "\n",
    "We have 100 Token A and 100 Token B. The price definition in our pool is constraint by the\n",
    "Invariant V = a * b  \n",
    "a = balance of token A  \n",
    "b = balance of token B"
   ]
  },
  {
   "cell_type": "markdown",
   "id": "reported-zoning",
   "metadata": {},
   "source": [
    "#### Q1.1: \n",
    "What's the initial price of token A in token B?"
   ]
  },
  {
   "cell_type": "markdown",
   "id": "rubber-plenty",
   "metadata": {},
   "source": [
    "#### Q1.2:\n",
    "Now let's assume a series of 50 swaps. With every swap, a token A is bought from the pool, against token B.  \n",
    "**Create a table** with  \n",
    "- the token A balances (swap by swap)\n",
    "- the token B balances (swap by swap) - that are constraint by the value function V = a*b.\n"
   ]
  },
  {
   "cell_type": "markdown",
   "id": "challenging-respondent",
   "metadata": {},
   "source": [
    "#### Q1.3:\n",
    "What is the new price of token A in token B after 50 swaps?"
   ]
  },
  {
   "cell_type": "markdown",
   "id": "boring-moldova",
   "metadata": {},
   "source": [
    "#### Q1.4:  \n",
    "Now create a graph (use plotly or similar), and draw the curve for this series of swaps - the AMM curve."
   ]
  },
  {
   "cell_type": "markdown",
   "id": "offshore-paintball",
   "metadata": {},
   "source": [
    "#### Q1.5:\n",
    "Take this plot, and mark \n",
    "- the initial price in Q1.1\n",
    "- the new price in Q1.3"
   ]
  },
  {
   "cell_type": "markdown",
   "id": "wireless-daily",
   "metadata": {},
   "source": [
    "#### Q1.6:\n",
    "Formulate a \"rule of a thumb\", how do swaps effect the price?"
   ]
  },
  {
   "cell_type": "markdown",
   "id": "killing-wiring",
   "metadata": {},
   "source": [
    "### Step 2: Consider Liquidity"
   ]
  },
  {
   "cell_type": "markdown",
   "id": "working-burns",
   "metadata": {},
   "source": [
    "How much liquidity does it take to change the price from x to z?"
   ]
  },
  {
   "cell_type": "markdown",
   "id": "indirect-springer",
   "metadata": {},
   "source": [
    "What happens to the curve if you add liquidity? (2 tokens proportionally)"
   ]
  },
  {
   "cell_type": "markdown",
   "id": "angry-layer",
   "metadata": {},
   "source": [
    "Slippage: why slippage in large pools is lower"
   ]
  },
  {
   "cell_type": "markdown",
   "id": "blind-arctic",
   "metadata": {},
   "source": [
    "### Step 3: Consider Weights"
   ]
  },
  {
   "cell_type": "markdown",
   "id": "given-google",
   "metadata": {},
   "source": [
    "What happens to the price if you change weights?"
   ]
  },
  {
   "cell_type": "markdown",
   "id": "eastern-union",
   "metadata": {},
   "source": [
    "What happens to the graph if you change weights?"
   ]
  },
  {
   "cell_type": "markdown",
   "id": "endless-journalism",
   "metadata": {},
   "source": [
    "Other observations?"
   ]
  }
 ],
 "metadata": {
  "kernelspec": {
   "display_name": "Python 3",
   "language": "python",
   "name": "python3"
  },
  "language_info": {
   "codemirror_mode": {
    "name": "ipython",
    "version": 3
   },
   "file_extension": ".py",
   "mimetype": "text/x-python",
   "name": "python",
   "nbconvert_exporter": "python",
   "pygments_lexer": "ipython3",
   "version": "3.9.2"
  }
 },
 "nbformat": 4,
 "nbformat_minor": 5
}
