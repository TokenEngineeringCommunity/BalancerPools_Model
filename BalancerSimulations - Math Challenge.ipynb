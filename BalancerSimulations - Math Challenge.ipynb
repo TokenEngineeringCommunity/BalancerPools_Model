{
 "cells": [
  {
   "cell_type": "markdown",
   "metadata": {},
   "source": [
    "# Balancer Simulations Math Challenge"
   ]
  },
  {
   "cell_type": "markdown",
   "metadata": {},
   "source": [
    "This is a series of exercises to gain intuition for the core algorithm in Balancer Pools: the Value Function, and invariant V."
   ]
  },
  {
   "cell_type": "markdown",
   "metadata": {},
   "source": [
    "## Exercise:   (Step 1)\n",
    "Let's set up a pool.  \n",
    "\n",
    "We have 100 Token A and 100 Token B. The price definition in our pool is constrained by the\n",
    "Invariant V = a * b  \n",
    "\n",
    "a = balance of token A  \n",
    "b = balance of token B\n",
    "\n",
    "For now\n",
    "- we don't have weights\n",
    "- we don't have a swap fee"
   ]
  },
  {
   "cell_type": "markdown",
   "metadata": {},
   "source": [
    "# Q1.1: \n",
    "What's the initial price of token A in terms of token B?"
   ]
  },
  {
   "cell_type": "markdown",
   "metadata": {},
   "source": [
    "# Q1.2:\n",
    "Now let's see a series of 100 swaps. With every swap, one **token A is bought from the pool, against token B**.  \n",
    "\n",
    "**Create a table \"buy_A\"** with  \n",
    "- the token A balances (swap by swap)\n",
    "- the token B balances (swap by swap) - that are constrained by the value function V = a*b.\n"
   ]
  },
  {
   "cell_type": "markdown",
   "metadata": {},
   "source": [
    "# Q1.3:\n",
    "\n",
    "Now let's assume a series of 100 swaps in the opposite direction. We start again with the original state: We have 100 Token A and 100 Token B.   \n",
    "With every swap,  **1% of the remaining token B in the pool is purchased, using token A**.\n",
    "\n",
    "Create a table **'buy_B'** with\n",
    "\n",
    "    the token A balances (swap by swap)\n",
    "    the token B balances (swap by swap) - that are constraint by the value function V = a*b."
   ]
  },
  {
   "cell_type": "markdown",
   "metadata": {},
   "source": [
    "# Q1.4:\n",
    "After the events in **Q1.2**, what is the new price of token A in token B after these 100 swaps?\n"
   ]
  },
  {
   "cell_type": "markdown",
   "metadata": {},
   "source": [
    "# Q1.5:  \n",
    "Now create a graph (use plotly or similar), and draw the points on the invariant curve $V = ab$. Put **Amount of Token A** on the $x$-axis, and **Amount of Token B** on the $y$-axis. "
   ]
  },
  {
   "cell_type": "markdown",
   "metadata": {},
   "source": [
    "# Q1.6:\n",
    "\n",
    "Now make an additional plot of **Price of Token A (on the y-axis)** and **Amount of Token A (on te x-axis)**? \n",
    "\n",
    "Take this plot, and mark \n",
    "- the point corresponding to the initial amount and initial price of X  in Q1.1\n",
    "- the point corresponding to the new amount and new price in Q1.2"
   ]
  },
  {
   "cell_type": "markdown",
   "metadata": {},
   "source": [
    "# Q1.6:\n",
    "Formulate a \"rule of a thumb\", how do swaps affect the price?"
   ]
  },
  {
   "cell_type": "markdown",
   "metadata": {},
   "source": [
    "#### Now, let's consider weights!"
   ]
  },
  {
   "cell_type": "markdown",
   "metadata": {},
   "source": [
    "If we assume a new value function $V = a^{w_a}*b^{w_b}$\n",
    "where  \n",
    "a = balance of token asset A  \n",
    "b = balancer of token asset B  \n",
    "$w_a$ = weight of token asset A  \n",
    "$w_b$ = weight of token asset B  "
   ]
  },
  {
   "cell_type": "markdown",
   "metadata": {},
   "source": [
    "# Q2.1:  \n",
    "Write down the value function for the pool in Step 1! (i.e. convert the unweighted AMM pool to the weighted Balancer form)"
   ]
  },
  {
   "cell_type": "markdown",
   "metadata": {},
   "source": [
    "# Q2.2:\n",
    "Let's got back to your initial balances in Step 1 in the pool:  \n",
    "100 tokens A  \n",
    "100 tokens B  \n",
    "\n",
    "How should we set the weights of Token A and Token B to have a **price of  \n",
    "2 tokens A : 1 token B**?"
   ]
  },
  {
   "cell_type": "markdown",
   "metadata": {},
   "source": [
    "Provide the new value function!"
   ]
  },
  {
   "cell_type": "markdown",
   "metadata": {},
   "source": [
    "# Q2.3:\n",
    "Create a graph showing the new value function of Q2.2.  \n",
    "Compare to the graph in Q1.4 - how does a change in weights change the graph?"
   ]
  }
 ],
 "metadata": {
  "kernelspec": {
   "display_name": "Python 3",
   "language": "python",
   "name": "python3"
  },
  "language_info": {
   "codemirror_mode": {
    "name": "ipython",
    "version": 3
   },
   "file_extension": ".py",
   "mimetype": "text/x-python",
   "name": "python",
   "nbconvert_exporter": "python",
   "pygments_lexer": "ipython3",
   "version": "3.8.5"
  }
 },
 "nbformat": 4,
 "nbformat_minor": 5
}
