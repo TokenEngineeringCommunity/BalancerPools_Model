{
 "cells": [
  {
   "cell_type": "markdown",
   "metadata": {},
   "source": [
    "# NB #2:  Arbitrage \n",
    "\n",
    "### Pool address: 0xFA2562da1Bba7B954f26C74725dF51fb62646313  -- AAVE 30%; SNX 25%; SUSHI 15%; YFI 30%\n",
    "\n",
    "The Balancer Pool cadCAD model provides a core infrastructure for simulating Balancer Pools in the **Token Engineering Design and Verification process**.\n",
    "\n",
    "It allows to simulate Balancer Pool transactions and verify new designs and application cases.  \n",
    "In this notebook we plug **historical on-chain data** to a cadCAD model, and analyse **Pool Power** and **Pool Characteristics**.\n",
    "\n",
    "For more information check out the [Balancer Simulations documentation](https://token-engineering-balancer.gitbook.io/balancer-simulations/)."
   ]
  },
  {
   "cell_type": "markdown",
   "metadata": {},
   "source": [
    "# A. System Context"
   ]
  },
  {
   "cell_type": "markdown",
   "metadata": {},
   "source": [
    "### A1.1 System Specification\n",
    "System specification details are available in the Balancer Simulations documentation:\n",
    "- [Differential Specification](https://token-engineering-balancer.gitbook.io/balancer-simulations/balancer-simulations/v10nboverview)\n",
    "- [Mathematical Specification](https://token-engineering-balancer.gitbook.io/balancer-simulations/additional-code-and-instructions/balancer-the-python-edition/balancer_math.py)\n",
    "- [Model Architecture](https://token-engineering-balancer.gitbook.io/balancer-simulations/balancer-simulations/v10nboverview)\n",
    "- [Naming Convention](https://token-engineering-balancer.gitbook.io/balancer-simulations/additional-code-and-instructions/naming-convention)"
   ]
  },
  {
   "cell_type": "markdown",
   "metadata": {},
   "source": [
    "# B. cadCAD Simulations"
   ]
  },
  {
   "cell_type": "markdown",
   "metadata": {},
   "source": [
    "### B1.1 Dependencies"
   ]
  },
  {
   "cell_type": "code",
   "execution_count": null,
   "metadata": {
    "scrolled": true
   },
   "outputs": [],
   "source": [
    "import pandas as pd \n",
    "from cadCAD.configuration.utils import config_sim\n",
    "from model.models import Token, Pool\n",
    "from model.parts.pool_method_entities import TokenAmount"
   ]
  },
  {
   "cell_type": "markdown",
   "metadata": {},
   "source": [
    "### B1.2 Initialize Pool\n"
   ]
  },
  {
   "cell_type": "markdown",
   "metadata": {},
   "source": [
    "In this section you specify the Balancer Pool to be analyzed and run scripts to produce the'genesis_state', based on on-chain data. \n",
    "\n",
    "More information here: [Balancer Simulations documentation](https://token-engineering-balancer.gitbook.io/balancer-simulations/additional-code-and-instructions/onchaintransactions).  "
   ]
  },
  {
   "cell_type": "code",
   "execution_count": null,
   "metadata": {},
   "outputs": [],
   "source": [
    "import pprint\n",
    "pp = pprint.PrettyPrinter(indent=4)\n",
    "\n",
    "from decimal import Decimal\n",
    "\n",
    "# No spot_price_reference means all pairs are calculated.\n",
    "parameters = {\n",
    "    'decoding_type': ['SIMPLIFIED'],\n",
    "    'external_currency': ['USDT'],\n",
    "    'max_arb_liquidity': [100000],\n",
    "    'min_arb_liquidity': [10],\n",
    "    'arb_liquidity_granularity': [50],\n",
    "    'weight_changing': [False]\n",
    "    \n",
    "}\n"
   ]
  },
  {
   "cell_type": "markdown",
   "metadata": {},
   "source": [
    "#### Create your pool\n",
    "\n",
    "Create your genesis states using our Token and Pool classes. Pool will check for token weight integrity\n",
    "\n",
    "Token prices could come from initial state files\n",
    "\n",
    "// TODO document\n",
    "Learn more how to create this variables [documentation](https://token-engineering-balancer.gitbook.io/balancer-simulations/v/master/todo).\n"
   ]
  },
  {
   "cell_type": "code",
   "execution_count": null,
   "metadata": {},
   "outputs": [],
   "source": [
    "from model.genesis_states import generate_initial_state\n",
    "\n",
    "initial_values = generate_initial_state(\"data/0xfa2562da1bba7b954f26c74725df51fb62646313-initial_pool_states-prices.json\", \"USD\")\n",
    "\n",
    "print(initial_values)\n"
   ]
  },
  {
   "cell_type": "markdown",
   "metadata": {},
   "source": [
    "#### State Variables and Initial Values"
   ]
  },
  {
   "cell_type": "code",
   "execution_count": null,
   "metadata": {},
   "outputs": [],
   "source": [
    "print('## State Variables')\n",
    "print('# Pool')\n",
    "initial_values['tx_cost'] = TokenAmount(symbol='USD', amount=Decimal(30))\n",
    "initial_values['change_datetime'] = '2020-12-07T13:34:14+00:00'\n",
    "initial_values['action_type'] = 'pool_creation'\n",
    "\n",
    "pp.pprint(initial_values)\n"
   ]
  },
  {
   "cell_type": "markdown",
   "metadata": {},
   "source": [
    "#### External USD Token Prices"
   ]
  },
  {
   "cell_type": "code",
   "execution_count": null,
   "metadata": {},
   "outputs": [],
   "source": [
    "print('# External token prices, initial state')\n",
    "token_prices = initial_values['token_prices']\n",
    "pp.pprint(token_prices)\n",
    "\n",
    "print('# Action Type')\n",
    "action_type = initial_values['action_type']\n",
    "pp.pprint(action_type)\n"
   ]
  },
  {
   "cell_type": "markdown",
   "metadata": {},
   "source": [
    "### B1.3 State Update Functions & Policies\n",
    "\n",
    "Balancer Simulations replicate Balancer Pool Transactions in state update functions.  \n",
    "For a detailed description, please visit the [Balancer Simulations documentation](https://token-engineering-balancer.gitbook.io/balancer-simulations/additional-code-and-instructions/balancer-the-python-edition)."
   ]
  },
  {
   "cell_type": "markdown",
   "metadata": {},
   "source": [
    "### B1.4 Partial State Update Blocks\n",
    "\n",
    "Partial State Update Blocks combine the following steps:  \n",
    "1. **Initialize pool**, generate genesis state\n",
    "2. Compute subsequent **actions in discrete timesteps**, store datetime and update the pool state variables\n",
    "3. Update external **USD prices in discrete timesteps**, and store datetime  \n",
    "\n",
    "For more information please visit the [Balancer Simulations documentation/Model Overview](https://token-engineering-balancer.gitbook.io/balancer-simulations/v/master/balancer-simulations/v10nboverview).  \n",
    "\n",
    "To inject historical on-chain transactions to the model, reference the **actions.json of your pool below**."
   ]
  },
  {
   "cell_type": "code",
   "execution_count": null,
   "metadata": {},
   "outputs": [],
   "source": [
    "from model.partial_state_update_block import generate_partial_state_update_blocks\n",
    "\n",
    "result = generate_partial_state_update_blocks(path_to_action_json='data/0xfa2562da1bba7b954f26c74725df51fb62646313-actions.json',\n",
    "                                              add_arbitrage=False)\n",
    "partial_state_update_blocks = result['partial_state_update_blocks']\n",
    "pp.pprint(partial_state_update_blocks)"
   ]
  },
  {
   "cell_type": "markdown",
   "metadata": {},
   "source": [
    "### B1.5 Configuration\n",
    "\n",
    "[cadCAD simulations](https://github.com/cadCAD-org/cadCAD/blob/master/documentation/README.md) support Monte Carlo runs, and parameter sweeps which are not applied in this notebook and can be ignored here.  \n",
    "Timesteps 'T' are defined by your pool's .json file, no need to make edits here."
   ]
  },
  {
   "cell_type": "code",
   "execution_count": null,
   "metadata": {},
   "outputs": [],
   "source": [
    "steps_number = result['steps_number']\n",
    "print('# Steps ', steps_number)\n",
    "sim_config = config_sim(\n",
    "    {\n",
    "        'N': 1,  # number of monte carlo runs\n",
    "        'T': range(steps_number - 1),  # number of timesteps\n",
    "        'M': parameters,  # simulation parameters\n",
    "    }\n",
    ")"
   ]
  },
  {
   "cell_type": "markdown",
   "metadata": {},
   "source": [
    "### B1.6 Execution"
   ]
  },
  {
   "cell_type": "code",
   "execution_count": null,
   "metadata": {},
   "outputs": [],
   "source": [
    "from model.sim_runner import *\n",
    "from ipdb import launch_ipdb_on_exception\n",
    "\n",
    "\n",
    "with launch_ipdb_on_exception():\n",
    "    df = run(initial_values, partial_state_update_blocks, sim_config)"
   ]
  },
  {
   "cell_type": "markdown",
   "metadata": {},
   "source": [
    "### B1.7 Simulation Output Preparation\n",
    "\n",
    "Post-processing (utils.py) splits up state variable dictionaries, and adds metrics to the data frame, such as \n",
    "- `token_total_value` (TVL)\n",
    "- `generated_fees_(tokensymbol)` (fee collected per transaction)\n",
    "- `token_k_values`  (token value in USD)  \n",
    "based on  \n",
    "- `token_k_balances`\n",
    "- `token_k_price`  (external price feed)"
   ]
  },
  {
   "cell_type": "code",
   "execution_count": null,
   "metadata": {},
   "outputs": [],
   "source": [
    "from data.utils import save_pickle, load_pickle\n",
    "# save_pickle(df, \"NB3df.pickle\")\n",
    "# df = load_pickle(\"NB3-noswaps.pickle\")"
   ]
  },
  {
   "cell_type": "code",
   "execution_count": null,
   "metadata": {
    "scrolled": false
   },
   "outputs": [],
   "source": [
    "from model.parts.utils import post_processing\n",
    "p_df = post_processing(df, include_spot_prices=True)\n",
    "# import ipdb; ipdb.set_trace()\n",
    "# p_df = p_df[p_df['substep'] == 2]\n",
    "p_df.tail()"
   ]
  },
  {
   "cell_type": "markdown",
   "metadata": {},
   "source": [
    "# C. Simulation Outcome & Pool Exploration\n",
    "\n",
    "The plots below offer some keys metrics for pool analysis.\n",
    "\n",
    "**a) Pool Power:**  \n",
    "- C1.1 TVL (Total Value Locked) vs. Pool Growth (token balances in the pool, over time)\n",
    "- C1.2 Token Balances (individual token balances, over time)\n",
    "\n",
    "**b) Pool Characteristics:**  \n",
    "- C1.3 Sources of Pool Growth (BPT, Fees)\n",
    "- C1.4 Token Ratio\n",
    "- C1.5 Action Types"
   ]
  },
  {
   "cell_type": "code",
   "execution_count": null,
   "metadata": {},
   "outputs": [],
   "source": [
    "import pandas as pd\n",
    "import plotly.express as px\n",
    "import plotly.graph_objects as go\n",
    "from plotly.subplots import make_subplots"
   ]
  },
  {
   "cell_type": "code",
   "execution_count": null,
   "metadata": {},
   "outputs": [],
   "source": [
    "print(\"Observation Time\")\n",
    "print(f\"Start: {p_df['change_datetime'].min()}\")\n",
    "print(f\"End: {p_df['change_datetime'].max()}\")\n",
    "print(f\"Total Observation Period: {p_df['change_datetime'].max() - p_df['change_datetime'].min()}\")\n",
    "print(\"\\n\")\n",
    "print(f\"Total No. of Timesteps (incl. Price Updates): {(p_df.iloc[-1]['timestep'])}\")\n",
    "print(f\"Total No. of Transactions: {len(p_df[p_df.action_type != 'external_price_update'])}\")"
   ]
  },
  {
   "cell_type": "markdown",
   "metadata": {},
   "source": [
    "### Balances"
   ]
  },
  {
   "cell_type": "code",
   "execution_count": null,
   "metadata": {
    "scrolled": true
   },
   "outputs": [],
   "source": [
    "fig = make_subplots(specs=[[{'secondary_y': True}]])\n",
    "fig.add_trace(go.Scatter(x=p_df.timestep, y=p_df.token_snx_balance, line=dict(color='green'), name=\"Balance SNX\"), secondary_y=False)\n",
    "fig.add_trace(go.Scatter(x=p_df.timestep, y=p_df.token_sushi_balance, line=dict(color='blue'), name=\"Balance SUSHI\"), secondary_y=False)\n",
    "\n",
    "fig.update_layout(title_text='<b>Token Balances</b>')\n",
    "fig.update_xaxes(title_text='timestep')\n",
    "\n",
    "fig.show()  "
   ]
  },
  {
   "cell_type": "code",
   "execution_count": null,
   "metadata": {},
   "outputs": [],
   "source": [
    "fig = make_subplots(specs=[[{'secondary_y': True}]])\n",
    "fig.add_trace(go.Scatter(x=p_df.timestep, y=p_df.token_aave_balance, line=dict(color='red'), name=\"Balance AAVE\"), secondary_y=False)\n",
    "fig.add_trace(go.Scatter(x=p_df.timestep, y=p_df.token_yfi_balance, line=dict(color='black'), name=\"Balance YFI\"), secondary_y=True)\n",
    "\n",
    "fig.update_layout(title_text='<b>Token Balances</b>')\n",
    "fig.update_xaxes(title_text='timestep')\n",
    "\n",
    "fig.show()  "
   ]
  },
  {
   "cell_type": "code",
   "execution_count": null,
   "metadata": {},
   "outputs": [],
   "source": [
    "### Prices"
   ]
  },
  {
   "cell_type": "code",
   "execution_count": null,
   "metadata": {},
   "outputs": [],
   "source": [
    "# fig = make_subplots(specs=[[{'secondary_y': True}]])\n",
    "fig = make_subplots(rows=3, cols=2, subplot_titles=('External Price AAVE', 'External Price SNX', 'External Price SUSHI', 'External Price YFI', 'Spot Price AAVE YFI'))\n",
    "\n",
    "fig.add_trace(go.Scatter(x=p_df.timestep, y=p_df.token_aave_price, line=dict(color='red'), name=\"External Price AAVE\"), secondary_y=False, row=1, col=1)\n",
    "fig.add_trace(go.Scatter(x=p_df.timestep, y=p_df.token_snx_price, line=dict(color='green'), name=\"External Price SNX\"), secondary_y=False, row=1, col=2)\n",
    "fig.add_trace(go.Scatter(x=p_df.timestep, y=p_df.token_sushi_price, line=dict(color='blue'), name=\"External Price SUSHI\"), secondary_y=False, row=2, col=1)\n",
    "fig.add_trace(go.Scatter(x=p_df.timestep, y=p_df.token_yfi_price, line=dict(color='black'), name=\"External Price YFI\"), secondary_y=False, row=2, col=2)\n",
    "\n",
    "fig.add_trace(go.Scatter(x=p_df.timestep, y=p_df.token_spot_price_aave_yfi, line=dict(color='#803050'), name=\"Spot Price AAVE YFI\"), row=3, col=1)\n",
    "\n",
    "fig.update_layout(title_text='<b>External Prices</b>')\n",
    "fig.update_xaxes(title_text='timestep')\n",
    "\n",
    "fig.show()  "
   ]
  },
  {
   "cell_type": "markdown",
   "metadata": {},
   "source": [
    "### C1.1 TVL & Pool Size Growth"
   ]
  },
  {
   "cell_type": "code",
   "execution_count": null,
   "metadata": {},
   "outputs": [],
   "source": [
    "#TVL vs. Pool Size Growth\n",
    "fig = make_subplots(specs=[[{'secondary_y': True}]])\n",
    "fig.add_trace(go.Scatter(x=p_df.timestep, y=p_df.tvl, line=dict(color='#f36315'), name=\"TVL total_token_value\"), secondary_y=False)\n",
    "fig.add_trace(go.Scatter(x=p_df.timestep,y=p_df.total_token_balances, line=dict(color='#2C1839'), name=\"total_token_balance\"), secondary_y=True)\n",
    "fig.update_layout(title_text='<b>TVL vs. Pool Growth</b>')\n",
    "fig.update_xaxes(title_text='timestep')\n",
    "fig.update_yaxes(title_text='<b>TVL total_token_value</b> in USD', secondary_y=False)\n",
    "fig.update_yaxes(title_text='<b>total_token_balance</b> in #', secondary_y=True)\n",
    "fig.show()  "
   ]
  },
  {
   "cell_type": "markdown",
   "metadata": {},
   "source": [
    "### C1.1 Pool Invariant & Pool Size Growth"
   ]
  },
  {
   "cell_type": "code",
   "execution_count": null,
   "metadata": {},
   "outputs": [],
   "source": [
    "#TVL vs. Pool Size Growth\n",
    "fig = make_subplots(specs=[[{'secondary_y': True}]])\n",
    "fig.add_trace(go.Scatter(x=p_df.timestep, y=p_df.invariant, line=dict(color='red'), name=\"Invariant in #\"), secondary_y=False)\n",
    "fig.add_trace(go.Scatter(x=p_df.timestep,y=p_df.total_token_balances, line=dict(color='#2C1839'), name=\"total_token_balance\"), secondary_y=True)\n",
    "fig.update_layout(title_text='<b>Invariant vs. Pool Growth</b>')\n",
    "fig.update_xaxes(title_text='timestep')\n",
    "fig.update_yaxes(title_text='<b>Invariant</b> in #', secondary_y=False)\n",
    "fig.update_yaxes(title_text='<b>total_token_balance</b> in #', secondary_y=True)\n",
    "fig.show()  "
   ]
  },
  {
   "cell_type": "markdown",
   "metadata": {},
   "source": [
    "### C1.2 Token Balances"
   ]
  },
  {
   "cell_type": "code",
   "execution_count": null,
   "metadata": {
    "scrolled": false
   },
   "outputs": [],
   "source": [
    "#balance growth % (total observation period)\n",
    "aave_growth = ((p_df.iloc[-1][['token_aave_balance']])-(p_df.iloc[0][['token_aave_balance']]))*100/(p_df.iloc[0][['token_aave_balance']])\n",
    "snx_growth = ((p_df.iloc[-1][['token_snx_balance']])-(p_df.iloc[0][['token_snx_balance']]))*100/(p_df.iloc[0][['token_snx_balance']])\n",
    "sushi_growth = ((p_df.iloc[-1][['token_sushi_balance']])-(p_df.iloc[0][['token_sushi_balance']]))*100/(p_df.iloc[0][['token_sushi_balance']])\n",
    "yfi_growth = ((p_df.iloc[-1][['token_yfi_balance']])-(p_df.iloc[0][['token_yfi_balance']]))*100/(p_df.iloc[0][['token_yfi_balance']])\n",
    "growth = list(zip(aave_growth, snx_growth, sushi_growth, yfi_growth)) \n",
    "g_df = pd.DataFrame(growth, columns = ['aave_growth','snx_growth','sushi_growth','yfi_growth' ]).transpose(copy=True).reset_index()\n",
    "g_df.columns =['token', 'growth']\n",
    "print(g_df)\n",
    "#plot\n",
    "fig = make_subplots(rows=3, cols=2, subplot_titles=('AAVE Growth', 'Balance Growth in %', 'SNX Growth', 'SUSHI Growth', 'YFI Growth'))\n",
    "fig.add_trace(go.Scatter(x=p_df.timestep, y=p_df.token_aave_balance, line=dict(color='#4675ed'), name='token_aave_balance'), row=1, col=1)\n",
    "fig.add_trace(go.Scatter(x=p_df.timestep, y=p_df.token_snx_balance, line=dict(color='#4145ab'), name='token_snx_balance'), row=2, col=1)\n",
    "fig.add_trace(go.Scatter(x=p_df.timestep, y=p_df.token_sushi_balance, line=dict(color='#3135ab'), name='token_sushi_balance'), row=2, col=2)\n",
    "fig.add_trace(go.Scatter(x=p_df.timestep, y=p_df.token_yfi_balance, line=dict(color='#2125ab'), name='token_yfi_balance'), row=3, col=1)\n",
    "fig.add_trace(go.Bar(y=g_df.growth, x=g_df.token, marker_color=['#4675ed','#4145ab']), row=1, col=2)\n",
    "fig.update_layout(height=600, width=1000, showlegend=False, title_text='<b>Balance Growth</b> in observation period')\n",
    "fig.show()"
   ]
  },
  {
   "cell_type": "markdown",
   "metadata": {},
   "source": [
    "### C1.3 Sources of Growth "
   ]
  },
  {
   "cell_type": "code",
   "execution_count": null,
   "metadata": {},
   "outputs": [],
   "source": [
    "#Shares vs Share Price Growth\n",
    "fig = make_subplots(specs=[[{'secondary_y': True}]])\n",
    "initial_share_price = p_df.share_price.iloc[0]\n",
    "share_price_normalized = p_df.share_price / initial_share_price\n",
    "fig.add_trace(go.Scatter(x=p_df.timestep, y=p_df.shares, line=dict(color='red'), name=\"Shares\"), secondary_y=False)\n",
    "fig.add_trace(go.Scatter(x=p_df.timestep,y=share_price_normalized, line=dict(color='#2C1839'), name=\"Share Price Growth\"), secondary_y=True)\n",
    "fig.update_layout(title_text='<b>Shares (BPT) vs Share Price Growth</b>')\n",
    "fig.update_xaxes(title_text='timestep')\n",
    "fig.update_yaxes(title_text='<b>Shares</b> in # Tokens', secondary_y=False)\n",
    "fig.update_yaxes(title_text='<b>Share Price Growth</b> (normalized)', secondary_y=True)\n",
    "fig.show()  "
   ]
  },
  {
   "cell_type": "code",
   "execution_count": null,
   "metadata": {},
   "outputs": [],
   "source": [
    "#Fees\n",
    "fig = make_subplots(rows=4, cols=1)\n",
    "fig.add_trace(go.Scatter(x=p_df.timestep, y=p_df.generated_fees_aave, line=dict(color='red'), name='fees AAVE'), row=1, col=1)\n",
    "fig.add_trace(go.Scatter(x=p_df.timestep, y=p_df.generated_fees_snx, line=dict(color='green'), name='fees SNX'), row=2, col=1)\n",
    "fig.add_trace(go.Scatter(x=p_df.timestep, y=p_df.generated_fees_sushi, line=dict(color='blue'), name='fees SUSHI'), row=3, col=1)\n",
    "fig.add_trace(go.Scatter(x=p_df.timestep, y=p_df.generated_fees_yfi, line=dict(color='black'), name='fees YFI'), row=4, col=1)\n",
    "fig.update_yaxes(title_text='token amount', secondary_y=False)\n",
    "fig.update_layout(height=500, width=1000, title_text='<b>Fees Generated</b> per transaction')"
   ]
  },
  {
   "cell_type": "code",
   "execution_count": null,
   "metadata": {},
   "outputs": [],
   "source": [
    "# DAI fee events vs. ETH fee events\n",
    "AAVE_fee_events = len(p_df[p_df.generated_fees_aave > 0])\n",
    "SNX_fee_events = len(p_df[p_df.generated_fees_snx > 0])\n",
    "SUSHI_fee_events = len(p_df[p_df.generated_fees_sushi > 0])\n",
    "YFI_fee_events = len(p_df[p_df.generated_fees_yfi > 0])\n",
    "\n",
    "values = [AAVE_fee_events, SNX_fee_events, SUSHI_fee_events, YFI_fee_events]\n",
    "labels = ['AAVE fees', 'SNX fees', 'SUSHI fees', 'YFI fees']\n",
    "fig = go.Figure(data=[go.Pie(labels=labels, values=values)])\n",
    "fig.update_traces(hoverinfo='label+percent', marker=dict(colors=['red','green','blue','black']))\n",
    "fig.update_layout(height=500, width=1000, title_text='<b>Fee generating events</b> in total observation time')\n",
    "fig.show()"
   ]
  },
  {
   "cell_type": "code",
   "execution_count": null,
   "metadata": {},
   "outputs": [],
   "source": [
    "#proportions of fee value contribution, in fixed USD value\n",
    "aavef = p_df.groupby('action_type').sum()['generated_fees_aave'].drop(['external_price_update'])\n",
    "snxf = p_df.groupby('action_type').sum()['generated_fees_snx'].drop(['external_price_update'])\n",
    "sushif = p_df.groupby('action_type').sum()['generated_fees_sushi'].drop(['external_price_update'])\n",
    "yfif = p_df.groupby('action_type').sum()['generated_fees_yfi'].drop(['external_price_update'])\n",
    "fee_v = pd.concat([aavef, snxf, sushif, yfif], axis=1)\n",
    "\n",
    "#calculate USD value (define USD value, in this case locked to initial state observation time)\n",
    "#calculate USD value (define USD value, in this case locked to initial state observation time)\n",
    "fee_v['AAVE_fee_value'] = fee_v.generated_fees_aave*489.4165 #define AAVE price\n",
    "fee_v['SNX_fee_value'] = fee_v.generated_fees_snx*21.305500000000002 #define SNX price\n",
    "fee_v['SUSHI_fee_value'] = fee_v.generated_fees_sushi*14.125 #define SUSHI price\n",
    "fee_v['YFI_fee_value'] = fee_v.generated_fees_yfi*32569.655 #define YFI price\n",
    "\n",
    "#add total \n",
    "fee_v = fee_v.append(fee_v.sum().rename('total'))\n",
    "print(fee_v)\n",
    "\n",
    "#plot pie chart comparing ETH fees vs DAI fees\n",
    "values = [fee_v.loc['total']['AAVE_fee_value'], fee_v.loc['total']['SNX_fee_value'], fee_v.loc['total']['SUSHI_fee_value'], fee_v.loc['total']['YFI_fee_value']] \n",
    "labels = ['AAVE_fees', 'SNX_fees', 'SUSHI_fees', 'YFI_fees']\n",
    "fig = go.Figure(data=[go.Pie(labels=labels, values=values)])\n",
    "fig.update_traces(hoverinfo='label+percent', marker=dict(colors=['red','green', 'blue', 'black']))\n",
    "fig.update_layout(height=500, width=1000, title_text=\"<b>Fee value contribution</b> in USD, in total observation time\")\n",
    "fig.show()"
   ]
  },
  {
   "cell_type": "code",
   "execution_count": null,
   "metadata": {},
   "outputs": [],
   "source": [
    "# FEE PER DAY/in fixed USD value\n",
    "\n",
    "#calculate USD value (define USD value, in this case locked to initial state observation time)\n",
    "fee_t = p_df[['change_datetime']].dropna()\n",
    "fee_t['AAVE_fee_value'] = p_df.generated_fees_aave*489.4165 #define AAVE price\n",
    "fee_t['SNX_fee_value'] = p_df.generated_fees_snx*21.305500000000002 #define SNX price\n",
    "fee_t['SUSHI_fee_value'] = p_df.generated_fees_sushi*14.125 #define SUSHI price\n",
    "fee_t['YFI_fee_value'] = p_df.generated_fees_yfi*32569.665 #define YFI price\n",
    "daily = fee_t.groupby(pd.Grouper(key='change_datetime',freq='D')).sum() #sum per week\n",
    "\n",
    "#plot value per week\n",
    "fig = go.Figure(data=[\n",
    "\tgo.Bar(name='AAVE fees', x=daily.index, y=daily.AAVE_fee_value, marker_color='red', offsetgroup=0),\n",
    "\tgo.Bar(name='SNX fees', x=daily.index, y=daily.SNX_fee_value, marker_color='green', offsetgroup=1),\n",
    "\tgo.Bar(name='SUSHI fees', x=daily.index, y=daily.SUSHI_fee_value, marker_color='blue', offsetgroup=2),\n",
    "\tgo.Bar(name='YFI fees', x=daily.index, y=daily.YFI_fee_value, marker_color='black', offsetgroup=3)], layout=go.Layout(title='<b>Fees per day</b> in USD', yaxis_title='USD value'))\n",
    "fig.show()"
   ]
  },
  {
   "cell_type": "markdown",
   "metadata": {},
   "source": [
    "### C1.4 Token Ratio"
   ]
  },
  {
   "cell_type": "code",
   "execution_count": null,
   "metadata": {
    "scrolled": true
   },
   "outputs": [],
   "source": [
    "events = [0, -1] #Start/End of observation period\n",
    "ratio = pd.DataFrame(p_df.iloc[events][['token_aave_balance','token_snx_balance','token_sushi_balance','token_yfi_balance']]).transpose(copy=True)\n",
    "ratio.columns =['start', 'end'] \n",
    "#plot\n",
    "fig = make_subplots(rows=1, cols=2, specs=[[{'type':'domain'}, {'type':'domain'}]])\n",
    "fig.add_trace(go.Pie(labels=ratio.index, values=ratio.start), 1, 1)\n",
    "fig.add_trace(go.Pie(labels=ratio.index, values=ratio.end), 1, 2)\n",
    "fig.update_traces(hoverinfo='label+percent+name', marker=dict(colors=['#4675ed','#4145ab']))\n",
    "fig.update_layout(height=400, width=1000, title_text='<b>Token Ratio</b> Start/End Observation Period in %')\n",
    "fig.show()"
   ]
  },
  {
   "cell_type": "code",
   "execution_count": null,
   "metadata": {},
   "outputs": [],
   "source": []
  }
 ],
 "metadata": {
  "kernelspec": {
   "display_name": "Python 3",
   "language": "python",
   "name": "python3"
  },
  "language_info": {
   "codemirror_mode": {
    "name": "ipython",
    "version": 3
   },
   "file_extension": ".py",
   "mimetype": "text/x-python",
   "name": "python",
   "nbconvert_exporter": "python",
   "pygments_lexer": "ipython3",
   "version": "3.9.4"
  }
 },
 "nbformat": 4,
 "nbformat_minor": 4
}
