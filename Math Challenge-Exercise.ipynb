{
 "cells": [
  {
   "cell_type": "markdown",
   "id": "fundamental-stack",
   "metadata": {},
   "source": [
    "# Balancer Simulations Math Challenge - Basic Exercises"
   ]
  },
  {
   "cell_type": "markdown",
   "id": "introductory-aspect",
   "metadata": {},
   "source": [
    "This is a series of exercises to gain intuition for the core algorithm in Balancer Pools: the Value Function, and invariant V."
   ]
  },
  {
   "cell_type": "markdown",
   "id": "friendly-halloween",
   "metadata": {},
   "source": [
    "**Exercise:** Please work on the questions in this notebook individually or in teams, we'll discuss solutions in our working session on June 16th, facilitated by Octopus and Angela.  \n",
    "**Challenges:** Step 2 will be more advanced challenges to be solved until July 28th."
   ]
  },
  {
   "cell_type": "markdown",
   "id": "improved-choir",
   "metadata": {},
   "source": [
    "## Exercise:   \n",
    "Let's set up a pool.  \n",
    "\n",
    "We have 100 Token A and 100 Token B, with equal weights.  \n",
    "The price definition in our pool is constraint by the\n",
    "Invariant V in Balancer Pools. \n",
    "\n",
    "a_bal = balance of token A  \n",
    "b_bal = balance of token B  \n",
    "a_weight = weight of token A  \n",
    "b_weight = weight of token B   \n",
    "\n",
    "The weights in this pool are equal for both tokens.\n",
    "For now, we don't have a swap fee."
   ]
  },
  {
   "cell_type": "markdown",
   "id": "bigger-influence",
   "metadata": {},
   "source": [
    "# Q1.1: \n",
    "What's the initial spot price of token A in token B?"
   ]
  },
  {
   "cell_type": "markdown",
   "id": "controlled-comparison",
   "metadata": {},
   "source": [
    "# Q1.2:\n",
    "Now let's assume a series of 99 swaps. With every swap, **1.0 token A is bought from the pool, against token B**.  \n",
    "\n",
    "**a) Create a table \"buy_A\"** with\n",
    "\n",
    "    the token A balances (swap by swap)\n",
    "    the token B balances (swap by swap) - that are constraint by the value function. \n",
    "\n",
    "**b) What do you notice in general?**\n",
    "Write down your findings (in words).\n",
    "\n",
    "**c) How much would Alice have to pay in token B when buying the first 1.0 token A?**\n",
    "Write down your findings (in words). Compare with the initial Spotprice."
   ]
  },
  {
   "cell_type": "markdown",
   "id": "responsible-think",
   "metadata": {},
   "source": [
    "# Q1.3:\n",
    "\n",
    "Now let's assume a series of 99 swaps in the opposite direction. We start again with the original state: We have 100 Token A and 100 Token B.   \n",
    "With every swap, **1.0 token B is bought from the pool, against token A**.\n",
    "\n",
    "Create a table **'buy_B'** with\n",
    "\n",
    "    the token A balances (swap by swap)\n",
    "    the token B balances (swap by swap) - that are constraint by the value function."
   ]
  },
  {
   "cell_type": "markdown",
   "id": "controversial-approval",
   "metadata": {},
   "source": [
    "# Q1.4:\n",
    "What is the new price of token A in token B after 90 swaps token A for B?"
   ]
  },
  {
   "cell_type": "markdown",
   "id": "mediterranean-hotel",
   "metadata": {},
   "source": [
    "# Q1.5:  \n",
    "Now create a graph (use plotly or similar), and draw the full curve for this series of both kinds of swaps - the AMM curve."
   ]
  },
  {
   "cell_type": "markdown",
   "id": "sorted-nudist",
   "metadata": {},
   "source": [
    "# Q1.6:\n",
    "Take this plot, and mark \n",
    "- the initial price in Q1.1 (starting price)\n",
    "- the new price in Q1.4 (after 90 swaps)"
   ]
  },
  {
   "cell_type": "markdown",
   "id": "stuffed-cursor",
   "metadata": {},
   "source": [
    "# Q1.7:\n",
    "Formulate a \"rule of a thumb\", how do swaps effect the price?"
   ]
  },
  {
   "cell_type": "markdown",
   "id": "tough-sixth",
   "metadata": {},
   "source": [
    "# Now, let's consider weights!"
   ]
  },
  {
   "cell_type": "markdown",
   "id": "soviet-fruit",
   "metadata": {},
   "source": [
    "We continue with the value function V = a^w_a*b^w_b  \n",
    "where  \n",
    "a = balance of token asset A  \n",
    "b = balancer of token asset B  \n",
    "w_a = weight of token asset A  \n",
    "w_b = weight of token asset B  "
   ]
  },
  {
   "cell_type": "markdown",
   "id": "unnecessary-diagram",
   "metadata": {},
   "source": [
    "# Q2.1:  \n",
    "Write down the value function for the pool in Q1.1!"
   ]
  },
  {
   "cell_type": "markdown",
   "id": "informative-replication",
   "metadata": {},
   "source": [
    "# Q2.2:\n",
    "Let's got back to your initial balances in Step 1 in the pool:  \n",
    "100 tokens A  \n",
    "100 tokens B  \n",
    "\n",
    "How do you need to change the weights in order to land at a **price of  \n",
    "4 tokens A : 1 token B**"
   ]
  },
  {
   "cell_type": "markdown",
   "id": "political-huntington",
   "metadata": {},
   "source": [
    "Provide the new value function!"
   ]
  },
  {
   "cell_type": "markdown",
   "id": "bearing-single",
   "metadata": {},
   "source": [
    "# Q2.3:\n",
    "Create a graph showing the new AMM Curve in Q2.2  \n",
    "Compare to the graph in Q1.4 - how does a change in weights change the graph?"
   ]
  },
  {
   "cell_type": "markdown",
   "id": "level-mercury",
   "metadata": {},
   "source": [
    "# Q2.4:\n",
    "Compare token prices in this pool.  \n",
    "How much would Alice have to pay in case there are only 2 tokens left in the pool  \n",
    "    **a) buy 1.0 token A for token B**  \n",
    "    **b) buy 1.0 token B for token A**   "
   ]
  }
 ],
 "metadata": {
  "kernelspec": {
   "display_name": "Python 3",
   "language": "python",
   "name": "python3"
  },
  "language_info": {
   "codemirror_mode": {
    "name": "ipython",
    "version": 3
   },
   "file_extension": ".py",
   "mimetype": "text/x-python",
   "name": "python",
   "nbconvert_exporter": "python",
   "pygments_lexer": "ipython3",
   "version": "3.9.2"
  }
 },
 "nbformat": 4,
 "nbformat_minor": 5
}
